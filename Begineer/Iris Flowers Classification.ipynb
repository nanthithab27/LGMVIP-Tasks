{
 "cells": [
  {
   "cell_type": "markdown",
   "id": "8006cf4b",
   "metadata": {},
   "source": [
    "# LGMVIP - Data Science June 2023\n",
    "Author : Nanthitha B\n",
    "\n",
    "Task 1: Iris Classification\n",
    "\n",
    "\n",
    "Level: Beginner"

DataSet Link: http://archive.ics.uci.edu/dataset/53/iris
   ]
  },
  {
   "cell_type": "markdown",
   "id": "7ede7317",
   "metadata": {},
   "source": [
    "# Steps to build a ML model:\n",
    "1. Importing the dataset\n",
    "2. Visualize the data\n",
    "3. Data preparation and filtering\n",
    "4. Train the algorithm\n",
    "5. Normalization of data\n",
    "6. Model Evolution"
   ]
  },
  {
   "cell_type": "markdown",
   "id": "7e289d95",
   "metadata": {},
   "source": [
    "# Importing libraries"
   ]
  },
  {
   "cell_type": "code",
   "execution_count": 137,
   "id": "0d3c490c",
   "metadata": {},
   "outputs": [],
   "source": [
    "import numpy as np\n",
    "import pandas as pd\n",
    "import seaborn as sns\n",
    "import matplotlib.pyplot as plt\n",
    "from sklearn.model_selection import train_test_split\n",
    "from sklearn.linear_model import LinearRegression\n",
    "from sklearn.metrics import accuracy_score\n",
    "from sklearn.metrics import mean_squared_error"
   ]
  },
  {
   "cell_type": "markdown",
   "id": "265f8ff8",
   "metadata": {},
   "source": [
    "# Importing the dataset"
   ]
  },
  {
   "cell_type": "code",
   "execution_count": 123,
   "id": "6cb059e9",
   "metadata": {},
   "outputs": [
    {
     "data": {
      "text/html": [
       "<div>\n",
       "<style scoped>\n",
       "    .dataframe tbody tr th:only-of-type {\n",
       "        vertical-align: middle;\n",
       "    }\n",
       "\n",
       "    .dataframe tbody tr th {\n",
       "        vertical-align: top;\n",
       "    }\n",
       "\n",
       "    .dataframe thead th {\n",
       "        text-align: right;\n",
       "    }\n",
       "</style>\n",
       "<table border=\"1\" class=\"dataframe\">\n",
       "  <thead>\n",
       "    <tr style=\"text-align: right;\">\n",
       "      <th></th>\n",
       "      <th>id</th>\n",
       "      <th>sepal_length</th>\n",
       "      <th>sepal_width</th>\n",
       "      <th>petal_length</th>\n",
       "      <th>petal_width</th>\n",
       "      <th>species</th>\n",
       "    </tr>\n",
       "  </thead>\n",
       "  <tbody>\n",
       "    <tr>\n",
       "      <th>0</th>\n",
       "      <td>1</td>\n",
       "      <td>5.1</td>\n",
       "      <td>3.5</td>\n",
       "      <td>1.4</td>\n",
       "      <td>0.2</td>\n",
       "      <td>Iris-setosa</td>\n",
       "    </tr>\n",
       "    <tr>\n",
       "      <th>1</th>\n",
       "      <td>2</td>\n",
       "      <td>4.9</td>\n",
       "      <td>3.0</td>\n",
       "      <td>1.4</td>\n",
       "      <td>0.2</td>\n",
       "      <td>Iris-setosa</td>\n",
       "    </tr>\n",
       "    <tr>\n",
       "      <th>2</th>\n",
       "      <td>3</td>\n",
       "      <td>4.7</td>\n",
       "      <td>3.2</td>\n",
       "      <td>1.3</td>\n",
       "      <td>0.2</td>\n",
       "      <td>Iris-setosa</td>\n",
       "    </tr>\n",
       "    <tr>\n",
       "      <th>3</th>\n",
       "      <td>4</td>\n",
       "      <td>4.6</td>\n",
       "      <td>3.1</td>\n",
       "      <td>1.5</td>\n",
       "      <td>0.2</td>\n",
       "      <td>Iris-setosa</td>\n",
       "    </tr>\n",
       "    <tr>\n",
       "      <th>4</th>\n",
       "      <td>5</td>\n",
       "      <td>5.0</td>\n",
       "      <td>3.6</td>\n",
       "      <td>1.4</td>\n",
       "      <td>0.2</td>\n",
       "      <td>Iris-setosa</td>\n",
       "    </tr>\n",
       "    <tr>\n",
       "      <th>...</th>\n",
       "      <td>...</td>\n",
       "      <td>...</td>\n",
       "      <td>...</td>\n",
       "      <td>...</td>\n",
       "      <td>...</td>\n",
       "      <td>...</td>\n",
       "    </tr>\n",
       "    <tr>\n",
       "      <th>145</th>\n",
       "      <td>146</td>\n",
       "      <td>6.7</td>\n",
       "      <td>3.0</td>\n",
       "      <td>5.2</td>\n",
       "      <td>2.3</td>\n",
       "      <td>Iris-virginica</td>\n",
       "    </tr>\n",
       "    <tr>\n",
       "      <th>146</th>\n",
       "      <td>147</td>\n",
       "      <td>6.3</td>\n",
       "      <td>2.5</td>\n",
       "      <td>5.0</td>\n",
       "      <td>1.9</td>\n",
       "      <td>Iris-virginica</td>\n",
       "    </tr>\n",
       "    <tr>\n",
       "      <th>147</th>\n",
       "      <td>148</td>\n",
       "      <td>6.5</td>\n",
       "      <td>3.0</td>\n",
       "      <td>5.2</td>\n",
       "      <td>2.0</td>\n",
       "      <td>Iris-virginica</td>\n",
       "    </tr>\n",
       "    <tr>\n",
       "      <th>148</th>\n",
       "      <td>149</td>\n",
       "      <td>6.2</td>\n",
       "      <td>3.4</td>\n",
       "      <td>5.4</td>\n",
       "      <td>2.3</td>\n",
       "      <td>Iris-virginica</td>\n",
       "    </tr>\n",
       "    <tr>\n",
       "      <th>149</th>\n",
       "      <td>150</td>\n",
       "      <td>5.9</td>\n",
       "      <td>3.0</td>\n",
       "      <td>5.1</td>\n",
       "      <td>1.8</td>\n",
       "      <td>Iris-virginica</td>\n",
       "    </tr>\n",
       "  </tbody>\n",
       "</table>\n",
       "<p>150 rows × 6 columns</p>\n",
       "</div>"
      ],
      "text/plain": [
       "      id  sepal_length  sepal_width  petal_length  petal_width         species\n",
       "0      1           5.1          3.5           1.4          0.2     Iris-setosa\n",
       "1      2           4.9          3.0           1.4          0.2     Iris-setosa\n",
       "2      3           4.7          3.2           1.3          0.2     Iris-setosa\n",
       "3      4           4.6          3.1           1.5          0.2     Iris-setosa\n",
       "4      5           5.0          3.6           1.4          0.2     Iris-setosa\n",
       "..   ...           ...          ...           ...          ...             ...\n",
       "145  146           6.7          3.0           5.2          2.3  Iris-virginica\n",
       "146  147           6.3          2.5           5.0          1.9  Iris-virginica\n",
       "147  148           6.5          3.0           5.2          2.0  Iris-virginica\n",
       "148  149           6.2          3.4           5.4          2.3  Iris-virginica\n",
       "149  150           5.9          3.0           5.1          1.8  Iris-virginica\n",
       "\n",
       "[150 rows x 6 columns]"
      ]
     },
     "execution_count": 123,
     "metadata": {},
     "output_type": "execute_result"
    }
   ],
   "source": [
    "x=pd.read_csv(\"C:\\\\Users\\\\nanth\\\\OneDrive\\\\Desktop\\\\IRIS.csv\")\n",
    "x"
   ]
  },
  {
   "cell_type": "code",
   "execution_count": 124,
   "id": "58beb133",
   "metadata": {},
   "outputs": [
    {
     "data": {
      "text/html": [
       "<div>\n",
       "<style scoped>\n",
       "    .dataframe tbody tr th:only-of-type {\n",
       "        vertical-align: middle;\n",
       "    }\n",
       "\n",
       "    .dataframe tbody tr th {\n",
       "        vertical-align: top;\n",
       "    }\n",
       "\n",
       "    .dataframe thead th {\n",
       "        text-align: right;\n",
       "    }\n",
       "</style>\n",
       "<table border=\"1\" class=\"dataframe\">\n",
       "  <thead>\n",
       "    <tr style=\"text-align: right;\">\n",
       "      <th></th>\n",
       "      <th>id</th>\n",
       "      <th>sepal_length</th>\n",
       "      <th>sepal_width</th>\n",
       "      <th>petal_length</th>\n",
       "      <th>petal_width</th>\n",
       "      <th>species</th>\n",
       "    </tr>\n",
       "  </thead>\n",
       "  <tbody>\n",
       "    <tr>\n",
       "      <th>0</th>\n",
       "      <td>1</td>\n",
       "      <td>5.1</td>\n",
       "      <td>3.5</td>\n",
       "      <td>1.4</td>\n",
       "      <td>0.2</td>\n",
       "      <td>Iris-setosa</td>\n",
       "    </tr>\n",
       "    <tr>\n",
       "      <th>1</th>\n",
       "      <td>2</td>\n",
       "      <td>4.9</td>\n",
       "      <td>3.0</td>\n",
       "      <td>1.4</td>\n",
       "      <td>0.2</td>\n",
       "      <td>Iris-setosa</td>\n",
       "    </tr>\n",
       "    <tr>\n",
       "      <th>2</th>\n",
       "      <td>3</td>\n",
       "      <td>4.7</td>\n",
       "      <td>3.2</td>\n",
       "      <td>1.3</td>\n",
       "      <td>0.2</td>\n",
       "      <td>Iris-setosa</td>\n",
       "    </tr>\n",
       "    <tr>\n",
       "      <th>3</th>\n",
       "      <td>4</td>\n",
       "      <td>4.6</td>\n",
       "      <td>3.1</td>\n",
       "      <td>1.5</td>\n",
       "      <td>0.2</td>\n",
       "      <td>Iris-setosa</td>\n",
       "    </tr>\n",
       "    <tr>\n",
       "      <th>4</th>\n",
       "      <td>5</td>\n",
       "      <td>5.0</td>\n",
       "      <td>3.6</td>\n",
       "      <td>1.4</td>\n",
       "      <td>0.2</td>\n",
       "      <td>Iris-setosa</td>\n",
       "    </tr>\n",
       "  </tbody>\n",
       "</table>\n",
       "</div>"
      ],
      "text/plain": [
       "   id  sepal_length  sepal_width  petal_length  petal_width      species\n",
       "0   1           5.1          3.5           1.4          0.2  Iris-setosa\n",
       "1   2           4.9          3.0           1.4          0.2  Iris-setosa\n",
       "2   3           4.7          3.2           1.3          0.2  Iris-setosa\n",
       "3   4           4.6          3.1           1.5          0.2  Iris-setosa\n",
       "4   5           5.0          3.6           1.4          0.2  Iris-setosa"
      ]
     },
     "execution_count": 124,
     "metadata": {},
     "output_type": "execute_result"
    }
   ],
   "source": [
    "x.head()"
   ]
  },
  {
   "cell_type": "code",
   "execution_count": 125,
   "id": "151d6b76",
   "metadata": {},
   "outputs": [
    {
     "data": {
      "text/html": [
       "<div>\n",
       "<style scoped>\n",
       "    .dataframe tbody tr th:only-of-type {\n",
       "        vertical-align: middle;\n",
       "    }\n",
       "\n",
       "    .dataframe tbody tr th {\n",
       "        vertical-align: top;\n",
       "    }\n",
       "\n",
       "    .dataframe thead th {\n",
       "        text-align: right;\n",
       "    }\n",
       "</style>\n",
       "<table border=\"1\" class=\"dataframe\">\n",
       "  <thead>\n",
       "    <tr style=\"text-align: right;\">\n",
       "      <th></th>\n",
       "      <th>id</th>\n",
       "      <th>sepal_length</th>\n",
       "      <th>sepal_width</th>\n",
       "      <th>petal_length</th>\n",
       "      <th>petal_width</th>\n",
       "      <th>species</th>\n",
       "    </tr>\n",
       "  </thead>\n",
       "  <tbody>\n",
       "    <tr>\n",
       "      <th>0</th>\n",
       "      <td>1</td>\n",
       "      <td>5.1</td>\n",
       "      <td>3.5</td>\n",
       "      <td>1.4</td>\n",
       "      <td>0.2</td>\n",
       "      <td>Iris-setosa</td>\n",
       "    </tr>\n",
       "    <tr>\n",
       "      <th>1</th>\n",
       "      <td>2</td>\n",
       "      <td>4.9</td>\n",
       "      <td>3.0</td>\n",
       "      <td>1.4</td>\n",
       "      <td>0.2</td>\n",
       "      <td>Iris-setosa</td>\n",
       "    </tr>\n",
       "    <tr>\n",
       "      <th>2</th>\n",
       "      <td>3</td>\n",
       "      <td>4.7</td>\n",
       "      <td>3.2</td>\n",
       "      <td>1.3</td>\n",
       "      <td>0.2</td>\n",
       "      <td>Iris-setosa</td>\n",
       "    </tr>\n",
       "    <tr>\n",
       "      <th>3</th>\n",
       "      <td>4</td>\n",
       "      <td>4.6</td>\n",
       "      <td>3.1</td>\n",
       "      <td>1.5</td>\n",
       "      <td>0.2</td>\n",
       "      <td>Iris-setosa</td>\n",
       "    </tr>\n",
       "    <tr>\n",
       "      <th>4</th>\n",
       "      <td>5</td>\n",
       "      <td>5.0</td>\n",
       "      <td>3.6</td>\n",
       "      <td>1.4</td>\n",
       "      <td>0.2</td>\n",
       "      <td>Iris-setosa</td>\n",
       "    </tr>\n",
       "    <tr>\n",
       "      <th>5</th>\n",
       "      <td>6</td>\n",
       "      <td>5.4</td>\n",
       "      <td>3.9</td>\n",
       "      <td>1.7</td>\n",
       "      <td>0.4</td>\n",
       "      <td>Iris-setosa</td>\n",
       "    </tr>\n",
       "    <tr>\n",
       "      <th>6</th>\n",
       "      <td>7</td>\n",
       "      <td>4.6</td>\n",
       "      <td>3.4</td>\n",
       "      <td>1.4</td>\n",
       "      <td>0.3</td>\n",
       "      <td>Iris-setosa</td>\n",
       "    </tr>\n",
       "    <tr>\n",
       "      <th>7</th>\n",
       "      <td>8</td>\n",
       "      <td>5.0</td>\n",
       "      <td>3.4</td>\n",
       "      <td>1.5</td>\n",
       "      <td>0.2</td>\n",
       "      <td>Iris-setosa</td>\n",
       "    </tr>\n",
       "    <tr>\n",
       "      <th>8</th>\n",
       "      <td>9</td>\n",
       "      <td>4.4</td>\n",
       "      <td>2.9</td>\n",
       "      <td>1.4</td>\n",
       "      <td>0.2</td>\n",
       "      <td>Iris-setosa</td>\n",
       "    </tr>\n",
       "    <tr>\n",
       "      <th>9</th>\n",
       "      <td>10</td>\n",
       "      <td>4.9</td>\n",
       "      <td>3.1</td>\n",
       "      <td>1.5</td>\n",
       "      <td>0.1</td>\n",
       "      <td>Iris-setosa</td>\n",
       "    </tr>\n",
       "  </tbody>\n",
       "</table>\n",
       "</div>"
      ],
      "text/plain": [
       "   id  sepal_length  sepal_width  petal_length  petal_width      species\n",
       "0   1           5.1          3.5           1.4          0.2  Iris-setosa\n",
       "1   2           4.9          3.0           1.4          0.2  Iris-setosa\n",
       "2   3           4.7          3.2           1.3          0.2  Iris-setosa\n",
       "3   4           4.6          3.1           1.5          0.2  Iris-setosa\n",
       "4   5           5.0          3.6           1.4          0.2  Iris-setosa\n",
       "5   6           5.4          3.9           1.7          0.4  Iris-setosa\n",
       "6   7           4.6          3.4           1.4          0.3  Iris-setosa\n",
       "7   8           5.0          3.4           1.5          0.2  Iris-setosa\n",
       "8   9           4.4          2.9           1.4          0.2  Iris-setosa\n",
       "9  10           4.9          3.1           1.5          0.1  Iris-setosa"
      ]
     },
     "execution_count": 125,
     "metadata": {},
     "output_type": "execute_result"
    }
   ],
   "source": [
    "x.head(10)"
   ]
  },
  {
   "cell_type": "code",
   "execution_count": 13,
   "id": "fad293dd",
   "metadata": {},
   "outputs": [
    {
     "data": {
      "text/html": [
       "<div>\n",
       "<style scoped>\n",
       "    .dataframe tbody tr th:only-of-type {\n",
       "        vertical-align: middle;\n",
       "    }\n",
       "\n",
       "    .dataframe tbody tr th {\n",
       "        vertical-align: top;\n",
       "    }\n",
       "\n",
       "    .dataframe thead th {\n",
       "        text-align: right;\n",
       "    }\n",
       "</style>\n",
       "<table border=\"1\" class=\"dataframe\">\n",
       "  <thead>\n",
       "    <tr style=\"text-align: right;\">\n",
       "      <th></th>\n",
       "      <th>id</th>\n",
       "      <th>sepal_length</th>\n",
       "      <th>sepal_width</th>\n",
       "      <th>petal_length</th>\n",
       "      <th>petal_width</th>\n",
       "      <th>species</th>\n",
       "    </tr>\n",
       "  </thead>\n",
       "  <tbody>\n",
       "    <tr>\n",
       "      <th>145</th>\n",
       "      <td>146</td>\n",
       "      <td>6.7</td>\n",
       "      <td>3.0</td>\n",
       "      <td>5.2</td>\n",
       "      <td>2.3</td>\n",
       "      <td>Iris-virginica</td>\n",
       "    </tr>\n",
       "    <tr>\n",
       "      <th>146</th>\n",
       "      <td>147</td>\n",
       "      <td>6.3</td>\n",
       "      <td>2.5</td>\n",
       "      <td>5.0</td>\n",
       "      <td>1.9</td>\n",
       "      <td>Iris-virginica</td>\n",
       "    </tr>\n",
       "    <tr>\n",
       "      <th>147</th>\n",
       "      <td>148</td>\n",
       "      <td>6.5</td>\n",
       "      <td>3.0</td>\n",
       "      <td>5.2</td>\n",
       "      <td>2.0</td>\n",
       "      <td>Iris-virginica</td>\n",
       "    </tr>\n",
       "    <tr>\n",
       "      <th>148</th>\n",
       "      <td>149</td>\n",
       "      <td>6.2</td>\n",
       "      <td>3.4</td>\n",
       "      <td>5.4</td>\n",
       "      <td>2.3</td>\n",
       "      <td>Iris-virginica</td>\n",
       "    </tr>\n",
       "    <tr>\n",
       "      <th>149</th>\n",
       "      <td>150</td>\n",
       "      <td>5.9</td>\n",
       "      <td>3.0</td>\n",
       "      <td>5.1</td>\n",
       "      <td>1.8</td>\n",
       "      <td>Iris-virginica</td>\n",
       "    </tr>\n",
       "  </tbody>\n",
       "</table>\n",
       "</div>"
      ],
      "text/plain": [
       "      id  sepal_length  sepal_width  petal_length  petal_width         species\n",
       "145  146           6.7          3.0           5.2          2.3  Iris-virginica\n",
       "146  147           6.3          2.5           5.0          1.9  Iris-virginica\n",
       "147  148           6.5          3.0           5.2          2.0  Iris-virginica\n",
       "148  149           6.2          3.4           5.4          2.3  Iris-virginica\n",
       "149  150           5.9          3.0           5.1          1.8  Iris-virginica"
      ]
     },
     "execution_count": 13,
     "metadata": {},
     "output_type": "execute_result"
    }
   ],
   "source": [
    "x.tail()"
   ]
  },
  {
   "cell_type": "code",
   "execution_count": 126,
   "id": "043c0ae9",
   "metadata": {},
   "outputs": [
    {
     "data": {
      "text/plain": [
       "(150, 6)"
      ]
     },
     "execution_count": 126,
     "metadata": {},
     "output_type": "execute_result"
    }
   ],
   "source": [
    "x.shape"
   ]
  },
  {
   "cell_type": "code",
   "execution_count": 127,
   "id": "4447f481",
   "metadata": {},
   "outputs": [
    {
     "data": {
      "text/plain": [
       "id              0\n",
       "sepal_length    0\n",
       "sepal_width     0\n",
       "petal_length    0\n",
       "petal_width     0\n",
       "species         0\n",
       "dtype: int64"
      ]
     },
     "execution_count": 127,
     "metadata": {},
     "output_type": "execute_result"
    }
   ],
   "source": [
    "x.isnull().sum()"
   ]
  },
  {
   "cell_type": "code",
   "execution_count": 128,
   "id": "26dabcf5",
   "metadata": {},
   "outputs": [
    {
     "data": {
      "text/plain": [
       "id                int64\n",
       "sepal_length    float64\n",
       "sepal_width     float64\n",
       "petal_length    float64\n",
       "petal_width     float64\n",
       "species          object\n",
       "dtype: object"
      ]
     },
     "execution_count": 128,
     "metadata": {},
     "output_type": "execute_result"
    }
   ],
   "source": [
    "x.dtypes"
   ]
  },
  {
   "cell_type": "code",
   "execution_count": 129,
   "id": "f2bbdac1",
   "metadata": {},
   "outputs": [
    {
     "data": {
      "text/html": [
       "<div>\n",
       "<style scoped>\n",
       "    .dataframe tbody tr th:only-of-type {\n",
       "        vertical-align: middle;\n",
       "    }\n",
       "\n",
       "    .dataframe tbody tr th {\n",
       "        vertical-align: top;\n",
       "    }\n",
       "\n",
       "    .dataframe thead th {\n",
       "        text-align: right;\n",
       "    }\n",
       "</style>\n",
       "<table border=\"1\" class=\"dataframe\">\n",
       "  <thead>\n",
       "    <tr style=\"text-align: right;\">\n",
       "      <th></th>\n",
       "      <th>id</th>\n",
       "      <th>sepal_length</th>\n",
       "      <th>sepal_width</th>\n",
       "      <th>petal_length</th>\n",
       "      <th>petal_width</th>\n",
       "      <th>species</th>\n",
       "    </tr>\n",
       "  </thead>\n",
       "  <tbody>\n",
       "    <tr>\n",
       "      <th>0</th>\n",
       "      <td>1</td>\n",
       "      <td>5.1</td>\n",
       "      <td>3.5</td>\n",
       "      <td>1.4</td>\n",
       "      <td>0.2</td>\n",
       "      <td>Iris-setosa</td>\n",
       "    </tr>\n",
       "    <tr>\n",
       "      <th>1</th>\n",
       "      <td>2</td>\n",
       "      <td>4.9</td>\n",
       "      <td>3.0</td>\n",
       "      <td>1.4</td>\n",
       "      <td>0.2</td>\n",
       "      <td>Iris-setosa</td>\n",
       "    </tr>\n",
       "    <tr>\n",
       "      <th>2</th>\n",
       "      <td>3</td>\n",
       "      <td>4.7</td>\n",
       "      <td>3.2</td>\n",
       "      <td>1.3</td>\n",
       "      <td>0.2</td>\n",
       "      <td>Iris-setosa</td>\n",
       "    </tr>\n",
       "    <tr>\n",
       "      <th>3</th>\n",
       "      <td>4</td>\n",
       "      <td>4.6</td>\n",
       "      <td>3.1</td>\n",
       "      <td>1.5</td>\n",
       "      <td>0.2</td>\n",
       "      <td>Iris-setosa</td>\n",
       "    </tr>\n",
       "    <tr>\n",
       "      <th>4</th>\n",
       "      <td>5</td>\n",
       "      <td>5.0</td>\n",
       "      <td>3.6</td>\n",
       "      <td>1.4</td>\n",
       "      <td>0.2</td>\n",
       "      <td>Iris-setosa</td>\n",
       "    </tr>\n",
       "    <tr>\n",
       "      <th>50</th>\n",
       "      <td>51</td>\n",
       "      <td>7.0</td>\n",
       "      <td>3.2</td>\n",
       "      <td>4.7</td>\n",
       "      <td>1.4</td>\n",
       "      <td>Iris-versicolor</td>\n",
       "    </tr>\n",
       "    <tr>\n",
       "      <th>51</th>\n",
       "      <td>52</td>\n",
       "      <td>6.4</td>\n",
       "      <td>3.2</td>\n",
       "      <td>4.5</td>\n",
       "      <td>1.5</td>\n",
       "      <td>Iris-versicolor</td>\n",
       "    </tr>\n",
       "    <tr>\n",
       "      <th>52</th>\n",
       "      <td>53</td>\n",
       "      <td>6.9</td>\n",
       "      <td>3.1</td>\n",
       "      <td>4.9</td>\n",
       "      <td>1.5</td>\n",
       "      <td>Iris-versicolor</td>\n",
       "    </tr>\n",
       "    <tr>\n",
       "      <th>53</th>\n",
       "      <td>54</td>\n",
       "      <td>5.5</td>\n",
       "      <td>2.3</td>\n",
       "      <td>4.0</td>\n",
       "      <td>1.3</td>\n",
       "      <td>Iris-versicolor</td>\n",
       "    </tr>\n",
       "    <tr>\n",
       "      <th>54</th>\n",
       "      <td>55</td>\n",
       "      <td>6.5</td>\n",
       "      <td>2.8</td>\n",
       "      <td>4.6</td>\n",
       "      <td>1.5</td>\n",
       "      <td>Iris-versicolor</td>\n",
       "    </tr>\n",
       "    <tr>\n",
       "      <th>100</th>\n",
       "      <td>101</td>\n",
       "      <td>6.3</td>\n",
       "      <td>3.3</td>\n",
       "      <td>6.0</td>\n",
       "      <td>2.5</td>\n",
       "      <td>Iris-virginica</td>\n",
       "    </tr>\n",
       "    <tr>\n",
       "      <th>101</th>\n",
       "      <td>102</td>\n",
       "      <td>5.8</td>\n",
       "      <td>2.7</td>\n",
       "      <td>5.1</td>\n",
       "      <td>1.9</td>\n",
       "      <td>Iris-virginica</td>\n",
       "    </tr>\n",
       "    <tr>\n",
       "      <th>102</th>\n",
       "      <td>103</td>\n",
       "      <td>7.1</td>\n",
       "      <td>3.0</td>\n",
       "      <td>5.9</td>\n",
       "      <td>2.1</td>\n",
       "      <td>Iris-virginica</td>\n",
       "    </tr>\n",
       "    <tr>\n",
       "      <th>103</th>\n",
       "      <td>104</td>\n",
       "      <td>6.3</td>\n",
       "      <td>2.9</td>\n",
       "      <td>5.6</td>\n",
       "      <td>1.8</td>\n",
       "      <td>Iris-virginica</td>\n",
       "    </tr>\n",
       "    <tr>\n",
       "      <th>104</th>\n",
       "      <td>105</td>\n",
       "      <td>6.5</td>\n",
       "      <td>3.0</td>\n",
       "      <td>5.8</td>\n",
       "      <td>2.2</td>\n",
       "      <td>Iris-virginica</td>\n",
       "    </tr>\n",
       "  </tbody>\n",
       "</table>\n",
       "</div>"
      ],
      "text/plain": [
       "      id  sepal_length  sepal_width  petal_length  petal_width  \\\n",
       "0      1           5.1          3.5           1.4          0.2   \n",
       "1      2           4.9          3.0           1.4          0.2   \n",
       "2      3           4.7          3.2           1.3          0.2   \n",
       "3      4           4.6          3.1           1.5          0.2   \n",
       "4      5           5.0          3.6           1.4          0.2   \n",
       "50    51           7.0          3.2           4.7          1.4   \n",
       "51    52           6.4          3.2           4.5          1.5   \n",
       "52    53           6.9          3.1           4.9          1.5   \n",
       "53    54           5.5          2.3           4.0          1.3   \n",
       "54    55           6.5          2.8           4.6          1.5   \n",
       "100  101           6.3          3.3           6.0          2.5   \n",
       "101  102           5.8          2.7           5.1          1.9   \n",
       "102  103           7.1          3.0           5.9          2.1   \n",
       "103  104           6.3          2.9           5.6          1.8   \n",
       "104  105           6.5          3.0           5.8          2.2   \n",
       "\n",
       "             species  \n",
       "0        Iris-setosa  \n",
       "1        Iris-setosa  \n",
       "2        Iris-setosa  \n",
       "3        Iris-setosa  \n",
       "4        Iris-setosa  \n",
       "50   Iris-versicolor  \n",
       "51   Iris-versicolor  \n",
       "52   Iris-versicolor  \n",
       "53   Iris-versicolor  \n",
       "54   Iris-versicolor  \n",
       "100   Iris-virginica  \n",
       "101   Iris-virginica  \n",
       "102   Iris-virginica  \n",
       "103   Iris-virginica  \n",
       "104   Iris-virginica  "
      ]
     },
     "execution_count": 129,
     "metadata": {},
     "output_type": "execute_result"
    }
   ],
   "source": [
    "data=x.groupby('species')\n",
    "data.head()"
   ]
  },
  {
   "cell_type": "code",
   "execution_count": 130,
   "id": "73a8c4c0",
   "metadata": {},
   "outputs": [
    {
     "data": {
      "text/plain": [
       "array(['Iris-setosa', 'Iris-versicolor', 'Iris-virginica'], dtype=object)"
      ]
     },
     "execution_count": 130,
     "metadata": {},
     "output_type": "execute_result"
    }
   ],
   "source": [
    "x['species'].unique()"
   ]
  },
  {
   "cell_type": "code",
   "execution_count": 132,
   "id": "306e9e09",
   "metadata": {},
   "outputs": [
    {
     "data": {
      "text/html": [
       "<div>\n",
       "<style scoped>\n",
       "    .dataframe tbody tr th:only-of-type {\n",
       "        vertical-align: middle;\n",
       "    }\n",
       "\n",
       "    .dataframe tbody tr th {\n",
       "        vertical-align: top;\n",
       "    }\n",
       "\n",
       "    .dataframe thead th {\n",
       "        text-align: right;\n",
       "    }\n",
       "</style>\n",
       "<table border=\"1\" class=\"dataframe\">\n",
       "  <thead>\n",
       "    <tr style=\"text-align: right;\">\n",
       "      <th></th>\n",
       "      <th>species</th>\n",
       "    </tr>\n",
       "  </thead>\n",
       "  <tbody>\n",
       "    <tr>\n",
       "      <th>Iris-setosa</th>\n",
       "      <td>50</td>\n",
       "    </tr>\n",
       "    <tr>\n",
       "      <th>Iris-virginica</th>\n",
       "      <td>50</td>\n",
       "    </tr>\n",
       "    <tr>\n",
       "      <th>Iris-versicolor</th>\n",
       "      <td>50</td>\n",
       "    </tr>\n",
       "  </tbody>\n",
       "</table>\n",
       "</div>"
      ],
      "text/plain": [
       "                 species\n",
       "Iris-setosa           50\n",
       "Iris-virginica        50\n",
       "Iris-versicolor       50"
      ]
     },
     "execution_count": 132,
     "metadata": {},
     "output_type": "execute_result"
    }
   ],
   "source": [
    "x['species'].value_counts().to_frame()"
   ]
  },
  {
   "cell_type": "code",
   "execution_count": 22,
   "id": "d5e798b7",
   "metadata": {},
   "outputs": [
    {
     "name": "stdout",
     "output_type": "stream",
     "text": [
      "<class 'pandas.core.frame.DataFrame'>\n",
      "RangeIndex: 150 entries, 0 to 149\n",
      "Data columns (total 6 columns):\n",
      " #   Column        Non-Null Count  Dtype  \n",
      "---  ------        --------------  -----  \n",
      " 0   id            150 non-null    int64  \n",
      " 1   sepal_length  150 non-null    float64\n",
      " 2   sepal_width   150 non-null    float64\n",
      " 3   petal_length  150 non-null    float64\n",
      " 4   petal_width   150 non-null    float64\n",
      " 5   species       150 non-null    object \n",
      "dtypes: float64(4), int64(1), object(1)\n",
      "memory usage: 7.2+ KB\n"
     ]
    }
   ],
   "source": [
    "x.info()"
   ]
  },
  {
   "cell_type": "code",
   "execution_count": 116,
   "id": "5bafe332",
   "metadata": {},
   "outputs": [
    {
     "data": {
      "text/html": [
       "<div>\n",
       "<style scoped>\n",
       "    .dataframe tbody tr th:only-of-type {\n",
       "        vertical-align: middle;\n",
       "    }\n",
       "\n",
       "    .dataframe tbody tr th {\n",
       "        vertical-align: top;\n",
       "    }\n",
       "\n",
       "    .dataframe thead th {\n",
       "        text-align: right;\n",
       "    }\n",
       "</style>\n",
       "<table border=\"1\" class=\"dataframe\">\n",
       "  <thead>\n",
       "    <tr style=\"text-align: right;\">\n",
       "      <th></th>\n",
       "      <th>id</th>\n",
       "      <th>sepal_length</th>\n",
       "      <th>sepal_width</th>\n",
       "      <th>petal_length</th>\n",
       "      <th>petal_width</th>\n",
       "      <th>species</th>\n",
       "    </tr>\n",
       "  </thead>\n",
       "  <tbody>\n",
       "    <tr>\n",
       "      <th>count</th>\n",
       "      <td>150.000000</td>\n",
       "      <td>150.000000</td>\n",
       "      <td>150.000000</td>\n",
       "      <td>150.000000</td>\n",
       "      <td>150.000000</td>\n",
       "      <td>150.000000</td>\n",
       "    </tr>\n",
       "    <tr>\n",
       "      <th>mean</th>\n",
       "      <td>75.500000</td>\n",
       "      <td>5.843333</td>\n",
       "      <td>3.054000</td>\n",
       "      <td>3.758667</td>\n",
       "      <td>1.198667</td>\n",
       "      <td>2.000000</td>\n",
       "    </tr>\n",
       "    <tr>\n",
       "      <th>std</th>\n",
       "      <td>43.445368</td>\n",
       "      <td>0.828066</td>\n",
       "      <td>0.433594</td>\n",
       "      <td>1.764420</td>\n",
       "      <td>0.763161</td>\n",
       "      <td>0.819232</td>\n",
       "    </tr>\n",
       "    <tr>\n",
       "      <th>min</th>\n",
       "      <td>1.000000</td>\n",
       "      <td>4.300000</td>\n",
       "      <td>2.000000</td>\n",
       "      <td>1.000000</td>\n",
       "      <td>0.100000</td>\n",
       "      <td>1.000000</td>\n",
       "    </tr>\n",
       "    <tr>\n",
       "      <th>25%</th>\n",
       "      <td>38.250000</td>\n",
       "      <td>5.100000</td>\n",
       "      <td>2.800000</td>\n",
       "      <td>1.600000</td>\n",
       "      <td>0.300000</td>\n",
       "      <td>1.000000</td>\n",
       "    </tr>\n",
       "    <tr>\n",
       "      <th>50%</th>\n",
       "      <td>75.500000</td>\n",
       "      <td>5.800000</td>\n",
       "      <td>3.000000</td>\n",
       "      <td>4.350000</td>\n",
       "      <td>1.300000</td>\n",
       "      <td>2.000000</td>\n",
       "    </tr>\n",
       "    <tr>\n",
       "      <th>75%</th>\n",
       "      <td>112.750000</td>\n",
       "      <td>6.400000</td>\n",
       "      <td>3.300000</td>\n",
       "      <td>5.100000</td>\n",
       "      <td>1.800000</td>\n",
       "      <td>3.000000</td>\n",
       "    </tr>\n",
       "    <tr>\n",
       "      <th>max</th>\n",
       "      <td>150.000000</td>\n",
       "      <td>7.900000</td>\n",
       "      <td>4.400000</td>\n",
       "      <td>6.900000</td>\n",
       "      <td>2.500000</td>\n",
       "      <td>3.000000</td>\n",
       "    </tr>\n",
       "  </tbody>\n",
       "</table>\n",
       "</div>"
      ],
      "text/plain": [
       "               id  sepal_length  sepal_width  petal_length  petal_width  \\\n",
       "count  150.000000    150.000000   150.000000    150.000000   150.000000   \n",
       "mean    75.500000      5.843333     3.054000      3.758667     1.198667   \n",
       "std     43.445368      0.828066     0.433594      1.764420     0.763161   \n",
       "min      1.000000      4.300000     2.000000      1.000000     0.100000   \n",
       "25%     38.250000      5.100000     2.800000      1.600000     0.300000   \n",
       "50%     75.500000      5.800000     3.000000      4.350000     1.300000   \n",
       "75%    112.750000      6.400000     3.300000      5.100000     1.800000   \n",
       "max    150.000000      7.900000     4.400000      6.900000     2.500000   \n",
       "\n",
       "          species  \n",
       "count  150.000000  \n",
       "mean     2.000000  \n",
       "std      0.819232  \n",
       "min      1.000000  \n",
       "25%      1.000000  \n",
       "50%      2.000000  \n",
       "75%      3.000000  \n",
       "max      3.000000  "
      ]
     },
     "execution_count": 116,
     "metadata": {},
     "output_type": "execute_result"
    }
   ],
   "source": [
    "x.describe()"
   ]
  },
  {
   "cell_type": "markdown",
   "id": "133e2f31",
   "metadata": {},
   "source": [
    "# Visualize the data"
   ]
  },
  {
   "cell_type": "code",
   "execution_count": 23,
   "id": "af9dc35b",
   "metadata": {},
   "outputs": [
    {
     "data": {
      "text/plain": [
       "{'whiskers': [<matplotlib.lines.Line2D at 0x1e5f628f190>,\n",
       "  <matplotlib.lines.Line2D at 0x1e5f628f4f0>],\n",
       " 'caps': [<matplotlib.lines.Line2D at 0x1e5f628f850>,\n",
       "  <matplotlib.lines.Line2D at 0x1e5f628fbb0>],\n",
       " 'boxes': [<matplotlib.lines.Line2D at 0x1e5f6278df0>],\n",
       " 'medians': [<matplotlib.lines.Line2D at 0x1e5f628ff10>],\n",
       " 'fliers': [<matplotlib.lines.Line2D at 0x1e5f829b2b0>],\n",
       " 'means': []}"
      ]
     },
     "execution_count": 23,
     "metadata": {},
     "output_type": "execute_result"
    },
    {
     "data": {
      "image/png": "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\n",
      "text/plain": [
       "<Figure size 432x288 with 1 Axes>"
      ]
     },
     "metadata": {
      "needs_background": "light"
     },
     "output_type": "display_data"
    }
   ],
   "source": [
    "plt.boxplot(x['sepal_length'])"
   ]
  },
  {
   "cell_type": "code",
   "execution_count": 24,
   "id": "0487a333",
   "metadata": {},
   "outputs": [
    {
     "data": {
      "text/plain": [
       "{'whiskers': [<matplotlib.lines.Line2D at 0x1e5f836ba60>,\n",
       "  <matplotlib.lines.Line2D at 0x1e5f836bdf0>],\n",
       " 'caps': [<matplotlib.lines.Line2D at 0x1e5f8377190>,\n",
       "  <matplotlib.lines.Line2D at 0x1e5f83774f0>],\n",
       " 'boxes': [<matplotlib.lines.Line2D at 0x1e5f836b700>],\n",
       " 'medians': [<matplotlib.lines.Line2D at 0x1e5f8377850>],\n",
       " 'fliers': [<matplotlib.lines.Line2D at 0x1e5f8377bb0>],\n",
       " 'means': []}"
      ]
     },
     "execution_count": 24,
     "metadata": {},
     "output_type": "execute_result"
    },
    {
     "data": {
      "image/png": "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\n",
      "text/plain": [
       "<Figure size 432x288 with 1 Axes>"
      ]
     },
     "metadata": {
      "needs_background": "light"
     },
     "output_type": "display_data"
    }
   ],
   "source": [
    "plt.boxplot(x['sepal_width'])"
   ]
  },
  {
   "cell_type": "code",
   "execution_count": 25,
   "id": "f06fc650",
   "metadata": {},
   "outputs": [
    {
     "data": {
      "text/plain": [
       "{'whiskers': [<matplotlib.lines.Line2D at 0x1e5f83d4460>,\n",
       "  <matplotlib.lines.Line2D at 0x1e5f83d47c0>],\n",
       " 'caps': [<matplotlib.lines.Line2D at 0x1e5f83d4b20>,\n",
       "  <matplotlib.lines.Line2D at 0x1e5f83d4e80>],\n",
       " 'boxes': [<matplotlib.lines.Line2D at 0x1e5f83d4100>],\n",
       " 'medians': [<matplotlib.lines.Line2D at 0x1e5f83e0220>],\n",
       " 'fliers': [<matplotlib.lines.Line2D at 0x1e5f83e0580>],\n",
       " 'means': []}"
      ]
     },
     "execution_count": 25,
     "metadata": {},
     "output_type": "execute_result"
    },
    {
     "data": {
      "image/png": "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\n",
      "text/plain": [
       "<Figure size 432x288 with 1 Axes>"
      ]
     },
     "metadata": {
      "needs_background": "light"
     },
     "output_type": "display_data"
    }
   ],
   "source": [
    "plt.boxplot(x['petal_length'])"
   ]
  },
  {
   "cell_type": "code",
   "execution_count": 26,
   "id": "9ce35f03",
   "metadata": {},
   "outputs": [
    {
     "data": {
      "text/plain": [
       "{'whiskers': [<matplotlib.lines.Line2D at 0x1e5f84393d0>,\n",
       "  <matplotlib.lines.Line2D at 0x1e5f8439760>],\n",
       " 'caps': [<matplotlib.lines.Line2D at 0x1e5f8439ac0>,\n",
       "  <matplotlib.lines.Line2D at 0x1e5f8439e20>],\n",
       " 'boxes': [<matplotlib.lines.Line2D at 0x1e5f8439070>],\n",
       " 'medians': [<matplotlib.lines.Line2D at 0x1e5f84441c0>],\n",
       " 'fliers': [<matplotlib.lines.Line2D at 0x1e5f8444520>],\n",
       " 'means': []}"
      ]
     },
     "execution_count": 26,
     "metadata": {},
     "output_type": "execute_result"
    },
    {
     "data": {
      "image/png": "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\n",
      "text/plain": [
       "<Figure size 432x288 with 1 Axes>"
      ]
     },
     "metadata": {
      "needs_background": "light"
     },
     "output_type": "display_data"
    }
   ],
   "source": [
    "plt.boxplot(x['petal_width'])"
   ]
  },
  {
   "cell_type": "code",
   "execution_count": 31,
   "id": "cbf69a06",
   "metadata": {},
   "outputs": [
    {
     "data": {
      "text/plain": [
       "<AxesSubplot:>"
      ]
     },
     "execution_count": 31,
     "metadata": {},
     "output_type": "execute_result"
    },
    {
     "data": {
      "image/png": "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\n",
      "text/plain": [
       "<Figure size 432x288 with 2 Axes>"
      ]
     },
     "metadata": {
      "needs_background": "light"
     },
     "output_type": "display_data"
    }
   ],
   "source": [
    "s=sns.heatmap(x.corr())\n",
    "s"
   ]
  },
  {
   "cell_type": "markdown",
   "id": "e48d952d",
   "metadata": {},
   "source": [
    "# Data Preparation"
   ]
  },
  {
   "cell_type": "code",
   "execution_count": 70,
   "id": "db55094a",
   "metadata": {},
   "outputs": [
    {
     "data": {
      "text/html": [
       "<div>\n",
       "<style scoped>\n",
       "    .dataframe tbody tr th:only-of-type {\n",
       "        vertical-align: middle;\n",
       "    }\n",
       "\n",
       "    .dataframe tbody tr th {\n",
       "        vertical-align: top;\n",
       "    }\n",
       "\n",
       "    .dataframe thead th {\n",
       "        text-align: right;\n",
       "    }\n",
       "</style>\n",
       "<table border=\"1\" class=\"dataframe\">\n",
       "  <thead>\n",
       "    <tr style=\"text-align: right;\">\n",
       "      <th></th>\n",
       "      <th>id</th>\n",
       "      <th>sepal_length</th>\n",
       "      <th>sepal_width</th>\n",
       "      <th>petal_length</th>\n",
       "      <th>petal_width</th>\n",
       "      <th>species</th>\n",
       "    </tr>\n",
       "  </thead>\n",
       "  <tbody>\n",
       "    <tr>\n",
       "      <th>0</th>\n",
       "      <td>1</td>\n",
       "      <td>5.1</td>\n",
       "      <td>3.5</td>\n",
       "      <td>1.4</td>\n",
       "      <td>0.2</td>\n",
       "      <td>Iris-setosa</td>\n",
       "    </tr>\n",
       "    <tr>\n",
       "      <th>1</th>\n",
       "      <td>2</td>\n",
       "      <td>4.9</td>\n",
       "      <td>3.0</td>\n",
       "      <td>1.4</td>\n",
       "      <td>0.2</td>\n",
       "      <td>Iris-setosa</td>\n",
       "    </tr>\n",
       "    <tr>\n",
       "      <th>2</th>\n",
       "      <td>3</td>\n",
       "      <td>4.7</td>\n",
       "      <td>3.2</td>\n",
       "      <td>1.3</td>\n",
       "      <td>0.2</td>\n",
       "      <td>Iris-setosa</td>\n",
       "    </tr>\n",
       "    <tr>\n",
       "      <th>3</th>\n",
       "      <td>4</td>\n",
       "      <td>4.6</td>\n",
       "      <td>3.1</td>\n",
       "      <td>1.5</td>\n",
       "      <td>0.2</td>\n",
       "      <td>Iris-setosa</td>\n",
       "    </tr>\n",
       "    <tr>\n",
       "      <th>4</th>\n",
       "      <td>5</td>\n",
       "      <td>5.0</td>\n",
       "      <td>3.6</td>\n",
       "      <td>1.4</td>\n",
       "      <td>0.2</td>\n",
       "      <td>Iris-setosa</td>\n",
       "    </tr>\n",
       "    <tr>\n",
       "      <th>...</th>\n",
       "      <td>...</td>\n",
       "      <td>...</td>\n",
       "      <td>...</td>\n",
       "      <td>...</td>\n",
       "      <td>...</td>\n",
       "      <td>...</td>\n",
       "    </tr>\n",
       "    <tr>\n",
       "      <th>145</th>\n",
       "      <td>146</td>\n",
       "      <td>6.7</td>\n",
       "      <td>3.0</td>\n",
       "      <td>5.2</td>\n",
       "      <td>2.3</td>\n",
       "      <td>Iris-virginica</td>\n",
       "    </tr>\n",
       "    <tr>\n",
       "      <th>146</th>\n",
       "      <td>147</td>\n",
       "      <td>6.3</td>\n",
       "      <td>2.5</td>\n",
       "      <td>5.0</td>\n",
       "      <td>1.9</td>\n",
       "      <td>Iris-virginica</td>\n",
       "    </tr>\n",
       "    <tr>\n",
       "      <th>147</th>\n",
       "      <td>148</td>\n",
       "      <td>6.5</td>\n",
       "      <td>3.0</td>\n",
       "      <td>5.2</td>\n",
       "      <td>2.0</td>\n",
       "      <td>Iris-virginica</td>\n",
       "    </tr>\n",
       "    <tr>\n",
       "      <th>148</th>\n",
       "      <td>149</td>\n",
       "      <td>6.2</td>\n",
       "      <td>3.4</td>\n",
       "      <td>5.4</td>\n",
       "      <td>2.3</td>\n",
       "      <td>Iris-virginica</td>\n",
       "    </tr>\n",
       "    <tr>\n",
       "      <th>149</th>\n",
       "      <td>150</td>\n",
       "      <td>5.9</td>\n",
       "      <td>3.0</td>\n",
       "      <td>5.1</td>\n",
       "      <td>1.8</td>\n",
       "      <td>Iris-virginica</td>\n",
       "    </tr>\n",
       "  </tbody>\n",
       "</table>\n",
       "<p>150 rows × 6 columns</p>\n",
       "</div>"
      ],
      "text/plain": [
       "      id  sepal_length  sepal_width  petal_length  petal_width         species\n",
       "0      1           5.1          3.5           1.4          0.2     Iris-setosa\n",
       "1      2           4.9          3.0           1.4          0.2     Iris-setosa\n",
       "2      3           4.7          3.2           1.3          0.2     Iris-setosa\n",
       "3      4           4.6          3.1           1.5          0.2     Iris-setosa\n",
       "4      5           5.0          3.6           1.4          0.2     Iris-setosa\n",
       "..   ...           ...          ...           ...          ...             ...\n",
       "145  146           6.7          3.0           5.2          2.3  Iris-virginica\n",
       "146  147           6.3          2.5           5.0          1.9  Iris-virginica\n",
       "147  148           6.5          3.0           5.2          2.0  Iris-virginica\n",
       "148  149           6.2          3.4           5.4          2.3  Iris-virginica\n",
       "149  150           5.9          3.0           5.1          1.8  Iris-virginica\n",
       "\n",
       "[150 rows x 6 columns]"
      ]
     },
     "execution_count": 70,
     "metadata": {},
     "output_type": "execute_result"
    }
   ],
   "source": [
    "x"
   ]
  },
  {
   "cell_type": "code",
   "execution_count": 87,
   "id": "5a7975cf",
   "metadata": {},
   "outputs": [
    {
     "data": {
      "text/html": [
       "<div>\n",
       "<style scoped>\n",
       "    .dataframe tbody tr th:only-of-type {\n",
       "        vertical-align: middle;\n",
       "    }\n",
       "\n",
       "    .dataframe tbody tr th {\n",
       "        vertical-align: top;\n",
       "    }\n",
       "\n",
       "    .dataframe thead th {\n",
       "        text-align: right;\n",
       "    }\n",
       "</style>\n",
       "<table border=\"1\" class=\"dataframe\">\n",
       "  <thead>\n",
       "    <tr style=\"text-align: right;\">\n",
       "      <th></th>\n",
       "      <th>sepal_length</th>\n",
       "      <th>sepal_width</th>\n",
       "      <th>petal_length</th>\n",
       "      <th>petal_width</th>\n",
       "      <th>species</th>\n",
       "    </tr>\n",
       "  </thead>\n",
       "  <tbody>\n",
       "    <tr>\n",
       "      <th>0</th>\n",
       "      <td>5.1</td>\n",
       "      <td>3.5</td>\n",
       "      <td>1.4</td>\n",
       "      <td>0.2</td>\n",
       "      <td>1</td>\n",
       "    </tr>\n",
       "    <tr>\n",
       "      <th>1</th>\n",
       "      <td>4.9</td>\n",
       "      <td>3.0</td>\n",
       "      <td>1.4</td>\n",
       "      <td>0.2</td>\n",
       "      <td>1</td>\n",
       "    </tr>\n",
       "    <tr>\n",
       "      <th>2</th>\n",
       "      <td>4.7</td>\n",
       "      <td>3.2</td>\n",
       "      <td>1.3</td>\n",
       "      <td>0.2</td>\n",
       "      <td>1</td>\n",
       "    </tr>\n",
       "    <tr>\n",
       "      <th>3</th>\n",
       "      <td>4.6</td>\n",
       "      <td>3.1</td>\n",
       "      <td>1.5</td>\n",
       "      <td>0.2</td>\n",
       "      <td>1</td>\n",
       "    </tr>\n",
       "    <tr>\n",
       "      <th>4</th>\n",
       "      <td>5.0</td>\n",
       "      <td>3.6</td>\n",
       "      <td>1.4</td>\n",
       "      <td>0.2</td>\n",
       "      <td>1</td>\n",
       "    </tr>\n",
       "    <tr>\n",
       "      <th>...</th>\n",
       "      <td>...</td>\n",
       "      <td>...</td>\n",
       "      <td>...</td>\n",
       "      <td>...</td>\n",
       "      <td>...</td>\n",
       "    </tr>\n",
       "    <tr>\n",
       "      <th>145</th>\n",
       "      <td>6.7</td>\n",
       "      <td>3.0</td>\n",
       "      <td>5.2</td>\n",
       "      <td>2.3</td>\n",
       "      <td>3</td>\n",
       "    </tr>\n",
       "    <tr>\n",
       "      <th>146</th>\n",
       "      <td>6.3</td>\n",
       "      <td>2.5</td>\n",
       "      <td>5.0</td>\n",
       "      <td>1.9</td>\n",
       "      <td>3</td>\n",
       "    </tr>\n",
       "    <tr>\n",
       "      <th>147</th>\n",
       "      <td>6.5</td>\n",
       "      <td>3.0</td>\n",
       "      <td>5.2</td>\n",
       "      <td>2.0</td>\n",
       "      <td>3</td>\n",
       "    </tr>\n",
       "    <tr>\n",
       "      <th>148</th>\n",
       "      <td>6.2</td>\n",
       "      <td>3.4</td>\n",
       "      <td>5.4</td>\n",
       "      <td>2.3</td>\n",
       "      <td>3</td>\n",
       "    </tr>\n",
       "    <tr>\n",
       "      <th>149</th>\n",
       "      <td>5.9</td>\n",
       "      <td>3.0</td>\n",
       "      <td>5.1</td>\n",
       "      <td>1.8</td>\n",
       "      <td>3</td>\n",
       "    </tr>\n",
       "  </tbody>\n",
       "</table>\n",
       "<p>150 rows × 5 columns</p>\n",
       "</div>"
      ],
      "text/plain": [
       "     sepal_length  sepal_width  petal_length  petal_width  species\n",
       "0             5.1          3.5           1.4          0.2        1\n",
       "1             4.9          3.0           1.4          0.2        1\n",
       "2             4.7          3.2           1.3          0.2        1\n",
       "3             4.6          3.1           1.5          0.2        1\n",
       "4             5.0          3.6           1.4          0.2        1\n",
       "..            ...          ...           ...          ...      ...\n",
       "145           6.7          3.0           5.2          2.3        3\n",
       "146           6.3          2.5           5.0          1.9        3\n",
       "147           6.5          3.0           5.2          2.0        3\n",
       "148           6.2          3.4           5.4          2.3        3\n",
       "149           5.9          3.0           5.1          1.8        3\n",
       "\n",
       "[150 rows x 5 columns]"
      ]
     },
     "execution_count": 87,
     "metadata": {},
     "output_type": "execute_result"
    }
   ],
   "source": [
    "a=x.drop('id', axis=1)\n",
    "a"
   ]
  },
  {
   "cell_type": "code",
   "execution_count": 120,
   "id": "d9acb1d9",
   "metadata": {},
   "outputs": [],
   "source": [
    "species_mapping = {'Iris-setosa': 1, 'Iris-versicolor': 2, 'Iris-virginica': 3}"
   ]
  },
  {
   "cell_type": "code",
   "execution_count": 90,
   "id": "c9dd5a90",
   "metadata": {},
   "outputs": [],
   "source": [
    "a['species'] = a['species'].replace(species_mapping)"
   ]
  },
  {
   "cell_type": "code",
   "execution_count": 91,
   "id": "ada1feb1",
   "metadata": {},
   "outputs": [
    {
     "data": {
      "text/html": [
       "<div>\n",
       "<style scoped>\n",
       "    .dataframe tbody tr th:only-of-type {\n",
       "        vertical-align: middle;\n",
       "    }\n",
       "\n",
       "    .dataframe tbody tr th {\n",
       "        vertical-align: top;\n",
       "    }\n",
       "\n",
       "    .dataframe thead th {\n",
       "        text-align: right;\n",
       "    }\n",
       "</style>\n",
       "<table border=\"1\" class=\"dataframe\">\n",
       "  <thead>\n",
       "    <tr style=\"text-align: right;\">\n",
       "      <th></th>\n",
       "      <th>sepal_length</th>\n",
       "      <th>sepal_width</th>\n",
       "      <th>petal_length</th>\n",
       "      <th>petal_width</th>\n",
       "      <th>species</th>\n",
       "    </tr>\n",
       "  </thead>\n",
       "  <tbody>\n",
       "    <tr>\n",
       "      <th>0</th>\n",
       "      <td>5.1</td>\n",
       "      <td>3.5</td>\n",
       "      <td>1.4</td>\n",
       "      <td>0.2</td>\n",
       "      <td>1</td>\n",
       "    </tr>\n",
       "    <tr>\n",
       "      <th>1</th>\n",
       "      <td>4.9</td>\n",
       "      <td>3.0</td>\n",
       "      <td>1.4</td>\n",
       "      <td>0.2</td>\n",
       "      <td>1</td>\n",
       "    </tr>\n",
       "    <tr>\n",
       "      <th>2</th>\n",
       "      <td>4.7</td>\n",
       "      <td>3.2</td>\n",
       "      <td>1.3</td>\n",
       "      <td>0.2</td>\n",
       "      <td>1</td>\n",
       "    </tr>\n",
       "    <tr>\n",
       "      <th>3</th>\n",
       "      <td>4.6</td>\n",
       "      <td>3.1</td>\n",
       "      <td>1.5</td>\n",
       "      <td>0.2</td>\n",
       "      <td>1</td>\n",
       "    </tr>\n",
       "    <tr>\n",
       "      <th>4</th>\n",
       "      <td>5.0</td>\n",
       "      <td>3.6</td>\n",
       "      <td>1.4</td>\n",
       "      <td>0.2</td>\n",
       "      <td>1</td>\n",
       "    </tr>\n",
       "    <tr>\n",
       "      <th>...</th>\n",
       "      <td>...</td>\n",
       "      <td>...</td>\n",
       "      <td>...</td>\n",
       "      <td>...</td>\n",
       "      <td>...</td>\n",
       "    </tr>\n",
       "    <tr>\n",
       "      <th>145</th>\n",
       "      <td>6.7</td>\n",
       "      <td>3.0</td>\n",
       "      <td>5.2</td>\n",
       "      <td>2.3</td>\n",
       "      <td>3</td>\n",
       "    </tr>\n",
       "    <tr>\n",
       "      <th>146</th>\n",
       "      <td>6.3</td>\n",
       "      <td>2.5</td>\n",
       "      <td>5.0</td>\n",
       "      <td>1.9</td>\n",
       "      <td>3</td>\n",
       "    </tr>\n",
       "    <tr>\n",
       "      <th>147</th>\n",
       "      <td>6.5</td>\n",
       "      <td>3.0</td>\n",
       "      <td>5.2</td>\n",
       "      <td>2.0</td>\n",
       "      <td>3</td>\n",
       "    </tr>\n",
       "    <tr>\n",
       "      <th>148</th>\n",
       "      <td>6.2</td>\n",
       "      <td>3.4</td>\n",
       "      <td>5.4</td>\n",
       "      <td>2.3</td>\n",
       "      <td>3</td>\n",
       "    </tr>\n",
       "    <tr>\n",
       "      <th>149</th>\n",
       "      <td>5.9</td>\n",
       "      <td>3.0</td>\n",
       "      <td>5.1</td>\n",
       "      <td>1.8</td>\n",
       "      <td>3</td>\n",
       "    </tr>\n",
       "  </tbody>\n",
       "</table>\n",
       "<p>150 rows × 5 columns</p>\n",
       "</div>"
      ],
      "text/plain": [
       "     sepal_length  sepal_width  petal_length  petal_width  species\n",
       "0             5.1          3.5           1.4          0.2        1\n",
       "1             4.9          3.0           1.4          0.2        1\n",
       "2             4.7          3.2           1.3          0.2        1\n",
       "3             4.6          3.1           1.5          0.2        1\n",
       "4             5.0          3.6           1.4          0.2        1\n",
       "..            ...          ...           ...          ...      ...\n",
       "145           6.7          3.0           5.2          2.3        3\n",
       "146           6.3          2.5           5.0          1.9        3\n",
       "147           6.5          3.0           5.2          2.0        3\n",
       "148           6.2          3.4           5.4          2.3        3\n",
       "149           5.9          3.0           5.1          1.8        3\n",
       "\n",
       "[150 rows x 5 columns]"
      ]
     },
     "execution_count": 91,
     "metadata": {},
     "output_type": "execute_result"
    }
   ],
   "source": [
    "a"
   ]
  },
  {
   "cell_type": "code",
   "execution_count": 92,
   "id": "02d4dfab",
   "metadata": {},
   "outputs": [
    {
     "data": {
      "text/html": [
       "<div>\n",
       "<style scoped>\n",
       "    .dataframe tbody tr th:only-of-type {\n",
       "        vertical-align: middle;\n",
       "    }\n",
       "\n",
       "    .dataframe tbody tr th {\n",
       "        vertical-align: top;\n",
       "    }\n",
       "\n",
       "    .dataframe thead th {\n",
       "        text-align: right;\n",
       "    }\n",
       "</style>\n",
       "<table border=\"1\" class=\"dataframe\">\n",
       "  <thead>\n",
       "    <tr style=\"text-align: right;\">\n",
       "      <th></th>\n",
       "      <th>sepal_length</th>\n",
       "      <th>sepal_width</th>\n",
       "      <th>petal_length</th>\n",
       "      <th>petal_width</th>\n",
       "    </tr>\n",
       "  </thead>\n",
       "  <tbody>\n",
       "    <tr>\n",
       "      <th>0</th>\n",
       "      <td>5.1</td>\n",
       "      <td>3.5</td>\n",
       "      <td>1.4</td>\n",
       "      <td>0.2</td>\n",
       "    </tr>\n",
       "    <tr>\n",
       "      <th>1</th>\n",
       "      <td>4.9</td>\n",
       "      <td>3.0</td>\n",
       "      <td>1.4</td>\n",
       "      <td>0.2</td>\n",
       "    </tr>\n",
       "    <tr>\n",
       "      <th>2</th>\n",
       "      <td>4.7</td>\n",
       "      <td>3.2</td>\n",
       "      <td>1.3</td>\n",
       "      <td>0.2</td>\n",
       "    </tr>\n",
       "    <tr>\n",
       "      <th>3</th>\n",
       "      <td>4.6</td>\n",
       "      <td>3.1</td>\n",
       "      <td>1.5</td>\n",
       "      <td>0.2</td>\n",
       "    </tr>\n",
       "    <tr>\n",
       "      <th>4</th>\n",
       "      <td>5.0</td>\n",
       "      <td>3.6</td>\n",
       "      <td>1.4</td>\n",
       "      <td>0.2</td>\n",
       "    </tr>\n",
       "    <tr>\n",
       "      <th>...</th>\n",
       "      <td>...</td>\n",
       "      <td>...</td>\n",
       "      <td>...</td>\n",
       "      <td>...</td>\n",
       "    </tr>\n",
       "    <tr>\n",
       "      <th>145</th>\n",
       "      <td>6.7</td>\n",
       "      <td>3.0</td>\n",
       "      <td>5.2</td>\n",
       "      <td>2.3</td>\n",
       "    </tr>\n",
       "    <tr>\n",
       "      <th>146</th>\n",
       "      <td>6.3</td>\n",
       "      <td>2.5</td>\n",
       "      <td>5.0</td>\n",
       "      <td>1.9</td>\n",
       "    </tr>\n",
       "    <tr>\n",
       "      <th>147</th>\n",
       "      <td>6.5</td>\n",
       "      <td>3.0</td>\n",
       "      <td>5.2</td>\n",
       "      <td>2.0</td>\n",
       "    </tr>\n",
       "    <tr>\n",
       "      <th>148</th>\n",
       "      <td>6.2</td>\n",
       "      <td>3.4</td>\n",
       "      <td>5.4</td>\n",
       "      <td>2.3</td>\n",
       "    </tr>\n",
       "    <tr>\n",
       "      <th>149</th>\n",
       "      <td>5.9</td>\n",
       "      <td>3.0</td>\n",
       "      <td>5.1</td>\n",
       "      <td>1.8</td>\n",
       "    </tr>\n",
       "  </tbody>\n",
       "</table>\n",
       "<p>150 rows × 4 columns</p>\n",
       "</div>"
      ],
      "text/plain": [
       "     sepal_length  sepal_width  petal_length  petal_width\n",
       "0             5.1          3.5           1.4          0.2\n",
       "1             4.9          3.0           1.4          0.2\n",
       "2             4.7          3.2           1.3          0.2\n",
       "3             4.6          3.1           1.5          0.2\n",
       "4             5.0          3.6           1.4          0.2\n",
       "..            ...          ...           ...          ...\n",
       "145           6.7          3.0           5.2          2.3\n",
       "146           6.3          2.5           5.0          1.9\n",
       "147           6.5          3.0           5.2          2.0\n",
       "148           6.2          3.4           5.4          2.3\n",
       "149           5.9          3.0           5.1          1.8\n",
       "\n",
       "[150 rows x 4 columns]"
      ]
     },
     "execution_count": 92,
     "metadata": {},
     "output_type": "execute_result"
    }
   ],
   "source": [
    "X=a.iloc[:,0:4]\n",
    "X"
   ]
  },
  {
   "cell_type": "code",
   "execution_count": 93,
   "id": "a4f5e287",
   "metadata": {},
   "outputs": [
    {
     "data": {
      "text/plain": [
       "0      1\n",
       "1      1\n",
       "2      1\n",
       "3      1\n",
       "4      1\n",
       "      ..\n",
       "145    3\n",
       "146    3\n",
       "147    3\n",
       "148    3\n",
       "149    3\n",
       "Name: species, Length: 150, dtype: int64"
      ]
     },
     "execution_count": 93,
     "metadata": {},
     "output_type": "execute_result"
    }
   ],
   "source": [
    "Y=a.iloc[:,4]\n",
    "Y"
   ]
  },
  {
   "cell_type": "markdown",
   "id": "1c2b5015",
   "metadata": {},
   "source": [
    "# Training model"
   ]
  },
  {
   "cell_type": "code",
   "execution_count": 143,
   "id": "8a0df01b",
   "metadata": {},
   "outputs": [],
   "source": [
    "X_train, X_test, Y_train, Y_test = train_test_split(X, Y, test_size=0.3, random_state=1)"
   ]
  },
  {
   "cell_type": "raw",
   "id": "7bbf1bd9",
   "metadata": {},
   "source": [
    "model = LinearRegression()\n",
    "model.fit(X_train, Y_train)"
   ]
  },
  {
   "cell_type": "code",
   "execution_count": 149,
   "id": "ce259173",
   "metadata": {},
   "outputs": [
    {
     "data": {
      "text/plain": [
       "0.9299819255414825"
      ]
     },
     "execution_count": 149,
     "metadata": {},
     "output_type": "execute_result"
    }
   ],
   "source": [
    "model.score(X,Y) #coeff of prediction"
   ]
  },
  {
   "cell_type": "code",
   "execution_count": 150,
   "id": "4365d06c",
   "metadata": {},
   "outputs": [
    {
     "data": {
      "text/plain": [
       "array([-0.11368098, -0.06458377,  0.25261442,  0.54938903])"
      ]
     },
     "execution_count": 150,
     "metadata": {},
     "output_type": "execute_result"
    }
   ],
   "source": [
    "model.coef_"
   ]
  },
  {
   "cell_type": "code",
   "execution_count": 151,
   "id": "3352171c",
   "metadata": {},
   "outputs": [
    {
     "data": {
      "text/plain": [
       "1.2582505124634515"
      ]
     },
     "execution_count": 151,
     "metadata": {},
     "output_type": "execute_result"
    }
   ],
   "source": [
    "model.intercept_"
   ]
  },
  {
   "cell_type": "markdown",
   "id": "9191dedd",
   "metadata": {},
   "source": [
    "# Normalization of data"
   ]
  },
  {
   "cell_type": "code",
   "execution_count": 152,
   "id": "4253fcf3",
   "metadata": {},
   "outputs": [
    {
     "data": {
      "text/plain": [
       "array([0.75358087, 1.87918929, 2.19485284, 0.94065088, 2.83026281,\n",
       "       2.39524413, 2.82557039, 1.1327822 , 1.03134273, 2.97068067,\n",
       "       2.22244716, 1.04169665, 2.9015063 , 2.28487263, 2.34972015,\n",
       "       0.98966269, 2.10070756, 2.38873416, 1.02346565, 0.89619267,\n",
       "       2.23585762, 2.41147036, 2.4998701 , 0.95701788, 2.73766618,\n",
       "       2.17935924, 0.82529129, 0.97679753, 2.2305166 , 2.68751219,\n",
       "       2.30221621, 2.99369841, 2.04970178, 2.91821542, 3.0249335 ,\n",
       "       0.90558081, 2.20912588, 0.9110626 , 2.32459948, 2.78919243,\n",
       "       2.83456483, 0.97091122, 2.521236  , 2.75830843, 2.1968952 ])"
      ]
     },
     "execution_count": 152,
     "metadata": {},
     "output_type": "execute_result"
    }
   ],
   "source": [
    "y_pred = model.predict(X_test)\n",
    "y_pred"
   ]
  },
  {
   "cell_type": "markdown",
   "id": "d92db2df",
   "metadata": {},
   "source": [
    "# Model Evolution"
   ]
  },
  {
   "cell_type": "code",
   "execution_count": 153,
   "id": "d2872b8a",
   "metadata": {},
   "outputs": [
    {
     "name": "stdout",
     "output_type": "stream",
     "text": [
      "Mean Squared Error: 0.0492094515219083\n"
     ]
    }
   ],
   "source": [
    "mse = mean_squared_error(Y_test, y_pred)\n",
    "print('Mean Squared Error:', mse)"
   ]
  }
 ],
 "metadata": {
  "kernelspec": {
   "display_name": "Python 3",
   "language": "python",
   "name": "python3"
  },
  "language_info": {
   "codemirror_mode": {
    "name": "ipython",
    "version": 3
   },
   "file_extension": ".py",
   "mimetype": "text/x-python",
   "name": "python",
   "nbconvert_exporter": "python",
   "pygments_lexer": "ipython3",
   "version": "3.8.8"
  }
 },
 "nbformat": 4,
 "nbformat_minor": 5
}
