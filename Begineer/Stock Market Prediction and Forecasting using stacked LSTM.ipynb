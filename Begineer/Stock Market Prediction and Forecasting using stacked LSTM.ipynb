{
 "cells": [
  {
   "cell_type": "markdown",
   "id": "6a300d64",
   "metadata": {},
   "source": [
    "# LGMVIP - Data Science June 2023\n",
    "Author : Nanthitha B\n",
    "\n",
    "Task 2: Stock Market Prediction and Forecasting using stacked LSTM\n",
    "\n",
    "\n",
    "Level: Beginner "
   ]
  },
  {
   "cell_type": "code",
   "execution_count": 4,
   "id": "cb7f498f",
   "metadata": {},
   "outputs": [
    {
     "name": "stdout",
     "output_type": "stream",
     "text": [
      "Requirement already satisfied: tensorflow in c:\\users\\nanth\\anaconda3\\lib\\site-packages (2.12.0)\n",
      "Requirement already satisfied: tensorflow-intel==2.12.0 in c:\\users\\nanth\\anaconda3\\lib\\site-packages (from tensorflow) (2.12.0)\n",
      "Requirement already satisfied: six>=1.12.0 in c:\\users\\nanth\\anaconda3\\lib\\site-packages (from tensorflow-intel==2.12.0->tensorflow) (1.15.0)\n",
      "Requirement already satisfied: numpy<1.24,>=1.22 in c:\\users\\nanth\\anaconda3\\lib\\site-packages (from tensorflow-intel==2.12.0->tensorflow) (1.22.4)\n",
      "Requirement already satisfied: tensorflow-io-gcs-filesystem>=0.23.1 in c:\\users\\nanth\\anaconda3\\lib\\site-packages (from tensorflow-intel==2.12.0->tensorflow) (0.31.0)\n",
      "Requirement already satisfied: wrapt<1.15,>=1.11.0 in c:\\users\\nanth\\anaconda3\\lib\\site-packages (from tensorflow-intel==2.12.0->tensorflow) (1.12.1)\n",
      "Requirement already satisfied: packaging in c:\\users\\nanth\\anaconda3\\lib\\site-packages (from tensorflow-intel==2.12.0->tensorflow) (23.0)\n",
      "Requirement already satisfied: typing-extensions>=3.6.6 in c:\\users\\nanth\\anaconda3\\lib\\site-packages (from tensorflow-intel==2.12.0->tensorflow) (3.7.4.3)\n",
      "Requirement already satisfied: google-pasta>=0.1.1 in c:\\users\\nanth\\anaconda3\\lib\\site-packages (from tensorflow-intel==2.12.0->tensorflow) (0.2.0)\n",
      "Requirement already satisfied: gast<=0.4.0,>=0.2.1 in c:\\users\\nanth\\anaconda3\\lib\\site-packages (from tensorflow-intel==2.12.0->tensorflow) (0.4.0)\n",
      "Requirement already satisfied: tensorboard<2.13,>=2.12 in c:\\users\\nanth\\anaconda3\\lib\\site-packages (from tensorflow-intel==2.12.0->tensorflow) (2.12.3)\n",
      "Requirement already satisfied: grpcio<2.0,>=1.24.3 in c:\\users\\nanth\\anaconda3\\lib\\site-packages (from tensorflow-intel==2.12.0->tensorflow) (1.54.2)\n",
      "Requirement already satisfied: tensorflow-estimator<2.13,>=2.12.0 in c:\\users\\nanth\\anaconda3\\lib\\site-packages (from tensorflow-intel==2.12.0->tensorflow) (2.12.0)\n",
      "Requirement already satisfied: absl-py>=1.0.0 in c:\\users\\nanth\\anaconda3\\lib\\site-packages (from tensorflow-intel==2.12.0->tensorflow) (1.4.0)\n",
      "Requirement already satisfied: setuptools in c:\\users\\nanth\\anaconda3\\lib\\site-packages (from tensorflow-intel==2.12.0->tensorflow) (52.0.0.post20210125)\n",
      "Requirement already satisfied: jax>=0.3.15 in c:\\users\\nanth\\anaconda3\\lib\\site-packages (from tensorflow-intel==2.12.0->tensorflow) (0.4.12)\n",
      "Requirement already satisfied: keras<2.13,>=2.12.0 in c:\\users\\nanth\\anaconda3\\lib\\site-packages (from tensorflow-intel==2.12.0->tensorflow) (2.12.0)\n",
      "Requirement already satisfied: protobuf!=4.21.0,!=4.21.1,!=4.21.2,!=4.21.3,!=4.21.4,!=4.21.5,<5.0.0dev,>=3.20.3 in c:\\users\\nanth\\anaconda3\\lib\\site-packages (from tensorflow-intel==2.12.0->tensorflow) (4.23.3)\n",
      "Requirement already satisfied: h5py>=2.9.0 in c:\\users\\nanth\\anaconda3\\lib\\site-packages (from tensorflow-intel==2.12.0->tensorflow) (2.10.0)\n",
      "Requirement already satisfied: libclang>=13.0.0 in c:\\users\\nanth\\anaconda3\\lib\\site-packages (from tensorflow-intel==2.12.0->tensorflow) (16.0.0)\n",
      "Requirement already satisfied: flatbuffers>=2.0 in c:\\users\\nanth\\anaconda3\\lib\\site-packages (from tensorflow-intel==2.12.0->tensorflow) (23.5.26)\n",
      "Requirement already satisfied: opt-einsum>=2.3.2 in c:\\users\\nanth\\anaconda3\\lib\\site-packages (from tensorflow-intel==2.12.0->tensorflow) (3.3.0)\n",
      "Requirement already satisfied: termcolor>=1.1.0 in c:\\users\\nanth\\anaconda3\\lib\\site-packages (from tensorflow-intel==2.12.0->tensorflow) (2.3.0)\n",
      "Requirement already satisfied: astunparse>=1.6.0 in c:\\users\\nanth\\anaconda3\\lib\\site-packages (from tensorflow-intel==2.12.0->tensorflow) (1.6.3)\n",
      "Requirement already satisfied: wheel<1.0,>=0.23.0 in c:\\users\\nanth\\anaconda3\\lib\\site-packages (from astunparse>=1.6.0->tensorflow-intel==2.12.0->tensorflow) (0.36.2)\n",
      "Requirement already satisfied: ml-dtypes>=0.1.0 in c:\\users\\nanth\\anaconda3\\lib\\site-packages (from jax>=0.3.15->tensorflow-intel==2.12.0->tensorflow) (0.2.0)\n",
      "Requirement already satisfied: importlib-metadata>=4.6 in c:\\users\\nanth\\anaconda3\\lib\\site-packages (from jax>=0.3.15->tensorflow-intel==2.12.0->tensorflow) (6.7.0)\n",
      "Requirement already satisfied: scipy>=1.7 in c:\\users\\nanth\\anaconda3\\lib\\site-packages (from jax>=0.3.15->tensorflow-intel==2.12.0->tensorflow) (1.10.1)\n",
      "Requirement already satisfied: zipp>=0.5 in c:\\users\\nanth\\anaconda3\\lib\\site-packages (from importlib-metadata>=4.6->jax>=0.3.15->tensorflow-intel==2.12.0->tensorflow) (3.4.1)\n",
      "Requirement already satisfied: requests<3,>=2.21.0 in c:\\users\\nanth\\anaconda3\\lib\\site-packages (from tensorboard<2.13,>=2.12->tensorflow-intel==2.12.0->tensorflow) (2.25.1)\n",
      "Requirement already satisfied: google-auth-oauthlib<1.1,>=0.5 in c:\\users\\nanth\\anaconda3\\lib\\site-packages (from tensorboard<2.13,>=2.12->tensorflow-intel==2.12.0->tensorflow) (1.0.0)\n",
      "Requirement already satisfied: tensorboard-data-server<0.8.0,>=0.7.0 in c:\\users\\nanth\\anaconda3\\lib\\site-packages (from tensorboard<2.13,>=2.12->tensorflow-intel==2.12.0->tensorflow) (0.7.1)\n",
      "Requirement already satisfied: werkzeug>=1.0.1 in c:\\users\\nanth\\anaconda3\\lib\\site-packages (from tensorboard<2.13,>=2.12->tensorflow-intel==2.12.0->tensorflow) (1.0.1)\n",
      "Requirement already satisfied: google-auth<3,>=1.6.3 in c:\\users\\nanth\\anaconda3\\lib\\site-packages (from tensorboard<2.13,>=2.12->tensorflow-intel==2.12.0->tensorflow) (2.20.0)\n",
      "Requirement already satisfied: markdown>=2.6.8 in c:\\users\\nanth\\anaconda3\\lib\\site-packages (from tensorboard<2.13,>=2.12->tensorflow-intel==2.12.0->tensorflow) (3.4.3)\n",
      "Requirement already satisfied: urllib3<2.0 in c:\\users\\nanth\\anaconda3\\lib\\site-packages (from google-auth<3,>=1.6.3->tensorboard<2.13,>=2.12->tensorflow-intel==2.12.0->tensorflow) (1.26.4)\n",
      "Requirement already satisfied: rsa<5,>=3.1.4 in c:\\users\\nanth\\anaconda3\\lib\\site-packages (from google-auth<3,>=1.6.3->tensorboard<2.13,>=2.12->tensorflow-intel==2.12.0->tensorflow) (4.9)\n",
      "Requirement already satisfied: pyasn1-modules>=0.2.1 in c:\\users\\nanth\\anaconda3\\lib\\site-packages (from google-auth<3,>=1.6.3->tensorboard<2.13,>=2.12->tensorflow-intel==2.12.0->tensorflow) (0.3.0)\n",
      "Requirement already satisfied: cachetools<6.0,>=2.0.0 in c:\\users\\nanth\\anaconda3\\lib\\site-packages (from google-auth<3,>=1.6.3->tensorboard<2.13,>=2.12->tensorflow-intel==2.12.0->tensorflow) (5.3.1)\n",
      "Requirement already satisfied: requests-oauthlib>=0.7.0 in c:\\users\\nanth\\anaconda3\\lib\\site-packages (from google-auth-oauthlib<1.1,>=0.5->tensorboard<2.13,>=2.12->tensorflow-intel==2.12.0->tensorflow) (1.3.1)\n",
      "Requirement already satisfied: pyasn1<0.6.0,>=0.4.6 in c:\\users\\nanth\\anaconda3\\lib\\site-packages (from pyasn1-modules>=0.2.1->google-auth<3,>=1.6.3->tensorboard<2.13,>=2.12->tensorflow-intel==2.12.0->tensorflow) (0.5.0)\n",
      "Requirement already satisfied: chardet<5,>=3.0.2 in c:\\users\\nanth\\anaconda3\\lib\\site-packages (from requests<3,>=2.21.0->tensorboard<2.13,>=2.12->tensorflow-intel==2.12.0->tensorflow) (4.0.0)\n",
      "Requirement already satisfied: idna<3,>=2.5 in c:\\users\\nanth\\anaconda3\\lib\\site-packages (from requests<3,>=2.21.0->tensorboard<2.13,>=2.12->tensorflow-intel==2.12.0->tensorflow) (2.10)\n",
      "Requirement already satisfied: certifi>=2017.4.17 in c:\\users\\nanth\\anaconda3\\lib\\site-packages (from requests<3,>=2.21.0->tensorboard<2.13,>=2.12->tensorflow-intel==2.12.0->tensorflow) (2020.12.5)\n",
      "Requirement already satisfied: oauthlib>=3.0.0 in c:\\users\\nanth\\anaconda3\\lib\\site-packages (from requests-oauthlib>=0.7.0->google-auth-oauthlib<1.1,>=0.5->tensorboard<2.13,>=2.12->tensorflow-intel==2.12.0->tensorflow) (3.2.2)\n"
     ]
    }
   ],
   "source": [
    "!pip install tensorflow"
   ]
  },
  {
   "cell_type": "code",
   "execution_count": 5,
   "id": "3fa52e06",
   "metadata": {},
   "outputs": [],
   "source": [
    "from sklearn.preprocessing import MinMaxScaler\n",
    "from tensorflow.keras.models import Sequential\n",
    "from tensorflow.keras.layers import Dense\n",
    "from tensorflow.keras.layers import LSTM\n",
    "from sklearn.metrics import mean_squared_error\n",
    "\n",
    "import matplotlib.pyplot as plt\n",
    "import seaborn as sns\n",
    "import warnings \n",
    "import pandas as pd\n",
    "import numpy as np\n",
    "import math \n",
    "warnings.filterwarnings('ignore')"
   ]
  },
  {
   "cell_type": "code",
   "execution_count": 6,
   "id": "d4b9a530",
   "metadata": {},
   "outputs": [
    {
     "data": {
      "text/html": [
       "<div>\n",
       "<style scoped>\n",
       "    .dataframe tbody tr th:only-of-type {\n",
       "        vertical-align: middle;\n",
       "    }\n",
       "\n",
       "    .dataframe tbody tr th {\n",
       "        vertical-align: top;\n",
       "    }\n",
       "\n",
       "    .dataframe thead th {\n",
       "        text-align: right;\n",
       "    }\n",
       "</style>\n",
       "<table border=\"1\" class=\"dataframe\">\n",
       "  <thead>\n",
       "    <tr style=\"text-align: right;\">\n",
       "      <th></th>\n",
       "      <th>Date</th>\n",
       "      <th>Open</th>\n",
       "      <th>High</th>\n",
       "      <th>Low</th>\n",
       "      <th>Last</th>\n",
       "      <th>Close</th>\n",
       "      <th>Total Trade Quantity</th>\n",
       "      <th>Turnover (Lacs)</th>\n",
       "    </tr>\n",
       "  </thead>\n",
       "  <tbody>\n",
       "    <tr>\n",
       "      <th>0</th>\n",
       "      <td>2018-09-28</td>\n",
       "      <td>234.05</td>\n",
       "      <td>235.95</td>\n",
       "      <td>230.20</td>\n",
       "      <td>233.50</td>\n",
       "      <td>233.75</td>\n",
       "      <td>3069914</td>\n",
       "      <td>7162.35</td>\n",
       "    </tr>\n",
       "    <tr>\n",
       "      <th>1</th>\n",
       "      <td>2018-09-27</td>\n",
       "      <td>234.55</td>\n",
       "      <td>236.80</td>\n",
       "      <td>231.10</td>\n",
       "      <td>233.80</td>\n",
       "      <td>233.25</td>\n",
       "      <td>5082859</td>\n",
       "      <td>11859.95</td>\n",
       "    </tr>\n",
       "    <tr>\n",
       "      <th>2</th>\n",
       "      <td>2018-09-26</td>\n",
       "      <td>240.00</td>\n",
       "      <td>240.00</td>\n",
       "      <td>232.50</td>\n",
       "      <td>235.00</td>\n",
       "      <td>234.25</td>\n",
       "      <td>2240909</td>\n",
       "      <td>5248.60</td>\n",
       "    </tr>\n",
       "    <tr>\n",
       "      <th>3</th>\n",
       "      <td>2018-09-25</td>\n",
       "      <td>233.30</td>\n",
       "      <td>236.75</td>\n",
       "      <td>232.00</td>\n",
       "      <td>236.25</td>\n",
       "      <td>236.10</td>\n",
       "      <td>2349368</td>\n",
       "      <td>5503.90</td>\n",
       "    </tr>\n",
       "    <tr>\n",
       "      <th>4</th>\n",
       "      <td>2018-09-24</td>\n",
       "      <td>233.55</td>\n",
       "      <td>239.20</td>\n",
       "      <td>230.75</td>\n",
       "      <td>234.00</td>\n",
       "      <td>233.30</td>\n",
       "      <td>3423509</td>\n",
       "      <td>7999.55</td>\n",
       "    </tr>\n",
       "  </tbody>\n",
       "</table>\n",
       "</div>"
      ],
      "text/plain": [
       "         Date    Open    High     Low    Last   Close  Total Trade Quantity  \\\n",
       "0  2018-09-28  234.05  235.95  230.20  233.50  233.75               3069914   \n",
       "1  2018-09-27  234.55  236.80  231.10  233.80  233.25               5082859   \n",
       "2  2018-09-26  240.00  240.00  232.50  235.00  234.25               2240909   \n",
       "3  2018-09-25  233.30  236.75  232.00  236.25  236.10               2349368   \n",
       "4  2018-09-24  233.55  239.20  230.75  234.00  233.30               3423509   \n",
       "\n",
       "   Turnover (Lacs)  \n",
       "0          7162.35  \n",
       "1         11859.95  \n",
       "2          5248.60  \n",
       "3          5503.90  \n",
       "4          7999.55  "
      ]
     },
     "execution_count": 6,
     "metadata": {},
     "output_type": "execute_result"
    }
   ],
   "source": [
    "d = pd.read_csv('https://raw.githubusercontent.com/mwitiderrick/stockprice/master/NSE-TATAGLOBAL.csv')\n",
    "d.head()"
   ]
  },
  {
   "cell_type": "code",
   "execution_count": 7,
   "id": "af603ddc",
   "metadata": {},
   "outputs": [
    {
     "name": "stdout",
     "output_type": "stream",
     "text": [
      "<class 'pandas.core.frame.DataFrame'>\n",
      "RangeIndex: 2035 entries, 0 to 2034\n",
      "Data columns (total 8 columns):\n",
      " #   Column                Non-Null Count  Dtype  \n",
      "---  ------                --------------  -----  \n",
      " 0   Date                  2035 non-null   object \n",
      " 1   Open                  2035 non-null   float64\n",
      " 2   High                  2035 non-null   float64\n",
      " 3   Low                   2035 non-null   float64\n",
      " 4   Last                  2035 non-null   float64\n",
      " 5   Close                 2035 non-null   float64\n",
      " 6   Total Trade Quantity  2035 non-null   int64  \n",
      " 7   Turnover (Lacs)       2035 non-null   float64\n",
      "dtypes: float64(6), int64(1), object(1)\n",
      "memory usage: 127.3+ KB\n"
     ]
    }
   ],
   "source": [
    "d.info()"
   ]
  },
  {
   "cell_type": "code",
   "execution_count": 8,
   "id": "e179c710",
   "metadata": {},
   "outputs": [
    {
     "data": {
      "text/html": [
       "<div>\n",
       "<style scoped>\n",
       "    .dataframe tbody tr th:only-of-type {\n",
       "        vertical-align: middle;\n",
       "    }\n",
       "\n",
       "    .dataframe tbody tr th {\n",
       "        vertical-align: top;\n",
       "    }\n",
       "\n",
       "    .dataframe thead th {\n",
       "        text-align: right;\n",
       "    }\n",
       "</style>\n",
       "<table border=\"1\" class=\"dataframe\">\n",
       "  <thead>\n",
       "    <tr style=\"text-align: right;\">\n",
       "      <th></th>\n",
       "      <th>Open</th>\n",
       "      <th>High</th>\n",
       "      <th>Low</th>\n",
       "      <th>Last</th>\n",
       "      <th>Close</th>\n",
       "      <th>Total Trade Quantity</th>\n",
       "      <th>Turnover (Lacs)</th>\n",
       "    </tr>\n",
       "  </thead>\n",
       "  <tbody>\n",
       "    <tr>\n",
       "      <th>count</th>\n",
       "      <td>2035.000000</td>\n",
       "      <td>2035.000000</td>\n",
       "      <td>2035.000000</td>\n",
       "      <td>2035.000000</td>\n",
       "      <td>2035.00000</td>\n",
       "      <td>2.035000e+03</td>\n",
       "      <td>2035.000000</td>\n",
       "    </tr>\n",
       "    <tr>\n",
       "      <th>mean</th>\n",
       "      <td>149.713735</td>\n",
       "      <td>151.992826</td>\n",
       "      <td>147.293931</td>\n",
       "      <td>149.474251</td>\n",
       "      <td>149.45027</td>\n",
       "      <td>2.335681e+06</td>\n",
       "      <td>3899.980565</td>\n",
       "    </tr>\n",
       "    <tr>\n",
       "      <th>std</th>\n",
       "      <td>48.664509</td>\n",
       "      <td>49.413109</td>\n",
       "      <td>47.931958</td>\n",
       "      <td>48.732570</td>\n",
       "      <td>48.71204</td>\n",
       "      <td>2.091778e+06</td>\n",
       "      <td>4570.767877</td>\n",
       "    </tr>\n",
       "    <tr>\n",
       "      <th>min</th>\n",
       "      <td>81.100000</td>\n",
       "      <td>82.800000</td>\n",
       "      <td>80.000000</td>\n",
       "      <td>81.000000</td>\n",
       "      <td>80.95000</td>\n",
       "      <td>3.961000e+04</td>\n",
       "      <td>37.040000</td>\n",
       "    </tr>\n",
       "    <tr>\n",
       "      <th>25%</th>\n",
       "      <td>120.025000</td>\n",
       "      <td>122.100000</td>\n",
       "      <td>118.300000</td>\n",
       "      <td>120.075000</td>\n",
       "      <td>120.05000</td>\n",
       "      <td>1.146444e+06</td>\n",
       "      <td>1427.460000</td>\n",
       "    </tr>\n",
       "    <tr>\n",
       "      <th>50%</th>\n",
       "      <td>141.500000</td>\n",
       "      <td>143.400000</td>\n",
       "      <td>139.600000</td>\n",
       "      <td>141.100000</td>\n",
       "      <td>141.25000</td>\n",
       "      <td>1.783456e+06</td>\n",
       "      <td>2512.030000</td>\n",
       "    </tr>\n",
       "    <tr>\n",
       "      <th>75%</th>\n",
       "      <td>157.175000</td>\n",
       "      <td>159.400000</td>\n",
       "      <td>155.150000</td>\n",
       "      <td>156.925000</td>\n",
       "      <td>156.90000</td>\n",
       "      <td>2.813594e+06</td>\n",
       "      <td>4539.015000</td>\n",
       "    </tr>\n",
       "    <tr>\n",
       "      <th>max</th>\n",
       "      <td>327.700000</td>\n",
       "      <td>328.750000</td>\n",
       "      <td>321.650000</td>\n",
       "      <td>325.950000</td>\n",
       "      <td>325.75000</td>\n",
       "      <td>2.919102e+07</td>\n",
       "      <td>55755.080000</td>\n",
       "    </tr>\n",
       "  </tbody>\n",
       "</table>\n",
       "</div>"
      ],
      "text/plain": [
       "              Open         High          Low         Last       Close  \\\n",
       "count  2035.000000  2035.000000  2035.000000  2035.000000  2035.00000   \n",
       "mean    149.713735   151.992826   147.293931   149.474251   149.45027   \n",
       "std      48.664509    49.413109    47.931958    48.732570    48.71204   \n",
       "min      81.100000    82.800000    80.000000    81.000000    80.95000   \n",
       "25%     120.025000   122.100000   118.300000   120.075000   120.05000   \n",
       "50%     141.500000   143.400000   139.600000   141.100000   141.25000   \n",
       "75%     157.175000   159.400000   155.150000   156.925000   156.90000   \n",
       "max     327.700000   328.750000   321.650000   325.950000   325.75000   \n",
       "\n",
       "       Total Trade Quantity  Turnover (Lacs)  \n",
       "count          2.035000e+03      2035.000000  \n",
       "mean           2.335681e+06      3899.980565  \n",
       "std            2.091778e+06      4570.767877  \n",
       "min            3.961000e+04        37.040000  \n",
       "25%            1.146444e+06      1427.460000  \n",
       "50%            1.783456e+06      2512.030000  \n",
       "75%            2.813594e+06      4539.015000  \n",
       "max            2.919102e+07     55755.080000  "
      ]
     },
     "execution_count": 8,
     "metadata": {},
     "output_type": "execute_result"
    }
   ],
   "source": [
    "d.describe()"
   ]
  },
  {
   "cell_type": "code",
   "execution_count": 9,
   "id": "d8def0ff",
   "metadata": {},
   "outputs": [
    {
     "data": {
      "text/plain": [
       "Date                    datetime64[ns]\n",
       "Open                           float64\n",
       "High                           float64\n",
       "Low                            float64\n",
       "Last                           float64\n",
       "Close                          float64\n",
       "Total Trade Quantity             int64\n",
       "Turnover (Lacs)                float64\n",
       "dtype: object"
      ]
     },
     "execution_count": 9,
     "metadata": {},
     "output_type": "execute_result"
    }
   ],
   "source": [
    "d['Date'] = pd.to_datetime(d['Date'])\n",
    "d.dtypes"
   ]
  },
  {
   "cell_type": "code",
   "execution_count": 10,
   "id": "792f69cb",
   "metadata": {},
   "outputs": [
    {
     "data": {
      "text/html": [
       "<div>\n",
       "<style scoped>\n",
       "    .dataframe tbody tr th:only-of-type {\n",
       "        vertical-align: middle;\n",
       "    }\n",
       "\n",
       "    .dataframe tbody tr th {\n",
       "        vertical-align: top;\n",
       "    }\n",
       "\n",
       "    .dataframe thead th {\n",
       "        text-align: right;\n",
       "    }\n",
       "</style>\n",
       "<table border=\"1\" class=\"dataframe\">\n",
       "  <thead>\n",
       "    <tr style=\"text-align: right;\">\n",
       "      <th></th>\n",
       "      <th>Date</th>\n",
       "      <th>Open</th>\n",
       "      <th>High</th>\n",
       "      <th>Low</th>\n",
       "      <th>Last</th>\n",
       "      <th>Close</th>\n",
       "      <th>Total Trade Quantity</th>\n",
       "      <th>Turnover (Lacs)</th>\n",
       "    </tr>\n",
       "  </thead>\n",
       "  <tbody>\n",
       "    <tr>\n",
       "      <th>2034</th>\n",
       "      <td>2010-07-21</td>\n",
       "      <td>122.1</td>\n",
       "      <td>123.00</td>\n",
       "      <td>121.05</td>\n",
       "      <td>121.10</td>\n",
       "      <td>121.55</td>\n",
       "      <td>658666</td>\n",
       "      <td>803.56</td>\n",
       "    </tr>\n",
       "    <tr>\n",
       "      <th>2033</th>\n",
       "      <td>2010-07-22</td>\n",
       "      <td>120.3</td>\n",
       "      <td>122.00</td>\n",
       "      <td>120.25</td>\n",
       "      <td>120.75</td>\n",
       "      <td>120.90</td>\n",
       "      <td>293312</td>\n",
       "      <td>355.17</td>\n",
       "    </tr>\n",
       "    <tr>\n",
       "      <th>2032</th>\n",
       "      <td>2010-07-23</td>\n",
       "      <td>121.8</td>\n",
       "      <td>121.95</td>\n",
       "      <td>120.25</td>\n",
       "      <td>120.35</td>\n",
       "      <td>120.65</td>\n",
       "      <td>281312</td>\n",
       "      <td>340.31</td>\n",
       "    </tr>\n",
       "    <tr>\n",
       "      <th>2031</th>\n",
       "      <td>2010-07-26</td>\n",
       "      <td>120.1</td>\n",
       "      <td>121.00</td>\n",
       "      <td>117.10</td>\n",
       "      <td>117.10</td>\n",
       "      <td>117.60</td>\n",
       "      <td>658440</td>\n",
       "      <td>780.01</td>\n",
       "    </tr>\n",
       "    <tr>\n",
       "      <th>2030</th>\n",
       "      <td>2010-07-27</td>\n",
       "      <td>117.6</td>\n",
       "      <td>119.50</td>\n",
       "      <td>112.00</td>\n",
       "      <td>118.80</td>\n",
       "      <td>118.65</td>\n",
       "      <td>586100</td>\n",
       "      <td>694.98</td>\n",
       "    </tr>\n",
       "  </tbody>\n",
       "</table>\n",
       "</div>"
      ],
      "text/plain": [
       "           Date   Open    High     Low    Last   Close  Total Trade Quantity  \\\n",
       "2034 2010-07-21  122.1  123.00  121.05  121.10  121.55                658666   \n",
       "2033 2010-07-22  120.3  122.00  120.25  120.75  120.90                293312   \n",
       "2032 2010-07-23  121.8  121.95  120.25  120.35  120.65                281312   \n",
       "2031 2010-07-26  120.1  121.00  117.10  117.10  117.60                658440   \n",
       "2030 2010-07-27  117.6  119.50  112.00  118.80  118.65                586100   \n",
       "\n",
       "      Turnover (Lacs)  \n",
       "2034           803.56  \n",
       "2033           355.17  \n",
       "2032           340.31  \n",
       "2031           780.01  \n",
       "2030           694.98  "
      ]
     },
     "execution_count": 10,
     "metadata": {},
     "output_type": "execute_result"
    }
   ],
   "source": [
    "d = d.sort_values('Date')\n",
    "d.head()\n"
   ]
  },
  {
   "cell_type": "code",
   "execution_count": 11,
   "id": "5c3c4b30",
   "metadata": {},
   "outputs": [
    {
     "data": {
      "text/plain": [
       "Text(0, 0.5, 'Close')"
      ]
     },
     "execution_count": 11,
     "metadata": {},
     "output_type": "execute_result"
    },
    {
     "data": {
      "image/png": "[encoded data removed]",
      "text/plain": [
       "<Figure size 648x432 with 1 Axes>"
      ]
     },
     "metadata": {
      "needs_background": "light"
     },
     "output_type": "display_data"
    }
   ],
   "source": [
    "plt.figure(figsize = (9,6))\n",
    "plt.title('Tata Stocks Closing Price')\n",
    "plt.plot(d['Close'],'g')\n",
    "plt.xlabel('Date',fontsize=15)\n",
    "plt.ylabel('Close',fontsize=15)"
   ]
  },
  {
   "cell_type": "code",
   "execution_count": 12,
   "id": "c37e70b4",
   "metadata": {},
   "outputs": [
    {
     "data": {
      "text/plain": [
       "<AxesSubplot:>"
      ]
     },
     "execution_count": 12,
     "metadata": {},
     "output_type": "execute_result"
    },
    {
     "data": {
      "image/png": "[encoded data removed]",
      "text/plain": [
       "<Figure size 720x504 with 2 Axes>"
      ]
     },
     "metadata": {
      "needs_background": "light"
     },
     "output_type": "display_data"
    }
   ],
   "source": [
    "dcorr = d.corr()\n",
    "top_corr_features = dcorr.index\n",
    "plt.figure(figsize=(10,7))\n",
    "sns.heatmap(d[top_corr_features].corr(), annot=True, cmap=\"PiYG\")"
   ]
  },
  {
   "cell_type": "markdown",
   "id": "df18bb64",
   "metadata": {},
   "source": [
    "# MinMaxScaler\n",
    "From the original dataset, we can tell that each of our target value are in close proximity to one another. So, we will use MinMaxScaler to scale down all the target variables in the range of (0, 1) for the ease of computation."
   ]
  },
  {
   "cell_type": "code",
   "execution_count": 13,
   "id": "98bf3eb8",
   "metadata": {},
   "outputs": [],
   "source": [
    "data_close = d.reset_index()['Close']\n",
    "data_close.head()\n",
    "scaler = MinMaxScaler(feature_range = (0, 1))\n",
    "data_close = scaler.fit_transform(np.array(data_close).reshape(-1, 1))"
   ]
  },
  {
   "cell_type": "markdown",
   "id": "7929d608",
   "metadata": {},
   "source": [
    "# Splitting train, Test data"
   ]
  },
  {
   "cell_type": "code",
   "execution_count": 14,
   "id": "c2e76c9c",
   "metadata": {},
   "outputs": [],
   "source": [
    "train_size = int(len(data_close)*0.70)\n",
    "test_size = len(data_close) - train_size\n",
    "train, test = data_close[0 : train_size, :], data_close[train_size : len(data_close), :1]"
   ]
  },
  {
   "cell_type": "code",
   "execution_count": 15,
   "id": "7e3d877b",
   "metadata": {},
   "outputs": [],
   "source": [
    "def create_matrix(ds, time_step=1):\n",
    "    dataX, dataY = [], []\n",
    "    for i in range(len(ds)-time_step-1):\n",
    "        a = ds[i:(i+time_step),0]\n",
    "        dataX.append(a)\n",
    "        dataY.append(ds[i+time_step,0])\n",
    "    return np.array(dataX), np.array(dataY)"
   ]
  },
  {
   "cell_type": "code",
   "execution_count": 16,
   "id": "f262a082",
   "metadata": {},
   "outputs": [
    {
     "name": "stdout",
     "output_type": "stream",
     "text": [
      "(1323, 100) (1323,)\n",
      "(510, 100) (510,)\n"
     ]
    }
   ],
   "source": [
    "step=100 \n",
    "X_train, y_train = create_matrix(train, step)\n",
    "X_test, y_test = create_matrix(test, step)\n",
    "print(X_train.shape, y_train.shape)\n",
    "print(X_test.shape, y_test.shape)"
   ]
  },
  {
   "cell_type": "code",
   "execution_count": 17,
   "id": "2edfd6ae",
   "metadata": {},
   "outputs": [],
   "source": [
    "X_train = X_train.reshape(X_train.shape[0], X_train.shape[1], 1)\n",
    "X_test = X_test.reshape(X_test.shape[0], X_test.shape[1], 1)"
   ]
  },
  {
   "cell_type": "markdown",
   "id": "7535bf3d",
   "metadata": {},
   "source": [
    "# LSTM Model"
   ]
  },
  {
   "cell_type": "code",
   "execution_count": 18,
   "id": "4faf84d0",
   "metadata": {},
   "outputs": [],
   "source": [
    "model = Sequential()\n",
    "model.add(LSTM(50, return_sequences=True,input_shape=(100,1)))\n",
    "model.add(LSTM(50,return_sequences=True))\n",
    "model.add(LSTM(50))\n",
    "model.add(Dense(1))\n",
    "model.compile(loss='mean_squared_error',optimizer='adam')"
   ]
  },
  {
   "cell_type": "code",
   "execution_count": 19,
   "id": "e22b85db",
   "metadata": {},
   "outputs": [
    {
     "name": "stdout",
     "output_type": "stream",
     "text": [
      "Model: \"sequential\"\n",
      "_________________________________________________________________\n",
      " Layer (type)                Output Shape              Param #   \n",
      "=================================================================\n",
      " lstm (LSTM)                 (None, 100, 50)           10400     \n",
      "                                                                 \n",
      " lstm_1 (LSTM)               (None, 100, 50)           20200     \n",
      "                                                                 \n",
      " lstm_2 (LSTM)               (None, 50)                20200     \n",
      "                                                                 \n",
      " dense (Dense)               (None, 1)                 51        \n",
      "                                                                 \n",
      "=================================================================\n",
      "Total params: 50,851\n",
      "Trainable params: 50,851\n",
      "Non-trainable params: 0\n",
      "_________________________________________________________________\n"
     ]
    }
   ],
   "source": [
    "model.summary()"
   ]
  },
  {
   "cell_type": "code",
   "execution_count": 21,
   "id": "1c088208",
   "metadata": {},
   "outputs": [
    {
     "name": "stdout",
     "output_type": "stream",
     "text": [
      "Epoch 1/77\n",
      "19/19 [==============================] - 3s 159ms/step - loss: 1.5732e-04 - val_loss: 1.6179e-04\n",
      "Epoch 2/77\n",
      "19/19 [==============================] - 3s 147ms/step - loss: 1.5404e-04 - val_loss: 1.2402e-04\n",
      "Epoch 3/77\n",
      "19/19 [==============================] - 3s 157ms/step - loss: 1.4467e-04 - val_loss: 1.6022e-04\n",
      "Epoch 4/77\n",
      "19/19 [==============================] - 3s 159ms/step - loss: 1.4057e-04 - val_loss: 1.1962e-04\n",
      "Epoch 5/77\n",
      "19/19 [==============================] - 3s 150ms/step - loss: 1.3265e-04 - val_loss: 1.2620e-04\n",
      "Epoch 6/77\n",
      "19/19 [==============================] - 3s 152ms/step - loss: 1.4962e-04 - val_loss: 1.4216e-04\n",
      "Epoch 7/77\n",
      "19/19 [==============================] - 4s 210ms/step - loss: 1.6566e-04 - val_loss: 1.3702e-04\n",
      "Epoch 8/77\n",
      "19/19 [==============================] - 5s 263ms/step - loss: 1.4193e-04 - val_loss: 1.5990e-04\n",
      "Epoch 9/77\n",
      "19/19 [==============================] - 4s 196ms/step - loss: 1.4082e-04 - val_loss: 1.3913e-04\n",
      "Epoch 10/77\n",
      "19/19 [==============================] - 4s 189ms/step - loss: 1.3656e-04 - val_loss: 1.1740e-04\n",
      "Epoch 11/77\n",
      "19/19 [==============================] - 4s 212ms/step - loss: 1.4049e-04 - val_loss: 1.2786e-04\n",
      "Epoch 12/77\n",
      "19/19 [==============================] - 3s 181ms/step - loss: 1.3379e-04 - val_loss: 1.1833e-04\n",
      "Epoch 13/77\n",
      "19/19 [==============================] - 3s 185ms/step - loss: 1.4424e-04 - val_loss: 1.3465e-04\n",
      "Epoch 14/77\n",
      "19/19 [==============================] - 5s 257ms/step - loss: 1.2995e-04 - val_loss: 1.1463e-04\n",
      "Epoch 15/77\n",
      "19/19 [==============================] - 5s 244ms/step - loss: 1.3795e-04 - val_loss: 1.7611e-04\n",
      "Epoch 16/77\n",
      "19/19 [==============================] - 4s 233ms/step - loss: 1.4128e-04 - val_loss: 1.2192e-04\n",
      "Epoch 17/77\n",
      "19/19 [==============================] - 4s 195ms/step - loss: 1.4138e-04 - val_loss: 1.1579e-04\n",
      "Epoch 18/77\n",
      "19/19 [==============================] - 3s 182ms/step - loss: 1.3058e-04 - val_loss: 1.1667e-04\n",
      "Epoch 19/77\n",
      "19/19 [==============================] - 3s 179ms/step - loss: 1.2834e-04 - val_loss: 1.3110e-04\n",
      "Epoch 20/77\n",
      "19/19 [==============================] - 3s 175ms/step - loss: 1.3480e-04 - val_loss: 1.1563e-04\n",
      "Epoch 21/77\n",
      "19/19 [==============================] - 3s 181ms/step - loss: 1.4329e-04 - val_loss: 1.1927e-04\n",
      "Epoch 22/77\n",
      "19/19 [==============================] - 4s 190ms/step - loss: 1.3840e-04 - val_loss: 1.1686e-04\n",
      "Epoch 23/77\n",
      "19/19 [==============================] - 4s 189ms/step - loss: 1.3686e-04 - val_loss: 1.2747e-04\n",
      "Epoch 24/77\n",
      "19/19 [==============================] - 4s 221ms/step - loss: 1.3496e-04 - val_loss: 1.3693e-04\n",
      "Epoch 25/77\n",
      "19/19 [==============================] - 4s 206ms/step - loss: 1.4873e-04 - val_loss: 1.2770e-04\n",
      "Epoch 26/77\n",
      "19/19 [==============================] - 3s 180ms/step - loss: 1.3667e-04 - val_loss: 1.2020e-04\n",
      "Epoch 27/77\n",
      "19/19 [==============================] - 4s 183ms/step - loss: 1.4342e-04 - val_loss: 1.3329e-04\n",
      "Epoch 28/77\n",
      "19/19 [==============================] - 4s 207ms/step - loss: 1.3968e-04 - val_loss: 1.2282e-04\n",
      "Epoch 29/77\n",
      "19/19 [==============================] - 3s 182ms/step - loss: 1.3401e-04 - val_loss: 1.2508e-04\n",
      "Epoch 30/77\n",
      "19/19 [==============================] - 3s 177ms/step - loss: 1.3015e-04 - val_loss: 1.1432e-04\n",
      "Epoch 31/77\n",
      "19/19 [==============================] - 3s 179ms/step - loss: 1.2903e-04 - val_loss: 1.2046e-04\n",
      "Epoch 32/77\n",
      "19/19 [==============================] - 3s 174ms/step - loss: 1.3520e-04 - val_loss: 1.1550e-04\n",
      "Epoch 33/77\n",
      "19/19 [==============================] - 3s 174ms/step - loss: 1.2638e-04 - val_loss: 1.2598e-04\n",
      "Epoch 34/77\n",
      "19/19 [==============================] - 6s 317ms/step - loss: 1.3092e-04 - val_loss: 1.1568e-04\n",
      "Epoch 35/77\n",
      "19/19 [==============================] - 4s 211ms/step - loss: 1.3447e-04 - val_loss: 1.1511e-04\n",
      "Epoch 36/77\n",
      "19/19 [==============================] - 4s 232ms/step - loss: 1.3319e-04 - val_loss: 1.3069e-04\n",
      "Epoch 37/77\n",
      "19/19 [==============================] - 5s 248ms/step - loss: 1.4394e-04 - val_loss: 1.1564e-04\n",
      "Epoch 38/77\n",
      "19/19 [==============================] - 4s 214ms/step - loss: 1.3653e-04 - val_loss: 1.3000e-04\n",
      "Epoch 39/77\n",
      "19/19 [==============================] - 4s 230ms/step - loss: 1.3522e-04 - val_loss: 1.1877e-04\n",
      "Epoch 40/77\n",
      "19/19 [==============================] - 4s 196ms/step - loss: 1.3987e-04 - val_loss: 1.1627e-04\n",
      "Epoch 41/77\n",
      "19/19 [==============================] - 4s 206ms/step - loss: 1.3762e-04 - val_loss: 1.2046e-04\n",
      "Epoch 42/77\n",
      "19/19 [==============================] - 4s 204ms/step - loss: 1.3283e-04 - val_loss: 1.1653e-04\n",
      "Epoch 43/77\n",
      "19/19 [==============================] - 3s 176ms/step - loss: 1.2961e-04 - val_loss: 1.4912e-04\n",
      "Epoch 44/77\n",
      "19/19 [==============================] - 4s 193ms/step - loss: 1.3151e-04 - val_loss: 1.1377e-04\n",
      "Epoch 45/77\n",
      "19/19 [==============================] - 4s 186ms/step - loss: 1.3013e-04 - val_loss: 1.2473e-04\n",
      "Epoch 46/77\n",
      "19/19 [==============================] - 4s 195ms/step - loss: 1.3819e-04 - val_loss: 1.1556e-04\n",
      "Epoch 47/77\n",
      "19/19 [==============================] - 3s 180ms/step - loss: 1.3805e-04 - val_loss: 1.2210e-04\n",
      "Epoch 48/77\n",
      "19/19 [==============================] - 3s 175ms/step - loss: 1.5069e-04 - val_loss: 1.2399e-04\n",
      "Epoch 49/77\n",
      "19/19 [==============================] - 3s 173ms/step - loss: 1.3371e-04 - val_loss: 1.2198e-04\n",
      "Epoch 50/77\n",
      "19/19 [==============================] - 3s 172ms/step - loss: 1.2690e-04 - val_loss: 1.1433e-04\n",
      "Epoch 51/77\n",
      "19/19 [==============================] - 3s 182ms/step - loss: 1.3372e-04 - val_loss: 1.4757e-04\n",
      "Epoch 52/77\n",
      "19/19 [==============================] - 4s 197ms/step - loss: 1.3810e-04 - val_loss: 1.1418e-04\n",
      "Epoch 53/77\n",
      "19/19 [==============================] - 4s 207ms/step - loss: 1.3897e-04 - val_loss: 1.1512e-04\n",
      "Epoch 54/77\n",
      "19/19 [==============================] - 4s 211ms/step - loss: 1.7135e-04 - val_loss: 1.6566e-04\n",
      "Epoch 55/77\n",
      "19/19 [==============================] - 4s 190ms/step - loss: 1.4210e-04 - val_loss: 1.1897e-04\n",
      "Epoch 56/77\n",
      "19/19 [==============================] - 4s 193ms/step - loss: 1.3535e-04 - val_loss: 1.1336e-04\n",
      "Epoch 57/77\n",
      "19/19 [==============================] - 5s 282ms/step - loss: 1.2998e-04 - val_loss: 1.1707e-04\n",
      "Epoch 58/77\n",
      "19/19 [==============================] - 4s 204ms/step - loss: 1.3114e-04 - val_loss: 1.3630e-04\n",
      "Epoch 59/77\n",
      "19/19 [==============================] - 4s 186ms/step - loss: 1.3061e-04 - val_loss: 1.1366e-04\n",
      "Epoch 60/77\n",
      "19/19 [==============================] - 4s 187ms/step - loss: 1.3046e-04 - val_loss: 1.2098e-04\n",
      "Epoch 61/77\n",
      "19/19 [==============================] - 4s 230ms/step - loss: 1.2899e-04 - val_loss: 1.1415e-04\n",
      "Epoch 62/77\n",
      "19/19 [==============================] - 3s 183ms/step - loss: 1.2859e-04 - val_loss: 1.2169e-04\n",
      "Epoch 63/77\n",
      "19/19 [==============================] - 3s 174ms/step - loss: 1.2830e-04 - val_loss: 1.1190e-04\n",
      "Epoch 64/77\n",
      "19/19 [==============================] - 3s 170ms/step - loss: 1.2438e-04 - val_loss: 1.3234e-04\n",
      "Epoch 65/77\n",
      "19/19 [==============================] - 4s 198ms/step - loss: 1.2885e-04 - val_loss: 1.1860e-04\n",
      "Epoch 66/77\n",
      "19/19 [==============================] - 3s 171ms/step - loss: 1.3601e-04 - val_loss: 1.1729e-04\n",
      "Epoch 67/77\n",
      "19/19 [==============================] - 3s 181ms/step - loss: 1.5320e-04 - val_loss: 1.3745e-04\n",
      "Epoch 68/77\n",
      "19/19 [==============================] - 4s 196ms/step - loss: 1.3436e-04 - val_loss: 1.1357e-04\n",
      "Epoch 69/77\n",
      "19/19 [==============================] - 3s 178ms/step - loss: 1.5544e-04 - val_loss: 1.1491e-04\n",
      "Epoch 70/77\n",
      "19/19 [==============================] - 3s 173ms/step - loss: 1.4216e-04 - val_loss: 1.3994e-04\n",
      "Epoch 71/77\n",
      "19/19 [==============================] - 6s 325ms/step - loss: 1.2886e-04 - val_loss: 1.1452e-04\n",
      "Epoch 72/77\n",
      "19/19 [==============================] - 7s 391ms/step - loss: 1.3405e-04 - val_loss: 1.2647e-04\n",
      "Epoch 73/77\n",
      "19/19 [==============================] - 4s 203ms/step - loss: 1.7179e-04 - val_loss: 1.2859e-04\n",
      "Epoch 74/77\n",
      "19/19 [==============================] - 4s 203ms/step - loss: 1.3056e-04 - val_loss: 1.2041e-04\n",
      "Epoch 75/77\n",
      "19/19 [==============================] - 3s 181ms/step - loss: 1.2651e-04 - val_loss: 1.1775e-04\n",
      "Epoch 76/77\n",
      "19/19 [==============================] - 4s 220ms/step - loss: 1.2795e-04 - val_loss: 1.1216e-04\n",
      "Epoch 77/77\n",
      "19/19 [==============================] - 4s 228ms/step - loss: 1.2596e-04 - val_loss: 1.1453e-04\n"
     ]
    }
   ],
   "source": [
    "history = model.fit(X_train, y_train, validation_split=0.1, epochs=77, batch_size=64, verbose=1, shuffle=True)"
   ]
  },
  {
   "cell_type": "code",
   "execution_count": 22,
   "id": "71bef039",
   "metadata": {},
   "outputs": [
    {
     "name": "stdout",
     "output_type": "stream",
     "text": [
      "42/42 [==============================] - 13s 53ms/step\n",
      "16/16 [==============================] - 1s 43ms/step\n"
     ]
    }
   ],
   "source": [
    "train_predict = model.predict(X_train)\n",
    "\n",
    "test_predict = model.predict(X_test)"
   ]
  },
  {
   "cell_type": "code",
   "execution_count": 23,
   "id": "3f719cb3",
   "metadata": {},
   "outputs": [],
   "source": [
    "# Reversing the MinMax Scaler\n",
    "train_predict = scaler.inverse_transform(train_predict)\n",
    "test_predict = scaler.inverse_transform(test_predict)"
   ]
  },
  {
   "cell_type": "code",
   "execution_count": 24,
   "id": "4a0c8baa",
   "metadata": {},
   "outputs": [
    {
     "data": {
      "text/plain": [
       "206.70856112705113"
      ]
     },
     "execution_count": 24,
     "metadata": {},
     "output_type": "execute_result"
    }
   ],
   "source": [
    "math.sqrt(mean_squared_error(y_train, train_predict))\n",
    "math.sqrt(mean_squared_error(y_test,test_predict))"
   ]
  },
  {
   "cell_type": "code",
   "execution_count": 25,
   "id": "a346ee4b",
   "metadata": {},
   "outputs": [
    {
     "data": {
      "image/png": "[encoded data removed]",
      "text/plain": [
       "<Figure size 432x288 with 1 Axes>"
      ]
     },
     "metadata": {
      "needs_background": "light"
     },
     "output_type": "display_data"
    }
   ],
   "source": [
    "### Visualise the Predictions\n",
    "look_back = 100\n",
    "train_num_pyredict_plot = np.empty_like(data_close)\n",
    "train_num_pyredict_plot[:, :] = np.nan\n",
    "train_num_pyredict_plot[look_back : len(train_predict) + look_back, :] = train_predict\n",
    "test_predict_plot = np.empty_like(data_close)\n",
    "test_predict_plot[:, :] = np.nan\n",
    "test_predict_plot[len(train_predict) + (look_back * 2) + 1 : len(data_close) - 1, :] = test_predict\n",
    "plt.plot(scaler.inverse_transform(data_close))\n",
    "plt.plot(train_num_pyredict_plot)\n",
    "plt.plot(test_predict_plot)\n",
    "plt.show()"
   ]
  },
  {
   "cell_type": "code",
   "execution_count": 26,
   "id": "0bab9ec5",
   "metadata": {},
   "outputs": [],
   "source": [
    "### Future Prediction Model\n",
    "x_inum_pyut=test[307:].reshape(1, -1)\n",
    "x_inum_pyut.shape\n",
    "temp_inum_pyut = list(x_inum_pyut)\n",
    "temp_inum_pyut = temp_inum_pyut[0].tolist()\n",
    "temp_inum_pyut = list(x_inum_pyut)\n",
    "temp_inum_pyut = temp_inum_pyut[0].tolist()"
   ]
  },
  {
   "cell_type": "code",
   "execution_count": 27,
   "id": "2fddb353",
   "metadata": {},
   "outputs": [
    {
     "data": {
      "text/plain": [
       "[<matplotlib.lines.Line2D at 0x12dfdd01a30>]"
      ]
     },
     "execution_count": 27,
     "metadata": {},
     "output_type": "execute_result"
    },
    {
     "data": {
      "image/png": "[encoded data removed]",
      "text/plain": [
       "<Figure size 432x288 with 1 Axes>"
      ]
     },
     "metadata": {
      "needs_background": "light"
     },
     "output_type": "display_data"
    }
   ],
   "source": [
    "day_new = np.arange(1, 101)\n",
    "day_pred = np.arange(101, 131)\n",
    "plt.plot(day_new, scaler.inverse_transform(data_close[1935 : ]))"
   ]
  }
 ],
 "metadata": {
  "kernelspec": {
   "display_name": "Python 3",
   "language": "python",
   "name": "python3"
  },
  "language_info": {
   "codemirror_mode": {
    "name": "ipython",
    "version": 3
   },
   "file_extension": ".py",
   "mimetype": "text/x-python",
   "name": "python",
   "nbconvert_exporter": "python",
   "pygments_lexer": "ipython3",
   "version": "3.8.8"
  }
 },
 "nbformat": 4,
 "nbformat_minor": 5
}
