{
 "cells": [
  {
   "cell_type": "markdown",
   "id": "a6118718",
   "metadata": {},
   "source": [
    "<center><font color=\"blue\"><h2> Music Recommendation System: </h2></font>\n",
    "<h4> by : Jash Thakar  </h4>"
   ]
  },
  {
   "cell_type": "markdown",
   "id": "da7bae9f",
   "metadata": {},
   "source": [
    "![](music_img.png)"
   ]
  },
  {
   "cell_type": "markdown",
   "id": "ab83d7fd",
   "metadata": {},
   "source": [
    "<h4><font color=\"blue\"> Importing required libraries: </h4></font>"
   ]
  },
  {
   "cell_type": "code",
   "execution_count": 1,
   "id": "7d1d27fa",
   "metadata": {},
   "outputs": [],
   "source": [
    "import pandas as pd\n",
    "import numpy as np\n",
    "import seaborn as sns\n",
    "import matplotlib.pyplot as plt\n",
    "%matplotlib inline\n",
    "from sklearn.preprocessing import StandardScaler\n",
    "from sklearn.ensemble import RandomForestClassifier\n",
    "from sklearn.model_selection import train_test_split\n",
    "from sklearn.metrics import accuracy_score\n",
    "from sklearn.metrics import confusion_matrix\n",
    "from sklearn.metrics import accuracy_score"
   ]
  },
  {
   "cell_type": "code",
   "execution_count": 2,
   "id": "0cee65ab",
   "metadata": {},
   "outputs": [],
   "source": [
    "import pandas as pd\n",
    "from sklearn.feature_extraction.text import TfidfVectorizer\n",
    "from sklearn.metrics.pairwise import cosine_similarity"
   ]
  },
  {
   "cell_type": "code",
   "execution_count": 3,
   "id": "2df5690e",
   "metadata": {},
   "outputs": [],
   "source": [
    "members_data=pd.read_csv(\"G:/Lets Grow More/Music recommendation/members.csv\")"
   ]
  },
  {
   "cell_type": "code",
   "execution_count": 4,
   "id": "242a6201",
   "metadata": {},
   "outputs": [
    {
     "data": {
      "text/html": [
       "<div>\n",
       "<style scoped>\n",
       "    .dataframe tbody tr th:only-of-type {\n",
       "        vertical-align: middle;\n",
       "    }\n",
       "\n",
       "    .dataframe tbody tr th {\n",
       "        vertical-align: top;\n",
       "    }\n",
       "\n",
       "    .dataframe thead th {\n",
       "        text-align: right;\n",
       "    }\n",
       "</style>\n",
       "<table border=\"1\" class=\"dataframe\">\n",
       "  <thead>\n",
       "    <tr style=\"text-align: right;\">\n",
       "      <th></th>\n",
       "      <th>msno</th>\n",
       "      <th>city</th>\n",
       "      <th>bd</th>\n",
       "      <th>gender</th>\n",
       "      <th>registered_via</th>\n",
       "      <th>registration_init_time</th>\n",
       "      <th>expiration_date</th>\n",
       "    </tr>\n",
       "  </thead>\n",
       "  <tbody>\n",
       "    <tr>\n",
       "      <th>0</th>\n",
       "      <td>XQxgAYj3klVKjR3oxPPXYYFp4soD4TuBghkhMTD4oTw=</td>\n",
       "      <td>1</td>\n",
       "      <td>0</td>\n",
       "      <td>NaN</td>\n",
       "      <td>7</td>\n",
       "      <td>20110820</td>\n",
       "      <td>20170920</td>\n",
       "    </tr>\n",
       "    <tr>\n",
       "      <th>1</th>\n",
       "      <td>UizsfmJb9mV54qE9hCYyU07Va97c0lCRLEQX3ae+ztM=</td>\n",
       "      <td>1</td>\n",
       "      <td>0</td>\n",
       "      <td>NaN</td>\n",
       "      <td>7</td>\n",
       "      <td>20150628</td>\n",
       "      <td>20170622</td>\n",
       "    </tr>\n",
       "    <tr>\n",
       "      <th>2</th>\n",
       "      <td>D8nEhsIOBSoE6VthTaqDX8U6lqjJ7dLdr72mOyLya2A=</td>\n",
       "      <td>1</td>\n",
       "      <td>0</td>\n",
       "      <td>NaN</td>\n",
       "      <td>4</td>\n",
       "      <td>20160411</td>\n",
       "      <td>20170712</td>\n",
       "    </tr>\n",
       "    <tr>\n",
       "      <th>3</th>\n",
       "      <td>mCuD+tZ1hERA/o5GPqk38e041J8ZsBaLcu7nGoIIvhI=</td>\n",
       "      <td>1</td>\n",
       "      <td>0</td>\n",
       "      <td>NaN</td>\n",
       "      <td>9</td>\n",
       "      <td>20150906</td>\n",
       "      <td>20150907</td>\n",
       "    </tr>\n",
       "    <tr>\n",
       "      <th>4</th>\n",
       "      <td>q4HRBfVSssAFS9iRfxWrohxuk9kCYMKjHOEagUMV6rQ=</td>\n",
       "      <td>1</td>\n",
       "      <td>0</td>\n",
       "      <td>NaN</td>\n",
       "      <td>4</td>\n",
       "      <td>20170126</td>\n",
       "      <td>20170613</td>\n",
       "    </tr>\n",
       "  </tbody>\n",
       "</table>\n",
       "</div>"
      ],
      "text/plain": [
       "                                           msno  city  bd gender   \n",
       "0  XQxgAYj3klVKjR3oxPPXYYFp4soD4TuBghkhMTD4oTw=     1   0    NaN  \\\n",
       "1  UizsfmJb9mV54qE9hCYyU07Va97c0lCRLEQX3ae+ztM=     1   0    NaN   \n",
       "2  D8nEhsIOBSoE6VthTaqDX8U6lqjJ7dLdr72mOyLya2A=     1   0    NaN   \n",
       "3  mCuD+tZ1hERA/o5GPqk38e041J8ZsBaLcu7nGoIIvhI=     1   0    NaN   \n",
       "4  q4HRBfVSssAFS9iRfxWrohxuk9kCYMKjHOEagUMV6rQ=     1   0    NaN   \n",
       "\n",
       "   registered_via  registration_init_time  expiration_date  \n",
       "0               7                20110820         20170920  \n",
       "1               7                20150628         20170622  \n",
       "2               4                20160411         20170712  \n",
       "3               9                20150906         20150907  \n",
       "4               4                20170126         20170613  "
      ]
     },
     "execution_count": 4,
     "metadata": {},
     "output_type": "execute_result"
    }
   ],
   "source": [
    "members_data.head()"
   ]
  },
  {
   "cell_type": "code",
   "execution_count": 5,
   "id": "6db63282",
   "metadata": {},
   "outputs": [
    {
     "data": {
      "text/html": [
       "<div>\n",
       "<style scoped>\n",
       "    .dataframe tbody tr th:only-of-type {\n",
       "        vertical-align: middle;\n",
       "    }\n",
       "\n",
       "    .dataframe tbody tr th {\n",
       "        vertical-align: top;\n",
       "    }\n",
       "\n",
       "    .dataframe thead th {\n",
       "        text-align: right;\n",
       "    }\n",
       "</style>\n",
       "<table border=\"1\" class=\"dataframe\">\n",
       "  <thead>\n",
       "    <tr style=\"text-align: right;\">\n",
       "      <th></th>\n",
       "      <th>id</th>\n",
       "      <th>target</th>\n",
       "    </tr>\n",
       "  </thead>\n",
       "  <tbody>\n",
       "    <tr>\n",
       "      <th>0</th>\n",
       "      <td>0</td>\n",
       "      <td>0.5</td>\n",
       "    </tr>\n",
       "    <tr>\n",
       "      <th>1</th>\n",
       "      <td>1</td>\n",
       "      <td>0.5</td>\n",
       "    </tr>\n",
       "    <tr>\n",
       "      <th>2</th>\n",
       "      <td>2</td>\n",
       "      <td>0.5</td>\n",
       "    </tr>\n",
       "    <tr>\n",
       "      <th>3</th>\n",
       "      <td>3</td>\n",
       "      <td>0.5</td>\n",
       "    </tr>\n",
       "    <tr>\n",
       "      <th>4</th>\n",
       "      <td>4</td>\n",
       "      <td>0.5</td>\n",
       "    </tr>\n",
       "  </tbody>\n",
       "</table>\n",
       "</div>"
      ],
      "text/plain": [
       "   id  target\n",
       "0   0     0.5\n",
       "1   1     0.5\n",
       "2   2     0.5\n",
       "3   3     0.5\n",
       "4   4     0.5"
      ]
     },
     "execution_count": 5,
     "metadata": {},
     "output_type": "execute_result"
    }
   ],
   "source": [
    "submission_data=pd.read_csv(\"G:/Lets Grow More/Music recommendation/sample_submission.csv\",nrows=20000)\n",
    "submission_data.head()"
   ]
  },
  {
   "cell_type": "code",
   "execution_count": 6,
   "id": "27b9b914",
   "metadata": {},
   "outputs": [
    {
     "data": {
      "text/html": [
       "<div>\n",
       "<style scoped>\n",
       "    .dataframe tbody tr th:only-of-type {\n",
       "        vertical-align: middle;\n",
       "    }\n",
       "\n",
       "    .dataframe tbody tr th {\n",
       "        vertical-align: top;\n",
       "    }\n",
       "\n",
       "    .dataframe thead th {\n",
       "        text-align: right;\n",
       "    }\n",
       "</style>\n",
       "<table border=\"1\" class=\"dataframe\">\n",
       "  <thead>\n",
       "    <tr style=\"text-align: right;\">\n",
       "      <th></th>\n",
       "      <th>song_id</th>\n",
       "      <th>name</th>\n",
       "      <th>isrc</th>\n",
       "    </tr>\n",
       "  </thead>\n",
       "  <tbody>\n",
       "    <tr>\n",
       "      <th>0</th>\n",
       "      <td>LP7pLJoJFBvyuUwvu+oLzjT+bI+UeBPURCecJsX1jjs=</td>\n",
       "      <td>我們</td>\n",
       "      <td>TWUM71200043</td>\n",
       "    </tr>\n",
       "    <tr>\n",
       "      <th>1</th>\n",
       "      <td>ClazTFnk6r0Bnuie44bocdNMM3rdlrq0bCGAsGUWcHE=</td>\n",
       "      <td>Let Me Love You</td>\n",
       "      <td>QMZSY1600015</td>\n",
       "    </tr>\n",
       "    <tr>\n",
       "      <th>2</th>\n",
       "      <td>u2ja/bZE3zhCGxvbbOB3zOoUjx27u40cf5g09UXMoKQ=</td>\n",
       "      <td>原諒我</td>\n",
       "      <td>TWA530887303</td>\n",
       "    </tr>\n",
       "    <tr>\n",
       "      <th>3</th>\n",
       "      <td>92Fqsy0+p6+RHe2EoLKjHahORHR1Kq1TBJoClW9v+Ts=</td>\n",
       "      <td>Classic</td>\n",
       "      <td>USSM11301446</td>\n",
       "    </tr>\n",
       "    <tr>\n",
       "      <th>4</th>\n",
       "      <td>0QFmz/+rJy1Q56C1DuYqT9hKKqi5TUqx0sN0IwvoHrw=</td>\n",
       "      <td>愛投羅網</td>\n",
       "      <td>TWA471306001</td>\n",
       "    </tr>\n",
       "  </tbody>\n",
       "</table>\n",
       "</div>"
      ],
      "text/plain": [
       "                                        song_id             name          isrc\n",
       "0  LP7pLJoJFBvyuUwvu+oLzjT+bI+UeBPURCecJsX1jjs=               我們  TWUM71200043\n",
       "1  ClazTFnk6r0Bnuie44bocdNMM3rdlrq0bCGAsGUWcHE=  Let Me Love You  QMZSY1600015\n",
       "2  u2ja/bZE3zhCGxvbbOB3zOoUjx27u40cf5g09UXMoKQ=              原諒我  TWA530887303\n",
       "3  92Fqsy0+p6+RHe2EoLKjHahORHR1Kq1TBJoClW9v+Ts=          Classic  USSM11301446\n",
       "4  0QFmz/+rJy1Q56C1DuYqT9hKKqi5TUqx0sN0IwvoHrw=             愛投羅網  TWA471306001"
      ]
     },
     "execution_count": 6,
     "metadata": {},
     "output_type": "execute_result"
    }
   ],
   "source": [
    "songs_info=pd.read_csv(\"G:/Lets Grow More/Music recommendation/song_extra_info.csv\")\n",
    "songs_info.head()"
   ]
  },
  {
   "cell_type": "code",
   "execution_count": 7,
   "id": "7dd2052c",
   "metadata": {},
   "outputs": [
    {
     "data": {
      "text/html": [
       "<div>\n",
       "<style scoped>\n",
       "    .dataframe tbody tr th:only-of-type {\n",
       "        vertical-align: middle;\n",
       "    }\n",
       "\n",
       "    .dataframe tbody tr th {\n",
       "        vertical-align: top;\n",
       "    }\n",
       "\n",
       "    .dataframe thead th {\n",
       "        text-align: right;\n",
       "    }\n",
       "</style>\n",
       "<table border=\"1\" class=\"dataframe\">\n",
       "  <thead>\n",
       "    <tr style=\"text-align: right;\">\n",
       "      <th></th>\n",
       "      <th>song_id</th>\n",
       "      <th>song_length</th>\n",
       "      <th>genre_ids</th>\n",
       "      <th>artist_name</th>\n",
       "      <th>composer</th>\n",
       "      <th>lyricist</th>\n",
       "      <th>language</th>\n",
       "    </tr>\n",
       "  </thead>\n",
       "  <tbody>\n",
       "    <tr>\n",
       "      <th>0</th>\n",
       "      <td>CXoTN1eb7AI+DntdU1vbcwGRV4SCIDxZu+YD8JP8r4E=</td>\n",
       "      <td>247640</td>\n",
       "      <td>465</td>\n",
       "      <td>張信哲 (Jeff Chang)</td>\n",
       "      <td>董貞</td>\n",
       "      <td>何啟弘</td>\n",
       "      <td>3.0</td>\n",
       "    </tr>\n",
       "    <tr>\n",
       "      <th>1</th>\n",
       "      <td>o0kFgae9QtnYgRkVPqLJwa05zIhRlUjfF7O1tDw0ZDU=</td>\n",
       "      <td>197328</td>\n",
       "      <td>444</td>\n",
       "      <td>BLACKPINK</td>\n",
       "      <td>TEDDY|  FUTURE BOUNCE|  Bekuh BOOM</td>\n",
       "      <td>TEDDY</td>\n",
       "      <td>31.0</td>\n",
       "    </tr>\n",
       "    <tr>\n",
       "      <th>2</th>\n",
       "      <td>DwVvVurfpuz+XPuFvucclVQEyPqcpUkHR0ne1RQzPs0=</td>\n",
       "      <td>231781</td>\n",
       "      <td>465</td>\n",
       "      <td>SUPER JUNIOR</td>\n",
       "      <td>NaN</td>\n",
       "      <td>NaN</td>\n",
       "      <td>31.0</td>\n",
       "    </tr>\n",
       "    <tr>\n",
       "      <th>3</th>\n",
       "      <td>dKMBWoZyScdxSkihKG+Vf47nc18N9q4m58+b4e7dSSE=</td>\n",
       "      <td>273554</td>\n",
       "      <td>465</td>\n",
       "      <td>S.H.E</td>\n",
       "      <td>湯小康</td>\n",
       "      <td>徐世珍</td>\n",
       "      <td>3.0</td>\n",
       "    </tr>\n",
       "    <tr>\n",
       "      <th>4</th>\n",
       "      <td>W3bqWd3T+VeHFzHAUfARgW9AvVRaF4N5Yzm4Mr6Eo/o=</td>\n",
       "      <td>140329</td>\n",
       "      <td>726</td>\n",
       "      <td>貴族精選</td>\n",
       "      <td>Traditional</td>\n",
       "      <td>Traditional</td>\n",
       "      <td>52.0</td>\n",
       "    </tr>\n",
       "  </tbody>\n",
       "</table>\n",
       "</div>"
      ],
      "text/plain": [
       "                                        song_id  song_length genre_ids   \n",
       "0  CXoTN1eb7AI+DntdU1vbcwGRV4SCIDxZu+YD8JP8r4E=       247640       465  \\\n",
       "1  o0kFgae9QtnYgRkVPqLJwa05zIhRlUjfF7O1tDw0ZDU=       197328       444   \n",
       "2  DwVvVurfpuz+XPuFvucclVQEyPqcpUkHR0ne1RQzPs0=       231781       465   \n",
       "3  dKMBWoZyScdxSkihKG+Vf47nc18N9q4m58+b4e7dSSE=       273554       465   \n",
       "4  W3bqWd3T+VeHFzHAUfARgW9AvVRaF4N5Yzm4Mr6Eo/o=       140329       726   \n",
       "\n",
       "        artist_name                            composer     lyricist  language  \n",
       "0  張信哲 (Jeff Chang)                                  董貞          何啟弘       3.0  \n",
       "1         BLACKPINK  TEDDY|  FUTURE BOUNCE|  Bekuh BOOM        TEDDY      31.0  \n",
       "2      SUPER JUNIOR                                 NaN          NaN      31.0  \n",
       "3             S.H.E                                 湯小康          徐世珍       3.0  \n",
       "4              貴族精選                         Traditional  Traditional      52.0  "
      ]
     },
     "execution_count": 7,
     "metadata": {},
     "output_type": "execute_result"
    }
   ],
   "source": [
    "songs_data=pd.read_csv(\"G:/Lets Grow More/Music recommendation/songs.csv\",nrows=20000)\n",
    "songs_data.head()"
   ]
  },
  {
   "cell_type": "code",
   "execution_count": 8,
   "id": "b8e62cd9",
   "metadata": {},
   "outputs": [
    {
     "data": {
      "text/html": [
       "<div>\n",
       "<style scoped>\n",
       "    .dataframe tbody tr th:only-of-type {\n",
       "        vertical-align: middle;\n",
       "    }\n",
       "\n",
       "    .dataframe tbody tr th {\n",
       "        vertical-align: top;\n",
       "    }\n",
       "\n",
       "    .dataframe thead th {\n",
       "        text-align: right;\n",
       "    }\n",
       "</style>\n",
       "<table border=\"1\" class=\"dataframe\">\n",
       "  <thead>\n",
       "    <tr style=\"text-align: right;\">\n",
       "      <th></th>\n",
       "      <th>msno</th>\n",
       "      <th>song_id</th>\n",
       "      <th>source_system_tab</th>\n",
       "      <th>source_screen_name</th>\n",
       "      <th>source_type</th>\n",
       "      <th>target</th>\n",
       "    </tr>\n",
       "  </thead>\n",
       "  <tbody>\n",
       "    <tr>\n",
       "      <th>0</th>\n",
       "      <td>FGtllVqz18RPiwJj/edr2gV78zirAiY/9SmYvia+kCg=</td>\n",
       "      <td>BBzumQNXUHKdEBOB7mAJuzok+IJA1c2Ryg/yzTF6tik=</td>\n",
       "      <td>explore</td>\n",
       "      <td>Explore</td>\n",
       "      <td>online-playlist</td>\n",
       "      <td>1</td>\n",
       "    </tr>\n",
       "    <tr>\n",
       "      <th>1</th>\n",
       "      <td>Xumu+NIjS6QYVxDS4/t3SawvJ7viT9hPKXmf0RtLNx8=</td>\n",
       "      <td>bhp/MpSNoqoxOIB+/l8WPqu6jldth4DIpCm3ayXnJqM=</td>\n",
       "      <td>my library</td>\n",
       "      <td>Local playlist more</td>\n",
       "      <td>local-playlist</td>\n",
       "      <td>1</td>\n",
       "    </tr>\n",
       "    <tr>\n",
       "      <th>2</th>\n",
       "      <td>Xumu+NIjS6QYVxDS4/t3SawvJ7viT9hPKXmf0RtLNx8=</td>\n",
       "      <td>JNWfrrC7zNN7BdMpsISKa4Mw+xVJYNnxXh3/Epw7QgY=</td>\n",
       "      <td>my library</td>\n",
       "      <td>Local playlist more</td>\n",
       "      <td>local-playlist</td>\n",
       "      <td>1</td>\n",
       "    </tr>\n",
       "    <tr>\n",
       "      <th>3</th>\n",
       "      <td>Xumu+NIjS6QYVxDS4/t3SawvJ7viT9hPKXmf0RtLNx8=</td>\n",
       "      <td>2A87tzfnJTSWqD7gIZHisolhe4DMdzkbd6LzO1KHjNs=</td>\n",
       "      <td>my library</td>\n",
       "      <td>Local playlist more</td>\n",
       "      <td>local-playlist</td>\n",
       "      <td>1</td>\n",
       "    </tr>\n",
       "    <tr>\n",
       "      <th>4</th>\n",
       "      <td>FGtllVqz18RPiwJj/edr2gV78zirAiY/9SmYvia+kCg=</td>\n",
       "      <td>3qm6XTZ6MOCU11x8FIVbAGH5l5uMkT3/ZalWG1oo2Gc=</td>\n",
       "      <td>explore</td>\n",
       "      <td>Explore</td>\n",
       "      <td>online-playlist</td>\n",
       "      <td>1</td>\n",
       "    </tr>\n",
       "  </tbody>\n",
       "</table>\n",
       "</div>"
      ],
      "text/plain": [
       "                                           msno   \n",
       "0  FGtllVqz18RPiwJj/edr2gV78zirAiY/9SmYvia+kCg=  \\\n",
       "1  Xumu+NIjS6QYVxDS4/t3SawvJ7viT9hPKXmf0RtLNx8=   \n",
       "2  Xumu+NIjS6QYVxDS4/t3SawvJ7viT9hPKXmf0RtLNx8=   \n",
       "3  Xumu+NIjS6QYVxDS4/t3SawvJ7viT9hPKXmf0RtLNx8=   \n",
       "4  FGtllVqz18RPiwJj/edr2gV78zirAiY/9SmYvia+kCg=   \n",
       "\n",
       "                                        song_id source_system_tab   \n",
       "0  BBzumQNXUHKdEBOB7mAJuzok+IJA1c2Ryg/yzTF6tik=           explore  \\\n",
       "1  bhp/MpSNoqoxOIB+/l8WPqu6jldth4DIpCm3ayXnJqM=        my library   \n",
       "2  JNWfrrC7zNN7BdMpsISKa4Mw+xVJYNnxXh3/Epw7QgY=        my library   \n",
       "3  2A87tzfnJTSWqD7gIZHisolhe4DMdzkbd6LzO1KHjNs=        my library   \n",
       "4  3qm6XTZ6MOCU11x8FIVbAGH5l5uMkT3/ZalWG1oo2Gc=           explore   \n",
       "\n",
       "    source_screen_name      source_type  target  \n",
       "0              Explore  online-playlist       1  \n",
       "1  Local playlist more   local-playlist       1  \n",
       "2  Local playlist more   local-playlist       1  \n",
       "3  Local playlist more   local-playlist       1  \n",
       "4              Explore  online-playlist       1  "
      ]
     },
     "execution_count": 8,
     "metadata": {},
     "output_type": "execute_result"
    }
   ],
   "source": [
    "train_data=pd.read_csv(\"G:/Lets Grow More/Music recommendation/train.csv\",nrows=20000)\n",
    "train_data.head()"
   ]
  },
  {
   "cell_type": "code",
   "execution_count": 9,
   "id": "7c3c92a1",
   "metadata": {},
   "outputs": [
    {
     "data": {
      "text/html": [
       "<div>\n",
       "<style scoped>\n",
       "    .dataframe tbody tr th:only-of-type {\n",
       "        vertical-align: middle;\n",
       "    }\n",
       "\n",
       "    .dataframe tbody tr th {\n",
       "        vertical-align: top;\n",
       "    }\n",
       "\n",
       "    .dataframe thead th {\n",
       "        text-align: right;\n",
       "    }\n",
       "</style>\n",
       "<table border=\"1\" class=\"dataframe\">\n",
       "  <thead>\n",
       "    <tr style=\"text-align: right;\">\n",
       "      <th></th>\n",
       "      <th>id</th>\n",
       "      <th>msno</th>\n",
       "      <th>song_id</th>\n",
       "      <th>source_system_tab</th>\n",
       "      <th>source_screen_name</th>\n",
       "      <th>source_type</th>\n",
       "    </tr>\n",
       "  </thead>\n",
       "  <tbody>\n",
       "    <tr>\n",
       "      <th>0</th>\n",
       "      <td>0</td>\n",
       "      <td>V8ruy7SGk7tDm3zA51DPpn6qutt+vmKMBKa21dp54uM=</td>\n",
       "      <td>WmHKgKMlp1lQMecNdNvDMkvIycZYHnFwDT72I5sIssc=</td>\n",
       "      <td>my library</td>\n",
       "      <td>Local playlist more</td>\n",
       "      <td>local-library</td>\n",
       "    </tr>\n",
       "    <tr>\n",
       "      <th>1</th>\n",
       "      <td>1</td>\n",
       "      <td>V8ruy7SGk7tDm3zA51DPpn6qutt+vmKMBKa21dp54uM=</td>\n",
       "      <td>y/rsZ9DC7FwK5F2PK2D5mj+aOBUJAjuu3dZ14NgE0vM=</td>\n",
       "      <td>my library</td>\n",
       "      <td>Local playlist more</td>\n",
       "      <td>local-library</td>\n",
       "    </tr>\n",
       "    <tr>\n",
       "      <th>2</th>\n",
       "      <td>2</td>\n",
       "      <td>/uQAlrAkaczV+nWCd2sPF2ekvXPRipV7q0l+gbLuxjw=</td>\n",
       "      <td>8eZLFOdGVdXBSqoAv5nsLigeH2BvKXzTQYtUM53I0k4=</td>\n",
       "      <td>discover</td>\n",
       "      <td>NaN</td>\n",
       "      <td>song-based-playlist</td>\n",
       "    </tr>\n",
       "    <tr>\n",
       "      <th>3</th>\n",
       "      <td>3</td>\n",
       "      <td>1a6oo/iXKatxQx4eS9zTVD+KlSVaAFbTIqVvwLC1Y0k=</td>\n",
       "      <td>ztCf8thYsS4YN3GcIL/bvoxLm/T5mYBVKOO4C9NiVfQ=</td>\n",
       "      <td>radio</td>\n",
       "      <td>Radio</td>\n",
       "      <td>radio</td>\n",
       "    </tr>\n",
       "    <tr>\n",
       "      <th>4</th>\n",
       "      <td>4</td>\n",
       "      <td>1a6oo/iXKatxQx4eS9zTVD+KlSVaAFbTIqVvwLC1Y0k=</td>\n",
       "      <td>MKVMpslKcQhMaFEgcEQhEfi5+RZhMYlU3eRDpySrH8Y=</td>\n",
       "      <td>radio</td>\n",
       "      <td>Radio</td>\n",
       "      <td>radio</td>\n",
       "    </tr>\n",
       "  </tbody>\n",
       "</table>\n",
       "</div>"
      ],
      "text/plain": [
       "   id                                          msno   \n",
       "0   0  V8ruy7SGk7tDm3zA51DPpn6qutt+vmKMBKa21dp54uM=  \\\n",
       "1   1  V8ruy7SGk7tDm3zA51DPpn6qutt+vmKMBKa21dp54uM=   \n",
       "2   2  /uQAlrAkaczV+nWCd2sPF2ekvXPRipV7q0l+gbLuxjw=   \n",
       "3   3  1a6oo/iXKatxQx4eS9zTVD+KlSVaAFbTIqVvwLC1Y0k=   \n",
       "4   4  1a6oo/iXKatxQx4eS9zTVD+KlSVaAFbTIqVvwLC1Y0k=   \n",
       "\n",
       "                                        song_id source_system_tab   \n",
       "0  WmHKgKMlp1lQMecNdNvDMkvIycZYHnFwDT72I5sIssc=        my library  \\\n",
       "1  y/rsZ9DC7FwK5F2PK2D5mj+aOBUJAjuu3dZ14NgE0vM=        my library   \n",
       "2  8eZLFOdGVdXBSqoAv5nsLigeH2BvKXzTQYtUM53I0k4=          discover   \n",
       "3  ztCf8thYsS4YN3GcIL/bvoxLm/T5mYBVKOO4C9NiVfQ=             radio   \n",
       "4  MKVMpslKcQhMaFEgcEQhEfi5+RZhMYlU3eRDpySrH8Y=             radio   \n",
       "\n",
       "    source_screen_name          source_type  \n",
       "0  Local playlist more        local-library  \n",
       "1  Local playlist more        local-library  \n",
       "2                  NaN  song-based-playlist  \n",
       "3                Radio                radio  \n",
       "4                Radio                radio  "
      ]
     },
     "execution_count": 9,
     "metadata": {},
     "output_type": "execute_result"
    }
   ],
   "source": [
    "test_data=pd.read_csv(\"G:/Lets Grow More/Music recommendation/test.csv\")\n",
    "test_data.head()"
   ]
  },
  {
   "cell_type": "code",
   "execution_count": 10,
   "id": "365eef41",
   "metadata": {},
   "outputs": [
    {
     "name": "stdout",
     "output_type": "stream",
     "text": [
      "The songs_data has 20000 rows and 7 columns\n",
      "The songs_extra_info_data  has 2295971 rows and 3 columns\n",
      "The members_data has 34403 rows and 7 columns\n",
      "The sample_submission_data  has 20000 rows and 2 columns\n",
      "The train_data has 20000 rows and 6 columns\n",
      "The test_data has 2556790 rows and 6 columns\n"
     ]
    }
   ],
   "source": [
    "print(f\"The songs_data has {songs_data.shape[0]} rows and {songs_data.shape[1]} columns\")\n",
    "print(f\"The songs_extra_info_data  has {songs_info.shape[0]} rows and {songs_info.shape[1]} columns\")\n",
    "print(f\"The members_data has {members_data.shape[0]} rows and {members_data.shape[1]} columns\")\n",
    "print(f\"The sample_submission_data  has {submission_data.shape[0]} rows and {submission_data.shape[1]} columns\")\n",
    "print(f\"The train_data has {train_data.shape[0]} rows and {train_data.shape[1]} columns\")\n",
    "print(f\"The test_data has {test_data.shape[0]} rows and {test_data.shape[1]} columns\")"
   ]
  },
  {
   "cell_type": "code",
   "execution_count": 11,
   "id": "2dbfa006",
   "metadata": {},
   "outputs": [
    {
     "name": "stdout",
     "output_type": "stream",
     "text": [
      "Columns present in the songs_data are:\n",
      "song_id\n",
      "song_length\n",
      "genre_ids\n",
      "artist_name\n",
      "composer\n",
      "lyricist\n",
      "language\n"
     ]
    }
   ],
   "source": [
    "print(\"Columns present in the songs_data are:\")\n",
    "for columns in songs_data.columns:\n",
    "    print(columns)"
   ]
  },
  {
   "cell_type": "code",
   "execution_count": 12,
   "id": "19037d6c",
   "metadata": {},
   "outputs": [
    {
     "name": "stdout",
     "output_type": "stream",
     "text": [
      "Number of records : 20000\n",
      "Count of distinct song lengths : 10734\n",
      "Count of distinct genre ids : 275\n",
      "Count of distinct artist name : 8378\n",
      "Count of distinct composer : 8332\n",
      "Count of distinct lyricist : 3977\n",
      "Count of distinct languages : 10\n"
     ]
    }
   ],
   "source": [
    "print(f\"Number of records : {songs_data.shape[0]}\")\n",
    "print(f\"Count of distinct song lengths : {len(songs_data.song_length.unique())}\")\n",
    "print(f\"Count of distinct genre ids : {len(songs_data.genre_ids.unique())}\")\n",
    "print(f\"Count of distinct artist name : {len(songs_data.artist_name.unique())}\")\n",
    "print(f\"Count of distinct composer : {len(songs_data.composer.unique())}\")\n",
    "print(f\"Count of distinct lyricist : {len(songs_data.lyricist.unique())}\")\n",
    "print(f\"Count of distinct languages : {len(songs_data.language.unique())}\")"
   ]
  },
  {
   "cell_type": "code",
   "execution_count": 13,
   "id": "7474d7d1",
   "metadata": {},
   "outputs": [
    {
     "data": {
      "text/html": [
       "<div>\n",
       "<style scoped>\n",
       "    .dataframe tbody tr th:only-of-type {\n",
       "        vertical-align: middle;\n",
       "    }\n",
       "\n",
       "    .dataframe tbody tr th {\n",
       "        vertical-align: top;\n",
       "    }\n",
       "\n",
       "    .dataframe thead th {\n",
       "        text-align: right;\n",
       "    }\n",
       "</style>\n",
       "<table border=\"1\" class=\"dataframe\">\n",
       "  <thead>\n",
       "    <tr style=\"text-align: right;\">\n",
       "      <th></th>\n",
       "      <th>song_length</th>\n",
       "      <th>language</th>\n",
       "    </tr>\n",
       "  </thead>\n",
       "  <tbody>\n",
       "    <tr>\n",
       "      <th>count</th>\n",
       "      <td>2.000000e+04</td>\n",
       "      <td>20000.000000</td>\n",
       "    </tr>\n",
       "    <tr>\n",
       "      <th>mean</th>\n",
       "      <td>2.456958e+05</td>\n",
       "      <td>25.946550</td>\n",
       "    </tr>\n",
       "    <tr>\n",
       "      <th>std</th>\n",
       "      <td>1.201716e+05</td>\n",
       "      <td>23.223231</td>\n",
       "    </tr>\n",
       "    <tr>\n",
       "      <th>min</th>\n",
       "      <td>4.922000e+03</td>\n",
       "      <td>-1.000000</td>\n",
       "    </tr>\n",
       "    <tr>\n",
       "      <th>25%</th>\n",
       "      <td>1.997060e+05</td>\n",
       "      <td>3.000000</td>\n",
       "    </tr>\n",
       "    <tr>\n",
       "      <th>50%</th>\n",
       "      <td>2.336850e+05</td>\n",
       "      <td>17.000000</td>\n",
       "    </tr>\n",
       "    <tr>\n",
       "      <th>75%</th>\n",
       "      <td>2.731360e+05</td>\n",
       "      <td>52.000000</td>\n",
       "    </tr>\n",
       "    <tr>\n",
       "      <th>max</th>\n",
       "      <td>4.025318e+06</td>\n",
       "      <td>59.000000</td>\n",
       "    </tr>\n",
       "  </tbody>\n",
       "</table>\n",
       "</div>"
      ],
      "text/plain": [
       "        song_length      language\n",
       "count  2.000000e+04  20000.000000\n",
       "mean   2.456958e+05     25.946550\n",
       "std    1.201716e+05     23.223231\n",
       "min    4.922000e+03     -1.000000\n",
       "25%    1.997060e+05      3.000000\n",
       "50%    2.336850e+05     17.000000\n",
       "75%    2.731360e+05     52.000000\n",
       "max    4.025318e+06     59.000000"
      ]
     },
     "execution_count": 13,
     "metadata": {},
     "output_type": "execute_result"
    }
   ],
   "source": [
    "songs_data.describe()"
   ]
  },
  {
   "cell_type": "markdown",
   "id": "698c4e3e",
   "metadata": {},
   "source": [
    "<h2><font color=\"red\"> Data Visualization: </h2></font>"
   ]
  },
  {
   "cell_type": "code",
   "execution_count": 14,
   "id": "c01e7b43",
   "metadata": {},
   "outputs": [
    {
     "data": {
      "image/png": "[encoded data removed]",
      "text/plain": [
       "<Figure size 1000x600 with 1 Axes>"
      ]
     },
     "metadata": {},
     "output_type": "display_data"
    }
   ],
   "source": [
    "plt.figure(figsize = (10, 6))\n",
    "sns.set_style(\"darkgrid\")\n",
    "ax = sns.countplot(x = songs_data.language, data = songs_data.language,palette=\"hls\",)\n",
    "ax.set_title(\"Countplot for languages\")\n",
    "plt.show()"
   ]
  },
  {
   "cell_type": "code",
   "execution_count": 15,
   "id": "aed9c8d3",
   "metadata": {},
   "outputs": [
    {
     "data": {
      "text/html": [
       "<div>\n",
       "<style scoped>\n",
       "    .dataframe tbody tr th:only-of-type {\n",
       "        vertical-align: middle;\n",
       "    }\n",
       "\n",
       "    .dataframe tbody tr th {\n",
       "        vertical-align: top;\n",
       "    }\n",
       "\n",
       "    .dataframe thead th {\n",
       "        text-align: right;\n",
       "    }\n",
       "</style>\n",
       "<table border=\"1\" class=\"dataframe\">\n",
       "  <thead>\n",
       "    <tr style=\"text-align: right;\">\n",
       "      <th></th>\n",
       "      <th>msno</th>\n",
       "      <th>city</th>\n",
       "      <th>bd</th>\n",
       "      <th>gender</th>\n",
       "      <th>registered_via</th>\n",
       "      <th>registration_init_time</th>\n",
       "      <th>expiration_date</th>\n",
       "    </tr>\n",
       "  </thead>\n",
       "  <tbody>\n",
       "    <tr>\n",
       "      <th>0</th>\n",
       "      <td>XQxgAYj3klVKjR3oxPPXYYFp4soD4TuBghkhMTD4oTw=</td>\n",
       "      <td>1</td>\n",
       "      <td>0</td>\n",
       "      <td>NaN</td>\n",
       "      <td>7</td>\n",
       "      <td>20110820</td>\n",
       "      <td>20170920</td>\n",
       "    </tr>\n",
       "    <tr>\n",
       "      <th>1</th>\n",
       "      <td>UizsfmJb9mV54qE9hCYyU07Va97c0lCRLEQX3ae+ztM=</td>\n",
       "      <td>1</td>\n",
       "      <td>0</td>\n",
       "      <td>NaN</td>\n",
       "      <td>7</td>\n",
       "      <td>20150628</td>\n",
       "      <td>20170622</td>\n",
       "    </tr>\n",
       "    <tr>\n",
       "      <th>2</th>\n",
       "      <td>D8nEhsIOBSoE6VthTaqDX8U6lqjJ7dLdr72mOyLya2A=</td>\n",
       "      <td>1</td>\n",
       "      <td>0</td>\n",
       "      <td>NaN</td>\n",
       "      <td>4</td>\n",
       "      <td>20160411</td>\n",
       "      <td>20170712</td>\n",
       "    </tr>\n",
       "    <tr>\n",
       "      <th>3</th>\n",
       "      <td>mCuD+tZ1hERA/o5GPqk38e041J8ZsBaLcu7nGoIIvhI=</td>\n",
       "      <td>1</td>\n",
       "      <td>0</td>\n",
       "      <td>NaN</td>\n",
       "      <td>9</td>\n",
       "      <td>20150906</td>\n",
       "      <td>20150907</td>\n",
       "    </tr>\n",
       "    <tr>\n",
       "      <th>4</th>\n",
       "      <td>q4HRBfVSssAFS9iRfxWrohxuk9kCYMKjHOEagUMV6rQ=</td>\n",
       "      <td>1</td>\n",
       "      <td>0</td>\n",
       "      <td>NaN</td>\n",
       "      <td>4</td>\n",
       "      <td>20170126</td>\n",
       "      <td>20170613</td>\n",
       "    </tr>\n",
       "  </tbody>\n",
       "</table>\n",
       "</div>"
      ],
      "text/plain": [
       "                                           msno  city  bd gender   \n",
       "0  XQxgAYj3klVKjR3oxPPXYYFp4soD4TuBghkhMTD4oTw=     1   0    NaN  \\\n",
       "1  UizsfmJb9mV54qE9hCYyU07Va97c0lCRLEQX3ae+ztM=     1   0    NaN   \n",
       "2  D8nEhsIOBSoE6VthTaqDX8U6lqjJ7dLdr72mOyLya2A=     1   0    NaN   \n",
       "3  mCuD+tZ1hERA/o5GPqk38e041J8ZsBaLcu7nGoIIvhI=     1   0    NaN   \n",
       "4  q4HRBfVSssAFS9iRfxWrohxuk9kCYMKjHOEagUMV6rQ=     1   0    NaN   \n",
       "\n",
       "   registered_via  registration_init_time  expiration_date  \n",
       "0               7                20110820         20170920  \n",
       "1               7                20150628         20170622  \n",
       "2               4                20160411         20170712  \n",
       "3               9                20150906         20150907  \n",
       "4               4                20170126         20170613  "
      ]
     },
     "execution_count": 15,
     "metadata": {},
     "output_type": "execute_result"
    }
   ],
   "source": [
    "members_data.head()"
   ]
  },
  {
   "cell_type": "code",
   "execution_count": 16,
   "id": "77194cd5",
   "metadata": {},
   "outputs": [
    {
     "name": "stdout",
     "output_type": "stream",
     "text": [
      "Columns present in the members_data are:\n",
      "msno\n",
      "city\n",
      "bd\n",
      "gender\n",
      "registered_via\n",
      "registration_init_time\n",
      "expiration_date\n"
     ]
    }
   ],
   "source": [
    "print(\"Columns present in the members_data are:\")\n",
    "for columns in members_data.columns:\n",
    "    print(columns)"
   ]
  },
  {
   "cell_type": "code",
   "execution_count": 17,
   "id": "227dc191",
   "metadata": {},
   "outputs": [
    {
     "data": {
      "text/plain": [
       "Text(0.5, 1.0, 'Count plot for gender')"
      ]
     },
     "execution_count": 17,
     "metadata": {},
     "output_type": "execute_result"
    },
    {
     "data": {
      "image/png": "[encoded data removed]",
      "text/plain": [
       "<Figure size 400x400 with 1 Axes>"
      ]
     },
     "metadata": {},
     "output_type": "display_data"
    }
   ],
   "source": [
    "plt.figure(figsize=(4,4))\n",
    "sns.countplot(x='gender', data=members_data, palette = 'magma')\n",
    "plt.xlabel('Gender')\n",
    "plt.ylabel('Count')\n",
    "plt.title('Count plot for gender')"
   ]
  },
  {
   "cell_type": "code",
   "execution_count": 18,
   "id": "4f15db83",
   "metadata": {},
   "outputs": [
    {
     "data": {
      "text/plain": [
       "Text(0.5, 1.0, 'Count plot for Registation Method')"
      ]
     },
     "execution_count": 18,
     "metadata": {},
     "output_type": "execute_result"
    },
    {
     "data": {
      "image/png": "[encoded data removed]",
      "text/plain": [
       "<Figure size 400x400 with 1 Axes>"
      ]
     },
     "metadata": {},
     "output_type": "display_data"
    }
   ],
   "source": [
    "plt.figure(figsize=(4,4))\n",
    "sns.countplot(x='registered_via', data=members_data, palette = 'magma')\n",
    "plt.xlabel('Registration method')\n",
    "plt.ylabel('Count')\n",
    "plt.title('Count plot for Registation Method')"
   ]
  },
  {
   "cell_type": "code",
   "execution_count": 19,
   "id": "ff506a5e",
   "metadata": {},
   "outputs": [
    {
     "name": "stdout",
     "output_type": "stream",
     "text": [
      "Total number of records : 20000\n"
     ]
    }
   ],
   "source": [
    "print(f\"Total number of records : {train_data.shape[0]}\")"
   ]
  },
  {
   "cell_type": "code",
   "execution_count": 20,
   "id": "b00d9576",
   "metadata": {},
   "outputs": [
    {
     "data": {
      "text/plain": [
       "Text(0.5, 1.0, 'Count plot for system tab there are using')"
      ]
     },
     "execution_count": 20,
     "metadata": {},
     "output_type": "execute_result"
    },
    {
     "data": {
      "image/png": "[encoded data removed]",
      "text/plain": [
       "<Figure size 400x400 with 1 Axes>"
      ]
     },
     "metadata": {},
     "output_type": "display_data"
    }
   ],
   "source": [
    "plt.figure(figsize=(4,4))\n",
    "sns.countplot(x='target',data = train_data, palette = 'magma')\n",
    "plt.xlabel('target')\n",
    "plt.ylabel('count')\n",
    "plt.title('Count plot for system tab there are using')"
   ]
  },
  {
   "cell_type": "code",
   "execution_count": 21,
   "id": "8315adf3",
   "metadata": {},
   "outputs": [
    {
     "name": "stdout",
     "output_type": "stream",
     "text": [
      "Total percentage for NaN value in target column  :  0.0 %\n"
     ]
    }
   ],
   "source": [
    "print(\"Total percentage for NaN value in target column  : \",(train_data[\"target\"].isna().sum()/len(train_data[\"target\"]))*100,\"%\")"
   ]
  },
  {
   "cell_type": "code",
   "execution_count": 22,
   "id": "ffbc09fc",
   "metadata": {},
   "outputs": [
    {
     "name": "stdout",
     "output_type": "stream",
     "text": [
      "Total no of duplicate song id         :  10187\n",
      "Total percentage of duplicate song id :  50.934999999999995 %\n"
     ]
    }
   ],
   "source": [
    "duplicate_values1 = len(train_data[\"song_id\"])-train_data[\"song_id\"].nunique()\n",
    "print(\"Total no of duplicate song id         : \",duplicate_values1)\n",
    "print(\"Total percentage of duplicate song id : \",(duplicate_values1/len(train_data[\"song_id\"]))*100,\"%\")"
   ]
  },
  {
   "cell_type": "code",
   "execution_count": 23,
   "id": "36eedaef",
   "metadata": {},
   "outputs": [
    {
     "data": {
      "image/png": "[encoded data removed]",
      "text/plain": [
       "<Figure size 400x400 with 1 Axes>"
      ]
     },
     "metadata": {},
     "output_type": "display_data"
    }
   ],
   "source": [
    "plt.figure(figsize=(4,4))\n",
    "sns.countplot(y=train_data['target'],data=train_data, palette = 'viridis')\n",
    "plt.ylabel('Target Classes')\n",
    "plt.xlabel('Frequency ')\n",
    "plt.show()"
   ]
  },
  {
   "cell_type": "code",
   "execution_count": 24,
   "id": "9e780e42",
   "metadata": {},
   "outputs": [
    {
     "data": {
      "text/html": [
       "<div>\n",
       "<style scoped>\n",
       "    .dataframe tbody tr th:only-of-type {\n",
       "        vertical-align: middle;\n",
       "    }\n",
       "\n",
       "    .dataframe tbody tr th {\n",
       "        vertical-align: top;\n",
       "    }\n",
       "\n",
       "    .dataframe thead th {\n",
       "        text-align: right;\n",
       "    }\n",
       "</style>\n",
       "<table border=\"1\" class=\"dataframe\">\n",
       "  <thead>\n",
       "    <tr style=\"text-align: right;\">\n",
       "      <th></th>\n",
       "      <th>song_id</th>\n",
       "      <th>name</th>\n",
       "      <th>isrc</th>\n",
       "    </tr>\n",
       "  </thead>\n",
       "  <tbody>\n",
       "    <tr>\n",
       "      <th>0</th>\n",
       "      <td>LP7pLJoJFBvyuUwvu+oLzjT+bI+UeBPURCecJsX1jjs=</td>\n",
       "      <td>我們</td>\n",
       "      <td>TWUM71200043</td>\n",
       "    </tr>\n",
       "    <tr>\n",
       "      <th>1</th>\n",
       "      <td>ClazTFnk6r0Bnuie44bocdNMM3rdlrq0bCGAsGUWcHE=</td>\n",
       "      <td>Let Me Love You</td>\n",
       "      <td>QMZSY1600015</td>\n",
       "    </tr>\n",
       "    <tr>\n",
       "      <th>2</th>\n",
       "      <td>u2ja/bZE3zhCGxvbbOB3zOoUjx27u40cf5g09UXMoKQ=</td>\n",
       "      <td>原諒我</td>\n",
       "      <td>TWA530887303</td>\n",
       "    </tr>\n",
       "    <tr>\n",
       "      <th>3</th>\n",
       "      <td>92Fqsy0+p6+RHe2EoLKjHahORHR1Kq1TBJoClW9v+Ts=</td>\n",
       "      <td>Classic</td>\n",
       "      <td>USSM11301446</td>\n",
       "    </tr>\n",
       "    <tr>\n",
       "      <th>4</th>\n",
       "      <td>0QFmz/+rJy1Q56C1DuYqT9hKKqi5TUqx0sN0IwvoHrw=</td>\n",
       "      <td>愛投羅網</td>\n",
       "      <td>TWA471306001</td>\n",
       "    </tr>\n",
       "  </tbody>\n",
       "</table>\n",
       "</div>"
      ],
      "text/plain": [
       "                                        song_id             name          isrc\n",
       "0  LP7pLJoJFBvyuUwvu+oLzjT+bI+UeBPURCecJsX1jjs=               我們  TWUM71200043\n",
       "1  ClazTFnk6r0Bnuie44bocdNMM3rdlrq0bCGAsGUWcHE=  Let Me Love You  QMZSY1600015\n",
       "2  u2ja/bZE3zhCGxvbbOB3zOoUjx27u40cf5g09UXMoKQ=              原諒我  TWA530887303\n",
       "3  92Fqsy0+p6+RHe2EoLKjHahORHR1Kq1TBJoClW9v+Ts=          Classic  USSM11301446\n",
       "4  0QFmz/+rJy1Q56C1DuYqT9hKKqi5TUqx0sN0IwvoHrw=             愛投羅網  TWA471306001"
      ]
     },
     "execution_count": 24,
     "metadata": {},
     "output_type": "execute_result"
    }
   ],
   "source": [
    "songs_info.head()"
   ]
  },
  {
   "cell_type": "markdown",
   "id": "9c4855a0",
   "metadata": {},
   "source": [
    "<h4><font color='blue'> Data Cleaning :</h4></font> "
   ]
  },
  {
   "cell_type": "code",
   "execution_count": 25,
   "id": "d97bf525",
   "metadata": {},
   "outputs": [
    {
     "data": {
      "text/plain": [
       "song_id         0\n",
       "name            3\n",
       "isrc       136548\n",
       "dtype: int64"
      ]
     },
     "execution_count": 25,
     "metadata": {},
     "output_type": "execute_result"
    }
   ],
   "source": [
    "songs_info.isnull().sum()"
   ]
  },
  {
   "cell_type": "code",
   "execution_count": 26,
   "id": "8e4fd293",
   "metadata": {},
   "outputs": [
    {
     "data": {
      "text/html": [
       "<div>\n",
       "<style scoped>\n",
       "    .dataframe tbody tr th:only-of-type {\n",
       "        vertical-align: middle;\n",
       "    }\n",
       "\n",
       "    .dataframe tbody tr th {\n",
       "        vertical-align: top;\n",
       "    }\n",
       "\n",
       "    .dataframe thead th {\n",
       "        text-align: right;\n",
       "    }\n",
       "</style>\n",
       "<table border=\"1\" class=\"dataframe\">\n",
       "  <thead>\n",
       "    <tr style=\"text-align: right;\">\n",
       "      <th></th>\n",
       "      <th>song_id</th>\n",
       "      <th>song_length</th>\n",
       "      <th>genre_ids</th>\n",
       "      <th>artist_name</th>\n",
       "      <th>composer</th>\n",
       "      <th>lyricist</th>\n",
       "      <th>language</th>\n",
       "    </tr>\n",
       "  </thead>\n",
       "  <tbody>\n",
       "    <tr>\n",
       "      <th>0</th>\n",
       "      <td>CXoTN1eb7AI+DntdU1vbcwGRV4SCIDxZu+YD8JP8r4E=</td>\n",
       "      <td>247640</td>\n",
       "      <td>465</td>\n",
       "      <td>張信哲 (Jeff Chang)</td>\n",
       "      <td>董貞</td>\n",
       "      <td>何啟弘</td>\n",
       "      <td>3.0</td>\n",
       "    </tr>\n",
       "    <tr>\n",
       "      <th>1</th>\n",
       "      <td>o0kFgae9QtnYgRkVPqLJwa05zIhRlUjfF7O1tDw0ZDU=</td>\n",
       "      <td>197328</td>\n",
       "      <td>444</td>\n",
       "      <td>BLACKPINK</td>\n",
       "      <td>TEDDY|  FUTURE BOUNCE|  Bekuh BOOM</td>\n",
       "      <td>TEDDY</td>\n",
       "      <td>31.0</td>\n",
       "    </tr>\n",
       "    <tr>\n",
       "      <th>2</th>\n",
       "      <td>DwVvVurfpuz+XPuFvucclVQEyPqcpUkHR0ne1RQzPs0=</td>\n",
       "      <td>231781</td>\n",
       "      <td>465</td>\n",
       "      <td>SUPER JUNIOR</td>\n",
       "      <td>NaN</td>\n",
       "      <td>NaN</td>\n",
       "      <td>31.0</td>\n",
       "    </tr>\n",
       "    <tr>\n",
       "      <th>3</th>\n",
       "      <td>dKMBWoZyScdxSkihKG+Vf47nc18N9q4m58+b4e7dSSE=</td>\n",
       "      <td>273554</td>\n",
       "      <td>465</td>\n",
       "      <td>S.H.E</td>\n",
       "      <td>湯小康</td>\n",
       "      <td>徐世珍</td>\n",
       "      <td>3.0</td>\n",
       "    </tr>\n",
       "    <tr>\n",
       "      <th>4</th>\n",
       "      <td>W3bqWd3T+VeHFzHAUfARgW9AvVRaF4N5Yzm4Mr6Eo/o=</td>\n",
       "      <td>140329</td>\n",
       "      <td>726</td>\n",
       "      <td>貴族精選</td>\n",
       "      <td>Traditional</td>\n",
       "      <td>Traditional</td>\n",
       "      <td>52.0</td>\n",
       "    </tr>\n",
       "  </tbody>\n",
       "</table>\n",
       "</div>"
      ],
      "text/plain": [
       "                                        song_id  song_length genre_ids   \n",
       "0  CXoTN1eb7AI+DntdU1vbcwGRV4SCIDxZu+YD8JP8r4E=       247640       465  \\\n",
       "1  o0kFgae9QtnYgRkVPqLJwa05zIhRlUjfF7O1tDw0ZDU=       197328       444   \n",
       "2  DwVvVurfpuz+XPuFvucclVQEyPqcpUkHR0ne1RQzPs0=       231781       465   \n",
       "3  dKMBWoZyScdxSkihKG+Vf47nc18N9q4m58+b4e7dSSE=       273554       465   \n",
       "4  W3bqWd3T+VeHFzHAUfARgW9AvVRaF4N5Yzm4Mr6Eo/o=       140329       726   \n",
       "\n",
       "        artist_name                            composer     lyricist  language  \n",
       "0  張信哲 (Jeff Chang)                                  董貞          何啟弘       3.0  \n",
       "1         BLACKPINK  TEDDY|  FUTURE BOUNCE|  Bekuh BOOM        TEDDY      31.0  \n",
       "2      SUPER JUNIOR                                 NaN          NaN      31.0  \n",
       "3             S.H.E                                 湯小康          徐世珍       3.0  \n",
       "4              貴族精選                         Traditional  Traditional      52.0  "
      ]
     },
     "execution_count": 26,
     "metadata": {},
     "output_type": "execute_result"
    }
   ],
   "source": [
    "songs_data.head()"
   ]
  },
  {
   "cell_type": "code",
   "execution_count": 27,
   "id": "69f9e259",
   "metadata": {},
   "outputs": [
    {
     "data": {
      "text/plain": [
       "song_id            0\n",
       "song_length        0\n",
       "genre_ids        346\n",
       "artist_name        0\n",
       "composer        8382\n",
       "lyricist       14332\n",
       "language           0\n",
       "dtype: int64"
      ]
     },
     "execution_count": 27,
     "metadata": {},
     "output_type": "execute_result"
    }
   ],
   "source": [
    "songs_data.isnull().sum()"
   ]
  },
  {
   "cell_type": "code",
   "execution_count": 28,
   "id": "199ba704",
   "metadata": {},
   "outputs": [],
   "source": [
    "songs_data['genre_ids'].fillna(' ',inplace=True)\n",
    "songs_data['composer'].fillna(' ',inplace=True)\n",
    "songs_data['lyricist'].fillna(' ',inplace=True)\n",
    "songs_data['language'].fillna((52.0),inplace=True)"
   ]
  },
  {
   "cell_type": "code",
   "execution_count": 29,
   "id": "05493b40",
   "metadata": {},
   "outputs": [
    {
     "data": {
      "text/plain": [
       "song_id        0\n",
       "song_length    0\n",
       "genre_ids      0\n",
       "artist_name    0\n",
       "composer       0\n",
       "lyricist       0\n",
       "language       0\n",
       "dtype: int64"
      ]
     },
     "execution_count": 29,
     "metadata": {},
     "output_type": "execute_result"
    }
   ],
   "source": [
    "songs_data.isnull().sum()"
   ]
  },
  {
   "cell_type": "code",
   "execution_count": 30,
   "id": "673c6cfd",
   "metadata": {},
   "outputs": [
    {
     "data": {
      "text/html": [
       "<div>\n",
       "<style scoped>\n",
       "    .dataframe tbody tr th:only-of-type {\n",
       "        vertical-align: middle;\n",
       "    }\n",
       "\n",
       "    .dataframe tbody tr th {\n",
       "        vertical-align: top;\n",
       "    }\n",
       "\n",
       "    .dataframe thead th {\n",
       "        text-align: right;\n",
       "    }\n",
       "</style>\n",
       "<table border=\"1\" class=\"dataframe\">\n",
       "  <thead>\n",
       "    <tr style=\"text-align: right;\">\n",
       "      <th></th>\n",
       "      <th>msno</th>\n",
       "      <th>song_id</th>\n",
       "      <th>source_system_tab</th>\n",
       "      <th>source_screen_name</th>\n",
       "      <th>source_type</th>\n",
       "      <th>target</th>\n",
       "    </tr>\n",
       "  </thead>\n",
       "  <tbody>\n",
       "    <tr>\n",
       "      <th>0</th>\n",
       "      <td>FGtllVqz18RPiwJj/edr2gV78zirAiY/9SmYvia+kCg=</td>\n",
       "      <td>BBzumQNXUHKdEBOB7mAJuzok+IJA1c2Ryg/yzTF6tik=</td>\n",
       "      <td>explore</td>\n",
       "      <td>Explore</td>\n",
       "      <td>online-playlist</td>\n",
       "      <td>1</td>\n",
       "    </tr>\n",
       "    <tr>\n",
       "      <th>1</th>\n",
       "      <td>Xumu+NIjS6QYVxDS4/t3SawvJ7viT9hPKXmf0RtLNx8=</td>\n",
       "      <td>bhp/MpSNoqoxOIB+/l8WPqu6jldth4DIpCm3ayXnJqM=</td>\n",
       "      <td>my library</td>\n",
       "      <td>Local playlist more</td>\n",
       "      <td>local-playlist</td>\n",
       "      <td>1</td>\n",
       "    </tr>\n",
       "    <tr>\n",
       "      <th>2</th>\n",
       "      <td>Xumu+NIjS6QYVxDS4/t3SawvJ7viT9hPKXmf0RtLNx8=</td>\n",
       "      <td>JNWfrrC7zNN7BdMpsISKa4Mw+xVJYNnxXh3/Epw7QgY=</td>\n",
       "      <td>my library</td>\n",
       "      <td>Local playlist more</td>\n",
       "      <td>local-playlist</td>\n",
       "      <td>1</td>\n",
       "    </tr>\n",
       "    <tr>\n",
       "      <th>3</th>\n",
       "      <td>Xumu+NIjS6QYVxDS4/t3SawvJ7viT9hPKXmf0RtLNx8=</td>\n",
       "      <td>2A87tzfnJTSWqD7gIZHisolhe4DMdzkbd6LzO1KHjNs=</td>\n",
       "      <td>my library</td>\n",
       "      <td>Local playlist more</td>\n",
       "      <td>local-playlist</td>\n",
       "      <td>1</td>\n",
       "    </tr>\n",
       "    <tr>\n",
       "      <th>4</th>\n",
       "      <td>FGtllVqz18RPiwJj/edr2gV78zirAiY/9SmYvia+kCg=</td>\n",
       "      <td>3qm6XTZ6MOCU11x8FIVbAGH5l5uMkT3/ZalWG1oo2Gc=</td>\n",
       "      <td>explore</td>\n",
       "      <td>Explore</td>\n",
       "      <td>online-playlist</td>\n",
       "      <td>1</td>\n",
       "    </tr>\n",
       "  </tbody>\n",
       "</table>\n",
       "</div>"
      ],
      "text/plain": [
       "                                           msno   \n",
       "0  FGtllVqz18RPiwJj/edr2gV78zirAiY/9SmYvia+kCg=  \\\n",
       "1  Xumu+NIjS6QYVxDS4/t3SawvJ7viT9hPKXmf0RtLNx8=   \n",
       "2  Xumu+NIjS6QYVxDS4/t3SawvJ7viT9hPKXmf0RtLNx8=   \n",
       "3  Xumu+NIjS6QYVxDS4/t3SawvJ7viT9hPKXmf0RtLNx8=   \n",
       "4  FGtllVqz18RPiwJj/edr2gV78zirAiY/9SmYvia+kCg=   \n",
       "\n",
       "                                        song_id source_system_tab   \n",
       "0  BBzumQNXUHKdEBOB7mAJuzok+IJA1c2Ryg/yzTF6tik=           explore  \\\n",
       "1  bhp/MpSNoqoxOIB+/l8WPqu6jldth4DIpCm3ayXnJqM=        my library   \n",
       "2  JNWfrrC7zNN7BdMpsISKa4Mw+xVJYNnxXh3/Epw7QgY=        my library   \n",
       "3  2A87tzfnJTSWqD7gIZHisolhe4DMdzkbd6LzO1KHjNs=        my library   \n",
       "4  3qm6XTZ6MOCU11x8FIVbAGH5l5uMkT3/ZalWG1oo2Gc=           explore   \n",
       "\n",
       "    source_screen_name      source_type  target  \n",
       "0              Explore  online-playlist       1  \n",
       "1  Local playlist more   local-playlist       1  \n",
       "2  Local playlist more   local-playlist       1  \n",
       "3  Local playlist more   local-playlist       1  \n",
       "4              Explore  online-playlist       1  "
      ]
     },
     "execution_count": 30,
     "metadata": {},
     "output_type": "execute_result"
    }
   ],
   "source": [
    "train_data.head()"
   ]
  },
  {
   "cell_type": "code",
   "execution_count": 31,
   "id": "ce528dcc",
   "metadata": {},
   "outputs": [
    {
     "data": {
      "text/plain": [
       "msno                    0\n",
       "song_id                 0\n",
       "source_system_tab      67\n",
       "source_screen_name    576\n",
       "source_type            50\n",
       "target                  0\n",
       "dtype: int64"
      ]
     },
     "execution_count": 31,
     "metadata": {},
     "output_type": "execute_result"
    }
   ],
   "source": [
    "train_data.isnull().sum()"
   ]
  },
  {
   "cell_type": "code",
   "execution_count": 32,
   "id": "ed7d201a",
   "metadata": {},
   "outputs": [
    {
     "data": {
      "text/html": [
       "<div>\n",
       "<style scoped>\n",
       "    .dataframe tbody tr th:only-of-type {\n",
       "        vertical-align: middle;\n",
       "    }\n",
       "\n",
       "    .dataframe tbody tr th {\n",
       "        vertical-align: top;\n",
       "    }\n",
       "\n",
       "    .dataframe thead th {\n",
       "        text-align: right;\n",
       "    }\n",
       "</style>\n",
       "<table border=\"1\" class=\"dataframe\">\n",
       "  <thead>\n",
       "    <tr style=\"text-align: right;\">\n",
       "      <th></th>\n",
       "      <th>msno</th>\n",
       "      <th>song_id</th>\n",
       "      <th>target</th>\n",
       "    </tr>\n",
       "  </thead>\n",
       "  <tbody>\n",
       "    <tr>\n",
       "      <th>0</th>\n",
       "      <td>FGtllVqz18RPiwJj/edr2gV78zirAiY/9SmYvia+kCg=</td>\n",
       "      <td>BBzumQNXUHKdEBOB7mAJuzok+IJA1c2Ryg/yzTF6tik=</td>\n",
       "      <td>1</td>\n",
       "    </tr>\n",
       "    <tr>\n",
       "      <th>1</th>\n",
       "      <td>Xumu+NIjS6QYVxDS4/t3SawvJ7viT9hPKXmf0RtLNx8=</td>\n",
       "      <td>bhp/MpSNoqoxOIB+/l8WPqu6jldth4DIpCm3ayXnJqM=</td>\n",
       "      <td>1</td>\n",
       "    </tr>\n",
       "    <tr>\n",
       "      <th>2</th>\n",
       "      <td>Xumu+NIjS6QYVxDS4/t3SawvJ7viT9hPKXmf0RtLNx8=</td>\n",
       "      <td>JNWfrrC7zNN7BdMpsISKa4Mw+xVJYNnxXh3/Epw7QgY=</td>\n",
       "      <td>1</td>\n",
       "    </tr>\n",
       "    <tr>\n",
       "      <th>3</th>\n",
       "      <td>Xumu+NIjS6QYVxDS4/t3SawvJ7viT9hPKXmf0RtLNx8=</td>\n",
       "      <td>2A87tzfnJTSWqD7gIZHisolhe4DMdzkbd6LzO1KHjNs=</td>\n",
       "      <td>1</td>\n",
       "    </tr>\n",
       "    <tr>\n",
       "      <th>4</th>\n",
       "      <td>FGtllVqz18RPiwJj/edr2gV78zirAiY/9SmYvia+kCg=</td>\n",
       "      <td>3qm6XTZ6MOCU11x8FIVbAGH5l5uMkT3/ZalWG1oo2Gc=</td>\n",
       "      <td>1</td>\n",
       "    </tr>\n",
       "  </tbody>\n",
       "</table>\n",
       "</div>"
      ],
      "text/plain": [
       "                                           msno   \n",
       "0  FGtllVqz18RPiwJj/edr2gV78zirAiY/9SmYvia+kCg=  \\\n",
       "1  Xumu+NIjS6QYVxDS4/t3SawvJ7viT9hPKXmf0RtLNx8=   \n",
       "2  Xumu+NIjS6QYVxDS4/t3SawvJ7viT9hPKXmf0RtLNx8=   \n",
       "3  Xumu+NIjS6QYVxDS4/t3SawvJ7viT9hPKXmf0RtLNx8=   \n",
       "4  FGtllVqz18RPiwJj/edr2gV78zirAiY/9SmYvia+kCg=   \n",
       "\n",
       "                                        song_id  target  \n",
       "0  BBzumQNXUHKdEBOB7mAJuzok+IJA1c2Ryg/yzTF6tik=       1  \n",
       "1  bhp/MpSNoqoxOIB+/l8WPqu6jldth4DIpCm3ayXnJqM=       1  \n",
       "2  JNWfrrC7zNN7BdMpsISKa4Mw+xVJYNnxXh3/Epw7QgY=       1  \n",
       "3  2A87tzfnJTSWqD7gIZHisolhe4DMdzkbd6LzO1KHjNs=       1  \n",
       "4  3qm6XTZ6MOCU11x8FIVbAGH5l5uMkT3/ZalWG1oo2Gc=       1  "
      ]
     },
     "execution_count": 32,
     "metadata": {},
     "output_type": "execute_result"
    }
   ],
   "source": [
    "train_data=train_data.drop(['source_system_tab','source_screen_name','source_type'],axis=1)\n",
    "train_data.head()"
   ]
  },
  {
   "cell_type": "code",
   "execution_count": 33,
   "id": "e06f3ed9",
   "metadata": {},
   "outputs": [
    {
     "data": {
      "text/html": [
       "<div>\n",
       "<style scoped>\n",
       "    .dataframe tbody tr th:only-of-type {\n",
       "        vertical-align: middle;\n",
       "    }\n",
       "\n",
       "    .dataframe tbody tr th {\n",
       "        vertical-align: top;\n",
       "    }\n",
       "\n",
       "    .dataframe thead th {\n",
       "        text-align: right;\n",
       "    }\n",
       "</style>\n",
       "<table border=\"1\" class=\"dataframe\">\n",
       "  <thead>\n",
       "    <tr style=\"text-align: right;\">\n",
       "      <th></th>\n",
       "      <th>user_id</th>\n",
       "      <th>song_id</th>\n",
       "      <th>target</th>\n",
       "    </tr>\n",
       "  </thead>\n",
       "  <tbody>\n",
       "    <tr>\n",
       "      <th>0</th>\n",
       "      <td>FGtllVqz18RPiwJj/edr2gV78zirAiY/9SmYvia+kCg=</td>\n",
       "      <td>BBzumQNXUHKdEBOB7mAJuzok+IJA1c2Ryg/yzTF6tik=</td>\n",
       "      <td>1</td>\n",
       "    </tr>\n",
       "    <tr>\n",
       "      <th>1</th>\n",
       "      <td>Xumu+NIjS6QYVxDS4/t3SawvJ7viT9hPKXmf0RtLNx8=</td>\n",
       "      <td>bhp/MpSNoqoxOIB+/l8WPqu6jldth4DIpCm3ayXnJqM=</td>\n",
       "      <td>1</td>\n",
       "    </tr>\n",
       "    <tr>\n",
       "      <th>2</th>\n",
       "      <td>Xumu+NIjS6QYVxDS4/t3SawvJ7viT9hPKXmf0RtLNx8=</td>\n",
       "      <td>JNWfrrC7zNN7BdMpsISKa4Mw+xVJYNnxXh3/Epw7QgY=</td>\n",
       "      <td>1</td>\n",
       "    </tr>\n",
       "    <tr>\n",
       "      <th>3</th>\n",
       "      <td>Xumu+NIjS6QYVxDS4/t3SawvJ7viT9hPKXmf0RtLNx8=</td>\n",
       "      <td>2A87tzfnJTSWqD7gIZHisolhe4DMdzkbd6LzO1KHjNs=</td>\n",
       "      <td>1</td>\n",
       "    </tr>\n",
       "    <tr>\n",
       "      <th>4</th>\n",
       "      <td>FGtllVqz18RPiwJj/edr2gV78zirAiY/9SmYvia+kCg=</td>\n",
       "      <td>3qm6XTZ6MOCU11x8FIVbAGH5l5uMkT3/ZalWG1oo2Gc=</td>\n",
       "      <td>1</td>\n",
       "    </tr>\n",
       "  </tbody>\n",
       "</table>\n",
       "</div>"
      ],
      "text/plain": [
       "                                        user_id   \n",
       "0  FGtllVqz18RPiwJj/edr2gV78zirAiY/9SmYvia+kCg=  \\\n",
       "1  Xumu+NIjS6QYVxDS4/t3SawvJ7viT9hPKXmf0RtLNx8=   \n",
       "2  Xumu+NIjS6QYVxDS4/t3SawvJ7viT9hPKXmf0RtLNx8=   \n",
       "3  Xumu+NIjS6QYVxDS4/t3SawvJ7viT9hPKXmf0RtLNx8=   \n",
       "4  FGtllVqz18RPiwJj/edr2gV78zirAiY/9SmYvia+kCg=   \n",
       "\n",
       "                                        song_id  target  \n",
       "0  BBzumQNXUHKdEBOB7mAJuzok+IJA1c2Ryg/yzTF6tik=       1  \n",
       "1  bhp/MpSNoqoxOIB+/l8WPqu6jldth4DIpCm3ayXnJqM=       1  \n",
       "2  JNWfrrC7zNN7BdMpsISKa4Mw+xVJYNnxXh3/Epw7QgY=       1  \n",
       "3  2A87tzfnJTSWqD7gIZHisolhe4DMdzkbd6LzO1KHjNs=       1  \n",
       "4  3qm6XTZ6MOCU11x8FIVbAGH5l5uMkT3/ZalWG1oo2Gc=       1  "
      ]
     },
     "execution_count": 33,
     "metadata": {},
     "output_type": "execute_result"
    }
   ],
   "source": [
    "train_data.rename(columns={'msno':'user_id'},inplace=True)\n",
    "train_data.head()"
   ]
  },
  {
   "cell_type": "code",
   "execution_count": 34,
   "id": "98dde6ef",
   "metadata": {},
   "outputs": [
    {
     "data": {
      "text/plain": [
       "(20000, 3)"
      ]
     },
     "execution_count": 34,
     "metadata": {},
     "output_type": "execute_result"
    }
   ],
   "source": [
    "train_data.shape"
   ]
  },
  {
   "cell_type": "code",
   "execution_count": 35,
   "id": "a9aeeede",
   "metadata": {},
   "outputs": [],
   "source": [
    "df=train_data.merge(songs_data,on='song_id')"
   ]
  },
  {
   "cell_type": "code",
   "execution_count": 36,
   "id": "c5414633",
   "metadata": {},
   "outputs": [
    {
     "data": {
      "text/html": [
       "<div>\n",
       "<style scoped>\n",
       "    .dataframe tbody tr th:only-of-type {\n",
       "        vertical-align: middle;\n",
       "    }\n",
       "\n",
       "    .dataframe tbody tr th {\n",
       "        vertical-align: top;\n",
       "    }\n",
       "\n",
       "    .dataframe thead th {\n",
       "        text-align: right;\n",
       "    }\n",
       "</style>\n",
       "<table border=\"1\" class=\"dataframe\">\n",
       "  <thead>\n",
       "    <tr style=\"text-align: right;\">\n",
       "      <th></th>\n",
       "      <th>user_id</th>\n",
       "      <th>song_id</th>\n",
       "      <th>target</th>\n",
       "      <th>genre_ids</th>\n",
       "      <th>artist_name</th>\n",
       "      <th>composer</th>\n",
       "      <th>lyricist</th>\n",
       "    </tr>\n",
       "  </thead>\n",
       "  <tbody>\n",
       "    <tr>\n",
       "      <th>0</th>\n",
       "      <td>FGtllVqz18RPiwJj/edr2gV78zirAiY/9SmYvia+kCg=</td>\n",
       "      <td>3Hg5kugV1S0wzEVLAEfqjIV5UHzb7bCrdBRQlGygLvU=</td>\n",
       "      <td>1</td>\n",
       "      <td>1259</td>\n",
       "      <td>Desiigner</td>\n",
       "      <td>Sidney Selby| Adnan Khan</td>\n",
       "      <td></td>\n",
       "    </tr>\n",
       "    <tr>\n",
       "      <th>1</th>\n",
       "      <td>hZyOA+0yqClPLt6uIEndf8fG8szH/95eKMbaxLE5z30=</td>\n",
       "      <td>3Hg5kugV1S0wzEVLAEfqjIV5UHzb7bCrdBRQlGygLvU=</td>\n",
       "      <td>1</td>\n",
       "      <td>1259</td>\n",
       "      <td>Desiigner</td>\n",
       "      <td>Sidney Selby| Adnan Khan</td>\n",
       "      <td></td>\n",
       "    </tr>\n",
       "    <tr>\n",
       "      <th>2</th>\n",
       "      <td>0LhkakIQDn36HZXI6ClQSO7W7jkpZAy+9MvYgPOZGrA=</td>\n",
       "      <td>skehue/d/R59G71dXYpntDwdjRRPlweN3JE8g40TgZU=</td>\n",
       "      <td>1</td>\n",
       "      <td>458</td>\n",
       "      <td>莊心妍</td>\n",
       "      <td>鄭建浩</td>\n",
       "      <td>鄭建浩</td>\n",
       "    </tr>\n",
       "    <tr>\n",
       "      <th>3</th>\n",
       "      <td>MofmAMt7P8LIcF4+LLlcjyIhYUzmv13L/LRwYFxiGYE=</td>\n",
       "      <td>skehue/d/R59G71dXYpntDwdjRRPlweN3JE8g40TgZU=</td>\n",
       "      <td>1</td>\n",
       "      <td>458</td>\n",
       "      <td>莊心妍</td>\n",
       "      <td>鄭建浩</td>\n",
       "      <td>鄭建浩</td>\n",
       "    </tr>\n",
       "    <tr>\n",
       "      <th>4</th>\n",
       "      <td>U9Z+N+szYGJHTPMn/C0V7yIyIC24fDI0RDRWChXATkg=</td>\n",
       "      <td>skehue/d/R59G71dXYpntDwdjRRPlweN3JE8g40TgZU=</td>\n",
       "      <td>0</td>\n",
       "      <td>458</td>\n",
       "      <td>莊心妍</td>\n",
       "      <td>鄭建浩</td>\n",
       "      <td>鄭建浩</td>\n",
       "    </tr>\n",
       "  </tbody>\n",
       "</table>\n",
       "</div>"
      ],
      "text/plain": [
       "                                        user_id   \n",
       "0  FGtllVqz18RPiwJj/edr2gV78zirAiY/9SmYvia+kCg=  \\\n",
       "1  hZyOA+0yqClPLt6uIEndf8fG8szH/95eKMbaxLE5z30=   \n",
       "2  0LhkakIQDn36HZXI6ClQSO7W7jkpZAy+9MvYgPOZGrA=   \n",
       "3  MofmAMt7P8LIcF4+LLlcjyIhYUzmv13L/LRwYFxiGYE=   \n",
       "4  U9Z+N+szYGJHTPMn/C0V7yIyIC24fDI0RDRWChXATkg=   \n",
       "\n",
       "                                        song_id  target genre_ids artist_name   \n",
       "0  3Hg5kugV1S0wzEVLAEfqjIV5UHzb7bCrdBRQlGygLvU=       1      1259   Desiigner  \\\n",
       "1  3Hg5kugV1S0wzEVLAEfqjIV5UHzb7bCrdBRQlGygLvU=       1      1259   Desiigner   \n",
       "2  skehue/d/R59G71dXYpntDwdjRRPlweN3JE8g40TgZU=       1       458         莊心妍   \n",
       "3  skehue/d/R59G71dXYpntDwdjRRPlweN3JE8g40TgZU=       1       458         莊心妍   \n",
       "4  skehue/d/R59G71dXYpntDwdjRRPlweN3JE8g40TgZU=       0       458         莊心妍   \n",
       "\n",
       "                   composer lyricist  \n",
       "0  Sidney Selby| Adnan Khan           \n",
       "1  Sidney Selby| Adnan Khan           \n",
       "2                       鄭建浩      鄭建浩  \n",
       "3                       鄭建浩      鄭建浩  \n",
       "4                       鄭建浩      鄭建浩  "
      ]
     },
     "execution_count": 36,
     "metadata": {},
     "output_type": "execute_result"
    }
   ],
   "source": [
    "df=df.drop(['song_length','language'],axis=1)\n",
    "df.head()"
   ]
  },
  {
   "cell_type": "code",
   "execution_count": 37,
   "id": "aee2f3c7",
   "metadata": {},
   "outputs": [
    {
     "data": {
      "text/html": [
       "<div>\n",
       "<style scoped>\n",
       "    .dataframe tbody tr th:only-of-type {\n",
       "        vertical-align: middle;\n",
       "    }\n",
       "\n",
       "    .dataframe tbody tr th {\n",
       "        vertical-align: top;\n",
       "    }\n",
       "\n",
       "    .dataframe thead th {\n",
       "        text-align: right;\n",
       "    }\n",
       "</style>\n",
       "<table border=\"1\" class=\"dataframe\">\n",
       "  <thead>\n",
       "    <tr style=\"text-align: right;\">\n",
       "      <th></th>\n",
       "      <th>user_id</th>\n",
       "      <th>song_id</th>\n",
       "      <th>target</th>\n",
       "      <th>genre_ids</th>\n",
       "      <th>artist_name</th>\n",
       "      <th>composer</th>\n",
       "      <th>lyricist</th>\n",
       "      <th>name</th>\n",
       "    </tr>\n",
       "  </thead>\n",
       "  <tbody>\n",
       "    <tr>\n",
       "      <th>0</th>\n",
       "      <td>FGtllVqz18RPiwJj/edr2gV78zirAiY/9SmYvia+kCg=</td>\n",
       "      <td>3Hg5kugV1S0wzEVLAEfqjIV5UHzb7bCrdBRQlGygLvU=</td>\n",
       "      <td>1</td>\n",
       "      <td>1259</td>\n",
       "      <td>Desiigner</td>\n",
       "      <td>Sidney Selby| Adnan Khan</td>\n",
       "      <td></td>\n",
       "      <td>Panda</td>\n",
       "    </tr>\n",
       "    <tr>\n",
       "      <th>1</th>\n",
       "      <td>hZyOA+0yqClPLt6uIEndf8fG8szH/95eKMbaxLE5z30=</td>\n",
       "      <td>3Hg5kugV1S0wzEVLAEfqjIV5UHzb7bCrdBRQlGygLvU=</td>\n",
       "      <td>1</td>\n",
       "      <td>1259</td>\n",
       "      <td>Desiigner</td>\n",
       "      <td>Sidney Selby| Adnan Khan</td>\n",
       "      <td></td>\n",
       "      <td>Panda</td>\n",
       "    </tr>\n",
       "    <tr>\n",
       "      <th>2</th>\n",
       "      <td>0LhkakIQDn36HZXI6ClQSO7W7jkpZAy+9MvYgPOZGrA=</td>\n",
       "      <td>skehue/d/R59G71dXYpntDwdjRRPlweN3JE8g40TgZU=</td>\n",
       "      <td>1</td>\n",
       "      <td>458</td>\n",
       "      <td>莊心妍</td>\n",
       "      <td>鄭建浩</td>\n",
       "      <td>鄭建浩</td>\n",
       "      <td>我過的很好</td>\n",
       "    </tr>\n",
       "    <tr>\n",
       "      <th>3</th>\n",
       "      <td>MofmAMt7P8LIcF4+LLlcjyIhYUzmv13L/LRwYFxiGYE=</td>\n",
       "      <td>skehue/d/R59G71dXYpntDwdjRRPlweN3JE8g40TgZU=</td>\n",
       "      <td>1</td>\n",
       "      <td>458</td>\n",
       "      <td>莊心妍</td>\n",
       "      <td>鄭建浩</td>\n",
       "      <td>鄭建浩</td>\n",
       "      <td>我過的很好</td>\n",
       "    </tr>\n",
       "    <tr>\n",
       "      <th>4</th>\n",
       "      <td>U9Z+N+szYGJHTPMn/C0V7yIyIC24fDI0RDRWChXATkg=</td>\n",
       "      <td>skehue/d/R59G71dXYpntDwdjRRPlweN3JE8g40TgZU=</td>\n",
       "      <td>0</td>\n",
       "      <td>458</td>\n",
       "      <td>莊心妍</td>\n",
       "      <td>鄭建浩</td>\n",
       "      <td>鄭建浩</td>\n",
       "      <td>我過的很好</td>\n",
       "    </tr>\n",
       "  </tbody>\n",
       "</table>\n",
       "</div>"
      ],
      "text/plain": [
       "                                        user_id   \n",
       "0  FGtllVqz18RPiwJj/edr2gV78zirAiY/9SmYvia+kCg=  \\\n",
       "1  hZyOA+0yqClPLt6uIEndf8fG8szH/95eKMbaxLE5z30=   \n",
       "2  0LhkakIQDn36HZXI6ClQSO7W7jkpZAy+9MvYgPOZGrA=   \n",
       "3  MofmAMt7P8LIcF4+LLlcjyIhYUzmv13L/LRwYFxiGYE=   \n",
       "4  U9Z+N+szYGJHTPMn/C0V7yIyIC24fDI0RDRWChXATkg=   \n",
       "\n",
       "                                        song_id  target genre_ids artist_name   \n",
       "0  3Hg5kugV1S0wzEVLAEfqjIV5UHzb7bCrdBRQlGygLvU=       1      1259   Desiigner  \\\n",
       "1  3Hg5kugV1S0wzEVLAEfqjIV5UHzb7bCrdBRQlGygLvU=       1      1259   Desiigner   \n",
       "2  skehue/d/R59G71dXYpntDwdjRRPlweN3JE8g40TgZU=       1       458         莊心妍   \n",
       "3  skehue/d/R59G71dXYpntDwdjRRPlweN3JE8g40TgZU=       1       458         莊心妍   \n",
       "4  skehue/d/R59G71dXYpntDwdjRRPlweN3JE8g40TgZU=       0       458         莊心妍   \n",
       "\n",
       "                   composer lyricist   name  \n",
       "0  Sidney Selby| Adnan Khan           Panda  \n",
       "1  Sidney Selby| Adnan Khan           Panda  \n",
       "2                       鄭建浩      鄭建浩  我過的很好  \n",
       "3                       鄭建浩      鄭建浩  我過的很好  \n",
       "4                       鄭建浩      鄭建浩  我過的很好  "
      ]
     },
     "execution_count": 37,
     "metadata": {},
     "output_type": "execute_result"
    }
   ],
   "source": [
    "df=df.merge(songs_info,on='song_id').drop('isrc',axis=1)\n",
    "df.head()"
   ]
  },
  {
   "cell_type": "code",
   "execution_count": 38,
   "id": "f1bb4586",
   "metadata": {},
   "outputs": [
    {
     "data": {
      "text/html": [
       "<div>\n",
       "<style scoped>\n",
       "    .dataframe tbody tr th:only-of-type {\n",
       "        vertical-align: middle;\n",
       "    }\n",
       "\n",
       "    .dataframe tbody tr th {\n",
       "        vertical-align: top;\n",
       "    }\n",
       "\n",
       "    .dataframe thead th {\n",
       "        text-align: right;\n",
       "    }\n",
       "</style>\n",
       "<table border=\"1\" class=\"dataframe\">\n",
       "  <thead>\n",
       "    <tr style=\"text-align: right;\">\n",
       "      <th></th>\n",
       "      <th>user_id</th>\n",
       "      <th>song_id</th>\n",
       "      <th>target</th>\n",
       "      <th>genre_ids</th>\n",
       "      <th>artist_name</th>\n",
       "      <th>composer</th>\n",
       "      <th>lyricist</th>\n",
       "      <th>song_name</th>\n",
       "    </tr>\n",
       "  </thead>\n",
       "  <tbody>\n",
       "    <tr>\n",
       "      <th>0</th>\n",
       "      <td>FGtllVqz18RPiwJj/edr2gV78zirAiY/9SmYvia+kCg=</td>\n",
       "      <td>3Hg5kugV1S0wzEVLAEfqjIV5UHzb7bCrdBRQlGygLvU=</td>\n",
       "      <td>1</td>\n",
       "      <td>1259</td>\n",
       "      <td>Desiigner</td>\n",
       "      <td>Sidney Selby| Adnan Khan</td>\n",
       "      <td></td>\n",
       "      <td>Panda</td>\n",
       "    </tr>\n",
       "    <tr>\n",
       "      <th>1</th>\n",
       "      <td>hZyOA+0yqClPLt6uIEndf8fG8szH/95eKMbaxLE5z30=</td>\n",
       "      <td>3Hg5kugV1S0wzEVLAEfqjIV5UHzb7bCrdBRQlGygLvU=</td>\n",
       "      <td>1</td>\n",
       "      <td>1259</td>\n",
       "      <td>Desiigner</td>\n",
       "      <td>Sidney Selby| Adnan Khan</td>\n",
       "      <td></td>\n",
       "      <td>Panda</td>\n",
       "    </tr>\n",
       "    <tr>\n",
       "      <th>2</th>\n",
       "      <td>0LhkakIQDn36HZXI6ClQSO7W7jkpZAy+9MvYgPOZGrA=</td>\n",
       "      <td>skehue/d/R59G71dXYpntDwdjRRPlweN3JE8g40TgZU=</td>\n",
       "      <td>1</td>\n",
       "      <td>458</td>\n",
       "      <td>莊心妍</td>\n",
       "      <td>鄭建浩</td>\n",
       "      <td>鄭建浩</td>\n",
       "      <td>我過的很好</td>\n",
       "    </tr>\n",
       "    <tr>\n",
       "      <th>3</th>\n",
       "      <td>MofmAMt7P8LIcF4+LLlcjyIhYUzmv13L/LRwYFxiGYE=</td>\n",
       "      <td>skehue/d/R59G71dXYpntDwdjRRPlweN3JE8g40TgZU=</td>\n",
       "      <td>1</td>\n",
       "      <td>458</td>\n",
       "      <td>莊心妍</td>\n",
       "      <td>鄭建浩</td>\n",
       "      <td>鄭建浩</td>\n",
       "      <td>我過的很好</td>\n",
       "    </tr>\n",
       "    <tr>\n",
       "      <th>4</th>\n",
       "      <td>U9Z+N+szYGJHTPMn/C0V7yIyIC24fDI0RDRWChXATkg=</td>\n",
       "      <td>skehue/d/R59G71dXYpntDwdjRRPlweN3JE8g40TgZU=</td>\n",
       "      <td>0</td>\n",
       "      <td>458</td>\n",
       "      <td>莊心妍</td>\n",
       "      <td>鄭建浩</td>\n",
       "      <td>鄭建浩</td>\n",
       "      <td>我過的很好</td>\n",
       "    </tr>\n",
       "  </tbody>\n",
       "</table>\n",
       "</div>"
      ],
      "text/plain": [
       "                                        user_id   \n",
       "0  FGtllVqz18RPiwJj/edr2gV78zirAiY/9SmYvia+kCg=  \\\n",
       "1  hZyOA+0yqClPLt6uIEndf8fG8szH/95eKMbaxLE5z30=   \n",
       "2  0LhkakIQDn36HZXI6ClQSO7W7jkpZAy+9MvYgPOZGrA=   \n",
       "3  MofmAMt7P8LIcF4+LLlcjyIhYUzmv13L/LRwYFxiGYE=   \n",
       "4  U9Z+N+szYGJHTPMn/C0V7yIyIC24fDI0RDRWChXATkg=   \n",
       "\n",
       "                                        song_id  target genre_ids artist_name   \n",
       "0  3Hg5kugV1S0wzEVLAEfqjIV5UHzb7bCrdBRQlGygLvU=       1      1259   Desiigner  \\\n",
       "1  3Hg5kugV1S0wzEVLAEfqjIV5UHzb7bCrdBRQlGygLvU=       1      1259   Desiigner   \n",
       "2  skehue/d/R59G71dXYpntDwdjRRPlweN3JE8g40TgZU=       1       458         莊心妍   \n",
       "3  skehue/d/R59G71dXYpntDwdjRRPlweN3JE8g40TgZU=       1       458         莊心妍   \n",
       "4  skehue/d/R59G71dXYpntDwdjRRPlweN3JE8g40TgZU=       0       458         莊心妍   \n",
       "\n",
       "                   composer lyricist song_name  \n",
       "0  Sidney Selby| Adnan Khan              Panda  \n",
       "1  Sidney Selby| Adnan Khan              Panda  \n",
       "2                       鄭建浩      鄭建浩     我過的很好  \n",
       "3                       鄭建浩      鄭建浩     我過的很好  \n",
       "4                       鄭建浩      鄭建浩     我過的很好  "
      ]
     },
     "execution_count": 38,
     "metadata": {},
     "output_type": "execute_result"
    }
   ],
   "source": [
    "df.rename(columns={'name':'song_name'},inplace=True)\n",
    "df.head()"
   ]
  },
  {
   "cell_type": "code",
   "execution_count": 39,
   "id": "3a0dd546",
   "metadata": {},
   "outputs": [
    {
     "data": {
      "text/plain": [
       "genre_ids\n",
       "465                    710\n",
       "458                    400\n",
       "444                     65\n",
       "1609                    57\n",
       "921                     49\n",
       "359                     32\n",
       "                        26\n",
       "139                     24\n",
       "2022                    21\n",
       "1259                    20\n",
       "2122                    13\n",
       "139|125|109              7\n",
       "726                      7\n",
       "451                      7\n",
       "437                      7\n",
       "958                      6\n",
       "786|947                  6\n",
       "465|1259                 4\n",
       "1011                     4\n",
       "786                      4\n",
       "947                      4\n",
       "691                      3\n",
       "921|465                  3\n",
       "430                      3\n",
       "921|458                  2\n",
       "458|1287                 2\n",
       "698                      2\n",
       "444|1259                 2\n",
       "829                      2\n",
       "850                      2\n",
       "1152                     1\n",
       "880|458                  1\n",
       "465|829                  1\n",
       "864|857|850|843          1\n",
       "465|798                  1\n",
       "474                      1\n",
       "864|850|726|857|843      1\n",
       "388                      1\n",
       "864|786|850|857|843      1\n",
       "940                      1\n",
       "1609|465                 1\n",
       "465|2122                 1\n",
       "423                      1\n",
       "726|242                  1\n",
       "437|850                  1\n",
       "Name: count, dtype: int64"
      ]
     },
     "execution_count": 39,
     "metadata": {},
     "output_type": "execute_result"
    }
   ],
   "source": [
    "df['genre_ids'].value_counts()"
   ]
  },
  {
   "cell_type": "code",
   "execution_count": 40,
   "id": "37dfa300",
   "metadata": {},
   "outputs": [
    {
     "data": {
      "text/plain": [
       "genre_ids\n",
       " 4 6 5                                     710\n",
       " 4 5 8                                     400\n",
       " 4 4 4                                      65\n",
       " 1 6 0 9                                    57\n",
       " 9 2 1                                      49\n",
       " 3 5 9                                      32\n",
       "                                            26\n",
       " 1 3 9                                      24\n",
       " 2 0 2 2                                    21\n",
       " 1 2 5 9                                    20\n",
       " 2 1 2 2                                    13\n",
       " 1 3 9 | 1 2 5 | 1 0 9                       7\n",
       " 7 2 6                                       7\n",
       " 4 5 1                                       7\n",
       " 4 3 7                                       7\n",
       " 9 5 8                                       6\n",
       " 7 8 6 | 9 4 7                               6\n",
       " 4 6 5 | 1 2 5 9                             4\n",
       " 1 0 1 1                                     4\n",
       " 7 8 6                                       4\n",
       " 9 4 7                                       4\n",
       " 6 9 1                                       3\n",
       " 9 2 1 | 4 6 5                               3\n",
       " 4 3 0                                       3\n",
       " 9 2 1 | 4 5 8                               2\n",
       " 4 5 8 | 1 2 8 7                             2\n",
       " 6 9 8                                       2\n",
       " 4 4 4 | 1 2 5 9                             2\n",
       " 8 2 9                                       2\n",
       " 8 5 0                                       2\n",
       " 1 1 5 2                                     1\n",
       " 8 8 0 | 4 5 8                               1\n",
       " 4 6 5 | 8 2 9                               1\n",
       " 8 6 4 | 8 5 7 | 8 5 0 | 8 4 3               1\n",
       " 4 6 5 | 7 9 8                               1\n",
       " 4 7 4                                       1\n",
       " 8 6 4 | 8 5 0 | 7 2 6 | 8 5 7 | 8 4 3       1\n",
       " 3 8 8                                       1\n",
       " 8 6 4 | 7 8 6 | 8 5 0 | 8 5 7 | 8 4 3       1\n",
       " 9 4 0                                       1\n",
       " 1 6 0 9 | 4 6 5                             1\n",
       " 4 6 5 | 2 1 2 2                             1\n",
       " 4 2 3                                       1\n",
       " 7 2 6 | 2 4 2                               1\n",
       " 4 3 7 | 8 5 0                               1\n",
       "Name: count, dtype: int64"
      ]
     },
     "execution_count": 40,
     "metadata": {},
     "output_type": "execute_result"
    }
   ],
   "source": [
    "df['genre_ids']=df['genre_ids'].str.replace('|',' ',regex=True)\n",
    "df['genre_ids'].value_counts()"
   ]
  },
  {
   "cell_type": "code",
   "execution_count": 41,
   "id": "4fde2a81",
   "metadata": {},
   "outputs": [],
   "source": [
    "df['artist_name']=df['artist_name'].str.replace('|',' ',regex=True)\n",
    "df['composer']=df['composer'].str.replace('/',' ',regex=True)\n",
    "df['lyricist']=df['lyricist'].str.replace('/',' ',regex=True)"
   ]
  },
  {
   "cell_type": "code",
   "execution_count": 42,
   "id": "3bcfc872",
   "metadata": {},
   "outputs": [],
   "source": [
    "df['artist_name']=df['artist_name'].str.lower()\n",
    "df['composer']=df['composer'].str.lower()\n",
    "df['lyricist']=df['lyricist'].str.lower()"
   ]
  },
  {
   "cell_type": "code",
   "execution_count": 43,
   "id": "a8a47182",
   "metadata": {},
   "outputs": [
    {
     "data": {
      "text/html": [
       "<div>\n",
       "<style scoped>\n",
       "    .dataframe tbody tr th:only-of-type {\n",
       "        vertical-align: middle;\n",
       "    }\n",
       "\n",
       "    .dataframe tbody tr th {\n",
       "        vertical-align: top;\n",
       "    }\n",
       "\n",
       "    .dataframe thead th {\n",
       "        text-align: right;\n",
       "    }\n",
       "</style>\n",
       "<table border=\"1\" class=\"dataframe\">\n",
       "  <thead>\n",
       "    <tr style=\"text-align: right;\">\n",
       "      <th></th>\n",
       "      <th>user_id</th>\n",
       "      <th>song_id</th>\n",
       "      <th>target</th>\n",
       "      <th>genre_ids</th>\n",
       "      <th>artist_name</th>\n",
       "      <th>composer</th>\n",
       "      <th>lyricist</th>\n",
       "      <th>song_name</th>\n",
       "      <th>songs_details</th>\n",
       "    </tr>\n",
       "  </thead>\n",
       "  <tbody>\n",
       "    <tr>\n",
       "      <th>0</th>\n",
       "      <td>FGtllVqz18RPiwJj/edr2gV78zirAiY/9SmYvia+kCg=</td>\n",
       "      <td>3Hg5kugV1S0wzEVLAEfqjIV5UHzb7bCrdBRQlGygLvU=</td>\n",
       "      <td>1</td>\n",
       "      <td>1 2 5 9</td>\n",
       "      <td>d e s i i g n e r</td>\n",
       "      <td>sidney selby| adnan khan</td>\n",
       "      <td></td>\n",
       "      <td>Panda</td>\n",
       "      <td>d e s i i g n e r sidney selby| adnan khan</td>\n",
       "    </tr>\n",
       "    <tr>\n",
       "      <th>1</th>\n",
       "      <td>hZyOA+0yqClPLt6uIEndf8fG8szH/95eKMbaxLE5z30=</td>\n",
       "      <td>3Hg5kugV1S0wzEVLAEfqjIV5UHzb7bCrdBRQlGygLvU=</td>\n",
       "      <td>1</td>\n",
       "      <td>1 2 5 9</td>\n",
       "      <td>d e s i i g n e r</td>\n",
       "      <td>sidney selby| adnan khan</td>\n",
       "      <td></td>\n",
       "      <td>Panda</td>\n",
       "      <td>d e s i i g n e r sidney selby| adnan khan</td>\n",
       "    </tr>\n",
       "    <tr>\n",
       "      <th>2</th>\n",
       "      <td>0LhkakIQDn36HZXI6ClQSO7W7jkpZAy+9MvYgPOZGrA=</td>\n",
       "      <td>skehue/d/R59G71dXYpntDwdjRRPlweN3JE8g40TgZU=</td>\n",
       "      <td>1</td>\n",
       "      <td>4 5 8</td>\n",
       "      <td>莊 心 妍</td>\n",
       "      <td>鄭建浩</td>\n",
       "      <td>鄭建浩</td>\n",
       "      <td>我過的很好</td>\n",
       "      <td>莊 心 妍 鄭建浩鄭建浩</td>\n",
       "    </tr>\n",
       "    <tr>\n",
       "      <th>3</th>\n",
       "      <td>MofmAMt7P8LIcF4+LLlcjyIhYUzmv13L/LRwYFxiGYE=</td>\n",
       "      <td>skehue/d/R59G71dXYpntDwdjRRPlweN3JE8g40TgZU=</td>\n",
       "      <td>1</td>\n",
       "      <td>4 5 8</td>\n",
       "      <td>莊 心 妍</td>\n",
       "      <td>鄭建浩</td>\n",
       "      <td>鄭建浩</td>\n",
       "      <td>我過的很好</td>\n",
       "      <td>莊 心 妍 鄭建浩鄭建浩</td>\n",
       "    </tr>\n",
       "    <tr>\n",
       "      <th>4</th>\n",
       "      <td>U9Z+N+szYGJHTPMn/C0V7yIyIC24fDI0RDRWChXATkg=</td>\n",
       "      <td>skehue/d/R59G71dXYpntDwdjRRPlweN3JE8g40TgZU=</td>\n",
       "      <td>0</td>\n",
       "      <td>4 5 8</td>\n",
       "      <td>莊 心 妍</td>\n",
       "      <td>鄭建浩</td>\n",
       "      <td>鄭建浩</td>\n",
       "      <td>我過的很好</td>\n",
       "      <td>莊 心 妍 鄭建浩鄭建浩</td>\n",
       "    </tr>\n",
       "  </tbody>\n",
       "</table>\n",
       "</div>"
      ],
      "text/plain": [
       "                                        user_id   \n",
       "0  FGtllVqz18RPiwJj/edr2gV78zirAiY/9SmYvia+kCg=  \\\n",
       "1  hZyOA+0yqClPLt6uIEndf8fG8szH/95eKMbaxLE5z30=   \n",
       "2  0LhkakIQDn36HZXI6ClQSO7W7jkpZAy+9MvYgPOZGrA=   \n",
       "3  MofmAMt7P8LIcF4+LLlcjyIhYUzmv13L/LRwYFxiGYE=   \n",
       "4  U9Z+N+szYGJHTPMn/C0V7yIyIC24fDI0RDRWChXATkg=   \n",
       "\n",
       "                                        song_id  target  genre_ids   \n",
       "0  3Hg5kugV1S0wzEVLAEfqjIV5UHzb7bCrdBRQlGygLvU=       1   1 2 5 9   \\\n",
       "1  3Hg5kugV1S0wzEVLAEfqjIV5UHzb7bCrdBRQlGygLvU=       1   1 2 5 9    \n",
       "2  skehue/d/R59G71dXYpntDwdjRRPlweN3JE8g40TgZU=       1     4 5 8    \n",
       "3  skehue/d/R59G71dXYpntDwdjRRPlweN3JE8g40TgZU=       1     4 5 8    \n",
       "4  skehue/d/R59G71dXYpntDwdjRRPlweN3JE8g40TgZU=       0     4 5 8    \n",
       "\n",
       "           artist_name                  composer lyricist song_name   \n",
       "0   d e s i i g n e r   sidney selby| adnan khan              Panda  \\\n",
       "1   d e s i i g n e r   sidney selby| adnan khan              Panda   \n",
       "2               莊 心 妍                        鄭建浩      鄭建浩     我過的很好   \n",
       "3               莊 心 妍                        鄭建浩      鄭建浩     我過的很好   \n",
       "4               莊 心 妍                        鄭建浩      鄭建浩     我過的很好   \n",
       "\n",
       "                                  songs_details  \n",
       "0   d e s i i g n e r sidney selby| adnan khan   \n",
       "1   d e s i i g n e r sidney selby| adnan khan   \n",
       "2                                  莊 心 妍 鄭建浩鄭建浩  \n",
       "3                                  莊 心 妍 鄭建浩鄭建浩  \n",
       "4                                  莊 心 妍 鄭建浩鄭建浩  "
      ]
     },
     "execution_count": 43,
     "metadata": {},
     "output_type": "execute_result"
    }
   ],
   "source": [
    "df['songs_details']=df['artist_name']+''+df['composer']+df['lyricist']\n",
    "df.head()"
   ]
  },
  {
   "cell_type": "code",
   "execution_count": 44,
   "id": "62fc636b",
   "metadata": {},
   "outputs": [
    {
     "data": {
      "text/plain": [
       "user_id\n",
       "EozJegFxTFIWDb9aJ7O8kSUHAgx4ZIvqf7IuN5Zck50=    19\n",
       "V5U4EGk2kaSKaUGSwhU6g3HBefxflEvAy1vWPu6UBQs=    18\n",
       "Bwg9yS76qujJJeKsYSzfJrMlkjK5Ui7KFkgUcjuXRCg=    12\n",
       "W9NYSCff57nmfyYCiX6IbW0/G3YuwC18h/rld+BGxMY=    11\n",
       "UzlQoa9tdrcpYdh4wksoh+SpWCFcKvRGPA+xLNqghmo=    11\n",
       "                                                ..\n",
       "rb7TT328utsdnd8COyhstig0zciXIURo7M464E60EHg=     1\n",
       "hSn7jMfIURFu+1W3PDIDTxbhM5SxRg9VFRoH23Rm2Ic=     1\n",
       "yrMfQXudhDaA/bOePZtkKErbjZc5pALG79FHPayEy5U=     1\n",
       "iP3eF1In0rH61CfgVmWVYj4CgFcQQ0iVZG7MBA+Plgo=     1\n",
       "j2Sx5B7BrjqCiT3ZwWK4AvepwM14QEalhTPi2/sgdG4=     1\n",
       "Name: count, Length: 975, dtype: int64"
      ]
     },
     "execution_count": 44,
     "metadata": {},
     "output_type": "execute_result"
    }
   ],
   "source": [
    "df.user_id.value_counts()"
   ]
  },
  {
   "cell_type": "code",
   "execution_count": 45,
   "id": "8b9eaef3",
   "metadata": {},
   "outputs": [
    {
     "data": {
      "text/plain": [
       "0"
      ]
     },
     "execution_count": 45,
     "metadata": {},
     "output_type": "execute_result"
    }
   ],
   "source": [
    "df.duplicated().sum()"
   ]
  },
  {
   "cell_type": "code",
   "execution_count": 46,
   "id": "29c57b5c",
   "metadata": {},
   "outputs": [
    {
     "data": {
      "text/html": [
       "<div>\n",
       "<style scoped>\n",
       "    .dataframe tbody tr th:only-of-type {\n",
       "        vertical-align: middle;\n",
       "    }\n",
       "\n",
       "    .dataframe tbody tr th {\n",
       "        vertical-align: top;\n",
       "    }\n",
       "\n",
       "    .dataframe thead th {\n",
       "        text-align: right;\n",
       "    }\n",
       "</style>\n",
       "<table border=\"1\" class=\"dataframe\">\n",
       "  <thead>\n",
       "    <tr style=\"text-align: right;\">\n",
       "      <th></th>\n",
       "      <th>user_id</th>\n",
       "      <th>song_id</th>\n",
       "      <th>target</th>\n",
       "      <th>genre_ids</th>\n",
       "      <th>artist_name</th>\n",
       "      <th>composer</th>\n",
       "      <th>lyricist</th>\n",
       "      <th>song_name</th>\n",
       "      <th>songs_details</th>\n",
       "    </tr>\n",
       "  </thead>\n",
       "  <tbody>\n",
       "    <tr>\n",
       "      <th>0</th>\n",
       "      <td>FGtllVqz18RPiwJj/edr2gV78zirAiY/9SmYvia+kCg=</td>\n",
       "      <td>3Hg5kugV1S0wzEVLAEfqjIV5UHzb7bCrdBRQlGygLvU=</td>\n",
       "      <td>1</td>\n",
       "      <td>1 2 5 9</td>\n",
       "      <td>d e s i i g n e r</td>\n",
       "      <td>sidney selby| adnan khan</td>\n",
       "      <td></td>\n",
       "      <td>Panda</td>\n",
       "      <td>d e s i i g n e r sidney selby| adnan khan</td>\n",
       "    </tr>\n",
       "    <tr>\n",
       "      <th>1</th>\n",
       "      <td>hZyOA+0yqClPLt6uIEndf8fG8szH/95eKMbaxLE5z30=</td>\n",
       "      <td>3Hg5kugV1S0wzEVLAEfqjIV5UHzb7bCrdBRQlGygLvU=</td>\n",
       "      <td>1</td>\n",
       "      <td>1 2 5 9</td>\n",
       "      <td>d e s i i g n e r</td>\n",
       "      <td>sidney selby| adnan khan</td>\n",
       "      <td></td>\n",
       "      <td>Panda</td>\n",
       "      <td>d e s i i g n e r sidney selby| adnan khan</td>\n",
       "    </tr>\n",
       "    <tr>\n",
       "      <th>2</th>\n",
       "      <td>0LhkakIQDn36HZXI6ClQSO7W7jkpZAy+9MvYgPOZGrA=</td>\n",
       "      <td>skehue/d/R59G71dXYpntDwdjRRPlweN3JE8g40TgZU=</td>\n",
       "      <td>1</td>\n",
       "      <td>4 5 8</td>\n",
       "      <td>莊 心 妍</td>\n",
       "      <td>鄭建浩</td>\n",
       "      <td>鄭建浩</td>\n",
       "      <td>我過的很好</td>\n",
       "      <td>莊 心 妍 鄭建浩鄭建浩</td>\n",
       "    </tr>\n",
       "    <tr>\n",
       "      <th>3</th>\n",
       "      <td>MofmAMt7P8LIcF4+LLlcjyIhYUzmv13L/LRwYFxiGYE=</td>\n",
       "      <td>skehue/d/R59G71dXYpntDwdjRRPlweN3JE8g40TgZU=</td>\n",
       "      <td>1</td>\n",
       "      <td>4 5 8</td>\n",
       "      <td>莊 心 妍</td>\n",
       "      <td>鄭建浩</td>\n",
       "      <td>鄭建浩</td>\n",
       "      <td>我過的很好</td>\n",
       "      <td>莊 心 妍 鄭建浩鄭建浩</td>\n",
       "    </tr>\n",
       "    <tr>\n",
       "      <th>4</th>\n",
       "      <td>U9Z+N+szYGJHTPMn/C0V7yIyIC24fDI0RDRWChXATkg=</td>\n",
       "      <td>skehue/d/R59G71dXYpntDwdjRRPlweN3JE8g40TgZU=</td>\n",
       "      <td>0</td>\n",
       "      <td>4 5 8</td>\n",
       "      <td>莊 心 妍</td>\n",
       "      <td>鄭建浩</td>\n",
       "      <td>鄭建浩</td>\n",
       "      <td>我過的很好</td>\n",
       "      <td>莊 心 妍 鄭建浩鄭建浩</td>\n",
       "    </tr>\n",
       "  </tbody>\n",
       "</table>\n",
       "</div>"
      ],
      "text/plain": [
       "                                        user_id   \n",
       "0  FGtllVqz18RPiwJj/edr2gV78zirAiY/9SmYvia+kCg=  \\\n",
       "1  hZyOA+0yqClPLt6uIEndf8fG8szH/95eKMbaxLE5z30=   \n",
       "2  0LhkakIQDn36HZXI6ClQSO7W7jkpZAy+9MvYgPOZGrA=   \n",
       "3  MofmAMt7P8LIcF4+LLlcjyIhYUzmv13L/LRwYFxiGYE=   \n",
       "4  U9Z+N+szYGJHTPMn/C0V7yIyIC24fDI0RDRWChXATkg=   \n",
       "\n",
       "                                        song_id  target  genre_ids   \n",
       "0  3Hg5kugV1S0wzEVLAEfqjIV5UHzb7bCrdBRQlGygLvU=       1   1 2 5 9   \\\n",
       "1  3Hg5kugV1S0wzEVLAEfqjIV5UHzb7bCrdBRQlGygLvU=       1   1 2 5 9    \n",
       "2  skehue/d/R59G71dXYpntDwdjRRPlweN3JE8g40TgZU=       1     4 5 8    \n",
       "3  skehue/d/R59G71dXYpntDwdjRRPlweN3JE8g40TgZU=       1     4 5 8    \n",
       "4  skehue/d/R59G71dXYpntDwdjRRPlweN3JE8g40TgZU=       0     4 5 8    \n",
       "\n",
       "           artist_name                  composer lyricist song_name   \n",
       "0   d e s i i g n e r   sidney selby| adnan khan              Panda  \\\n",
       "1   d e s i i g n e r   sidney selby| adnan khan              Panda   \n",
       "2               莊 心 妍                        鄭建浩      鄭建浩     我過的很好   \n",
       "3               莊 心 妍                        鄭建浩      鄭建浩     我過的很好   \n",
       "4               莊 心 妍                        鄭建浩      鄭建浩     我過的很好   \n",
       "\n",
       "                                  songs_details  \n",
       "0   d e s i i g n e r sidney selby| adnan khan   \n",
       "1   d e s i i g n e r sidney selby| adnan khan   \n",
       "2                                  莊 心 妍 鄭建浩鄭建浩  \n",
       "3                                  莊 心 妍 鄭建浩鄭建浩  \n",
       "4                                  莊 心 妍 鄭建浩鄭建浩  "
      ]
     },
     "execution_count": 46,
     "metadata": {},
     "output_type": "execute_result"
    }
   ],
   "source": [
    "#Creating a copy file before performing similarity\n",
    "main_df=df.copy()\n",
    "main_df.head()"
   ]
  },
  {
   "cell_type": "code",
   "execution_count": 47,
   "id": "7aba0a4c",
   "metadata": {},
   "outputs": [
    {
     "data": {
      "text/plain": [
       "889"
      ]
     },
     "execution_count": 47,
     "metadata": {},
     "output_type": "execute_result"
    }
   ],
   "source": [
    "main_df.songs_details.duplicated().sum()"
   ]
  },
  {
   "cell_type": "code",
   "execution_count": 48,
   "id": "946edf11",
   "metadata": {},
   "outputs": [
    {
     "data": {
      "text/plain": [
       "(1509, 9)"
      ]
     },
     "execution_count": 48,
     "metadata": {},
     "output_type": "execute_result"
    }
   ],
   "source": [
    "main_df.shape"
   ]
  },
  {
   "cell_type": "code",
   "execution_count": 49,
   "id": "6a29770b",
   "metadata": {},
   "outputs": [
    {
     "data": {
      "text/plain": [
       "0"
      ]
     },
     "execution_count": 49,
     "metadata": {},
     "output_type": "execute_result"
    }
   ],
   "source": [
    "main_df.duplicated().sum()"
   ]
  },
  {
   "cell_type": "code",
   "execution_count": 50,
   "id": "261ad686",
   "metadata": {},
   "outputs": [],
   "source": [
    "main_df=main_df.drop('user_id',axis=1)"
   ]
  },
  {
   "cell_type": "code",
   "execution_count": 51,
   "id": "4c46f0cb",
   "metadata": {},
   "outputs": [
    {
     "data": {
      "text/html": [
       "<div>\n",
       "<style scoped>\n",
       "    .dataframe tbody tr th:only-of-type {\n",
       "        vertical-align: middle;\n",
       "    }\n",
       "\n",
       "    .dataframe tbody tr th {\n",
       "        vertical-align: top;\n",
       "    }\n",
       "\n",
       "    .dataframe thead th {\n",
       "        text-align: right;\n",
       "    }\n",
       "</style>\n",
       "<table border=\"1\" class=\"dataframe\">\n",
       "  <thead>\n",
       "    <tr style=\"text-align: right;\">\n",
       "      <th></th>\n",
       "      <th>song_id</th>\n",
       "      <th>target</th>\n",
       "      <th>genre_ids</th>\n",
       "      <th>artist_name</th>\n",
       "      <th>composer</th>\n",
       "      <th>lyricist</th>\n",
       "      <th>song_name</th>\n",
       "      <th>songs_details</th>\n",
       "    </tr>\n",
       "  </thead>\n",
       "  <tbody>\n",
       "    <tr>\n",
       "      <th>0</th>\n",
       "      <td>3Hg5kugV1S0wzEVLAEfqjIV5UHzb7bCrdBRQlGygLvU=</td>\n",
       "      <td>1</td>\n",
       "      <td>1 2 5 9</td>\n",
       "      <td>d e s i i g n e r</td>\n",
       "      <td>sidney selby| adnan khan</td>\n",
       "      <td></td>\n",
       "      <td>Panda</td>\n",
       "      <td>d e s i i g n e r sidney selby| adnan khan</td>\n",
       "    </tr>\n",
       "    <tr>\n",
       "      <th>1</th>\n",
       "      <td>3Hg5kugV1S0wzEVLAEfqjIV5UHzb7bCrdBRQlGygLvU=</td>\n",
       "      <td>1</td>\n",
       "      <td>1 2 5 9</td>\n",
       "      <td>d e s i i g n e r</td>\n",
       "      <td>sidney selby| adnan khan</td>\n",
       "      <td></td>\n",
       "      <td>Panda</td>\n",
       "      <td>d e s i i g n e r sidney selby| adnan khan</td>\n",
       "    </tr>\n",
       "    <tr>\n",
       "      <th>2</th>\n",
       "      <td>skehue/d/R59G71dXYpntDwdjRRPlweN3JE8g40TgZU=</td>\n",
       "      <td>1</td>\n",
       "      <td>4 5 8</td>\n",
       "      <td>莊 心 妍</td>\n",
       "      <td>鄭建浩</td>\n",
       "      <td>鄭建浩</td>\n",
       "      <td>我過的很好</td>\n",
       "      <td>莊 心 妍 鄭建浩鄭建浩</td>\n",
       "    </tr>\n",
       "    <tr>\n",
       "      <th>3</th>\n",
       "      <td>skehue/d/R59G71dXYpntDwdjRRPlweN3JE8g40TgZU=</td>\n",
       "      <td>1</td>\n",
       "      <td>4 5 8</td>\n",
       "      <td>莊 心 妍</td>\n",
       "      <td>鄭建浩</td>\n",
       "      <td>鄭建浩</td>\n",
       "      <td>我過的很好</td>\n",
       "      <td>莊 心 妍 鄭建浩鄭建浩</td>\n",
       "    </tr>\n",
       "    <tr>\n",
       "      <th>4</th>\n",
       "      <td>skehue/d/R59G71dXYpntDwdjRRPlweN3JE8g40TgZU=</td>\n",
       "      <td>0</td>\n",
       "      <td>4 5 8</td>\n",
       "      <td>莊 心 妍</td>\n",
       "      <td>鄭建浩</td>\n",
       "      <td>鄭建浩</td>\n",
       "      <td>我過的很好</td>\n",
       "      <td>莊 心 妍 鄭建浩鄭建浩</td>\n",
       "    </tr>\n",
       "  </tbody>\n",
       "</table>\n",
       "</div>"
      ],
      "text/plain": [
       "                                        song_id  target  genre_ids   \n",
       "0  3Hg5kugV1S0wzEVLAEfqjIV5UHzb7bCrdBRQlGygLvU=       1   1 2 5 9   \\\n",
       "1  3Hg5kugV1S0wzEVLAEfqjIV5UHzb7bCrdBRQlGygLvU=       1   1 2 5 9    \n",
       "2  skehue/d/R59G71dXYpntDwdjRRPlweN3JE8g40TgZU=       1     4 5 8    \n",
       "3  skehue/d/R59G71dXYpntDwdjRRPlweN3JE8g40TgZU=       1     4 5 8    \n",
       "4  skehue/d/R59G71dXYpntDwdjRRPlweN3JE8g40TgZU=       0     4 5 8    \n",
       "\n",
       "           artist_name                  composer lyricist song_name   \n",
       "0   d e s i i g n e r   sidney selby| adnan khan              Panda  \\\n",
       "1   d e s i i g n e r   sidney selby| adnan khan              Panda   \n",
       "2               莊 心 妍                        鄭建浩      鄭建浩     我過的很好   \n",
       "3               莊 心 妍                        鄭建浩      鄭建浩     我過的很好   \n",
       "4               莊 心 妍                        鄭建浩      鄭建浩     我過的很好   \n",
       "\n",
       "                                  songs_details  \n",
       "0   d e s i i g n e r sidney selby| adnan khan   \n",
       "1   d e s i i g n e r sidney selby| adnan khan   \n",
       "2                                  莊 心 妍 鄭建浩鄭建浩  \n",
       "3                                  莊 心 妍 鄭建浩鄭建浩  \n",
       "4                                  莊 心 妍 鄭建浩鄭建浩  "
      ]
     },
     "execution_count": 51,
     "metadata": {},
     "output_type": "execute_result"
    }
   ],
   "source": [
    "main_df.head()"
   ]
  },
  {
   "cell_type": "code",
   "execution_count": 52,
   "id": "cb506dd9",
   "metadata": {},
   "outputs": [
    {
     "data": {
      "text/plain": [
       "715"
      ]
     },
     "execution_count": 52,
     "metadata": {},
     "output_type": "execute_result"
    }
   ],
   "source": [
    "main_df.duplicated().sum()"
   ]
  },
  {
   "cell_type": "code",
   "execution_count": 53,
   "id": "6e01bbf9",
   "metadata": {},
   "outputs": [
    {
     "data": {
      "text/html": [
       "<div>\n",
       "<style scoped>\n",
       "    .dataframe tbody tr th:only-of-type {\n",
       "        vertical-align: middle;\n",
       "    }\n",
       "\n",
       "    .dataframe tbody tr th {\n",
       "        vertical-align: top;\n",
       "    }\n",
       "\n",
       "    .dataframe thead th {\n",
       "        text-align: right;\n",
       "    }\n",
       "</style>\n",
       "<table border=\"1\" class=\"dataframe\">\n",
       "  <thead>\n",
       "    <tr style=\"text-align: right;\">\n",
       "      <th></th>\n",
       "      <th>song_id</th>\n",
       "      <th>target</th>\n",
       "      <th>genre_ids</th>\n",
       "      <th>artist_name</th>\n",
       "      <th>composer</th>\n",
       "      <th>lyricist</th>\n",
       "      <th>song_name</th>\n",
       "      <th>songs_details</th>\n",
       "    </tr>\n",
       "  </thead>\n",
       "  <tbody>\n",
       "    <tr>\n",
       "      <th>0</th>\n",
       "      <td>3Hg5kugV1S0wzEVLAEfqjIV5UHzb7bCrdBRQlGygLvU=</td>\n",
       "      <td>1</td>\n",
       "      <td>1 2 5 9</td>\n",
       "      <td>d e s i i g n e r</td>\n",
       "      <td>sidney selby| adnan khan</td>\n",
       "      <td></td>\n",
       "      <td>Panda</td>\n",
       "      <td>d e s i i g n e r sidney selby| adnan khan</td>\n",
       "    </tr>\n",
       "    <tr>\n",
       "      <th>2</th>\n",
       "      <td>skehue/d/R59G71dXYpntDwdjRRPlweN3JE8g40TgZU=</td>\n",
       "      <td>1</td>\n",
       "      <td>4 5 8</td>\n",
       "      <td>莊 心 妍</td>\n",
       "      <td>鄭建浩</td>\n",
       "      <td>鄭建浩</td>\n",
       "      <td>我過的很好</td>\n",
       "      <td>莊 心 妍 鄭建浩鄭建浩</td>\n",
       "    </tr>\n",
       "    <tr>\n",
       "      <th>4</th>\n",
       "      <td>skehue/d/R59G71dXYpntDwdjRRPlweN3JE8g40TgZU=</td>\n",
       "      <td>0</td>\n",
       "      <td>4 5 8</td>\n",
       "      <td>莊 心 妍</td>\n",
       "      <td>鄭建浩</td>\n",
       "      <td>鄭建浩</td>\n",
       "      <td>我過的很好</td>\n",
       "      <td>莊 心 妍 鄭建浩鄭建浩</td>\n",
       "    </tr>\n",
       "    <tr>\n",
       "      <th>21</th>\n",
       "      <td>reXuGcEWDDCnL0K3Th//3DFG4S1ACSpJMzA+CFipo1g=</td>\n",
       "      <td>1</td>\n",
       "      <td>4 5 8</td>\n",
       "      <td>周 湯 豪   ( n i c k t h e r e a l )</td>\n",
       "      <td>周湯豪</td>\n",
       "      <td>周湯豪\\崔惟楷</td>\n",
       "      <td>帥到分手</td>\n",
       "      <td>周 湯 豪   ( n i c k t h e r e a l ) 周湯豪周湯豪\\崔惟楷</td>\n",
       "    </tr>\n",
       "    <tr>\n",
       "      <th>73</th>\n",
       "      <td>reXuGcEWDDCnL0K3Th//3DFG4S1ACSpJMzA+CFipo1g=</td>\n",
       "      <td>0</td>\n",
       "      <td>4 5 8</td>\n",
       "      <td>周 湯 豪   ( n i c k t h e r e a l )</td>\n",
       "      <td>周湯豪</td>\n",
       "      <td>周湯豪\\崔惟楷</td>\n",
       "      <td>帥到分手</td>\n",
       "      <td>周 湯 豪   ( n i c k t h e r e a l ) 周湯豪周湯豪\\崔惟楷</td>\n",
       "    </tr>\n",
       "  </tbody>\n",
       "</table>\n",
       "</div>"
      ],
      "text/plain": [
       "                                         song_id  target  genre_ids   \n",
       "0   3Hg5kugV1S0wzEVLAEfqjIV5UHzb7bCrdBRQlGygLvU=       1   1 2 5 9   \\\n",
       "2   skehue/d/R59G71dXYpntDwdjRRPlweN3JE8g40TgZU=       1     4 5 8    \n",
       "4   skehue/d/R59G71dXYpntDwdjRRPlweN3JE8g40TgZU=       0     4 5 8    \n",
       "21  reXuGcEWDDCnL0K3Th//3DFG4S1ACSpJMzA+CFipo1g=       1     4 5 8    \n",
       "73  reXuGcEWDDCnL0K3Th//3DFG4S1ACSpJMzA+CFipo1g=       0     4 5 8    \n",
       "\n",
       "                            artist_name                  composer lyricist   \n",
       "0                    d e s i i g n e r   sidney selby| adnan khan           \\\n",
       "2                                莊 心 妍                        鄭建浩      鄭建浩   \n",
       "4                                莊 心 妍                        鄭建浩      鄭建浩   \n",
       "21   周 湯 豪   ( n i c k t h e r e a l )                        周湯豪  周湯豪\\崔惟楷   \n",
       "73   周 湯 豪   ( n i c k t h e r e a l )                        周湯豪  周湯豪\\崔惟楷   \n",
       "\n",
       "   song_name                                  songs_details  \n",
       "0      Panda    d e s i i g n e r sidney selby| adnan khan   \n",
       "2      我過的很好                                   莊 心 妍 鄭建浩鄭建浩  \n",
       "4      我過的很好                                   莊 心 妍 鄭建浩鄭建浩  \n",
       "21      帥到分手   周 湯 豪   ( n i c k t h e r e a l ) 周湯豪周湯豪\\崔惟楷  \n",
       "73      帥到分手   周 湯 豪   ( n i c k t h e r e a l ) 周湯豪周湯豪\\崔惟楷  "
      ]
     },
     "execution_count": 53,
     "metadata": {},
     "output_type": "execute_result"
    }
   ],
   "source": [
    "main_df=main_df.drop_duplicates()\n",
    "main_df.head()"
   ]
  },
  {
   "cell_type": "code",
   "execution_count": 54,
   "id": "2ccf60bd",
   "metadata": {},
   "outputs": [],
   "source": [
    "main_df.reset_index(inplace=True)"
   ]
  },
  {
   "cell_type": "code",
   "execution_count": 55,
   "id": "78ffe368",
   "metadata": {},
   "outputs": [],
   "source": [
    "from sklearn.feature_extraction.text import TfidfVectorizer\n",
    "tfidf=TfidfVectorizer(analyzer='word',stop_words='english')\n",
    "tfidf_matrix=tfidf.fit_transform(main_df['songs_details'])"
   ]
  },
  {
   "cell_type": "code",
   "execution_count": 56,
   "id": "b9dea35b",
   "metadata": {},
   "outputs": [
    {
     "data": {
      "text/plain": [
       "<794x1285 sparse matrix of type '<class 'numpy.float64'>'\n",
       "\twith 2115 stored elements in Compressed Sparse Row format>"
      ]
     },
     "execution_count": 56,
     "metadata": {},
     "output_type": "execute_result"
    }
   ],
   "source": [
    "tfidf_matrix"
   ]
  },
  {
   "cell_type": "code",
   "execution_count": 57,
   "id": "f92179df",
   "metadata": {},
   "outputs": [
    {
     "data": {
      "text/plain": [
       "(794, 9)"
      ]
     },
     "execution_count": 57,
     "metadata": {},
     "output_type": "execute_result"
    }
   ],
   "source": [
    "main_df.shape"
   ]
  },
  {
   "cell_type": "code",
   "execution_count": 58,
   "id": "0ae2c927",
   "metadata": {},
   "outputs": [],
   "source": [
    "main_df.reset_index(drop=True, inplace=True)"
   ]
  },
  {
   "cell_type": "markdown",
   "id": "3d456946",
   "metadata": {},
   "source": [
    "<h4><font color=\"red\">  Machine Learning Models: </h4></font>"
   ]
  },
  {
   "cell_type": "code",
   "execution_count": 59,
   "id": "cfe101f0",
   "metadata": {},
   "outputs": [],
   "source": [
    "from sklearn.metrics.pairwise import cosine_similarity"
   ]
  },
  {
   "cell_type": "code",
   "execution_count": 60,
   "id": "aaa64731",
   "metadata": {},
   "outputs": [],
   "source": [
    "cosine_similarities=cosine_similarity(tfidf_matrix)"
   ]
  },
  {
   "cell_type": "code",
   "execution_count": 61,
   "id": "7e710a50",
   "metadata": {},
   "outputs": [
    {
     "data": {
      "text/plain": [
       "array([[1., 0., 0., ..., 0., 0., 0.],\n",
       "       [0., 1., 1., ..., 0., 0., 0.],\n",
       "       [0., 1., 1., ..., 0., 0., 0.],\n",
       "       ...,\n",
       "       [0., 0., 0., ..., 1., 0., 0.],\n",
       "       [0., 0., 0., ..., 0., 1., 0.],\n",
       "       [0., 0., 0., ..., 0., 0., 1.]])"
      ]
     },
     "execution_count": 61,
     "metadata": {},
     "output_type": "execute_result"
    }
   ],
   "source": [
    "cosine_similarities"
   ]
  },
  {
   "cell_type": "code",
   "execution_count": 62,
   "id": "0614b327",
   "metadata": {},
   "outputs": [
    {
     "data": {
      "text/plain": [
       "[(658, 0.5016923750693771),\n",
       " (78, 0.11327645281666239),\n",
       " (1, 0.0),\n",
       " (2, 0.0),\n",
       " (3, 0.0)]"
      ]
     },
     "execution_count": 62,
     "metadata": {},
     "output_type": "execute_result"
    }
   ],
   "source": [
    "sorted(list(enumerate(cosine_similarities[0])),reverse=True,key=lambda x:x[1])[1:6]"
   ]
  },
  {
   "cell_type": "code",
   "execution_count": 63,
   "id": "a5888fe5",
   "metadata": {},
   "outputs": [],
   "source": [
    "#In which you can recommend only index\n",
    "def recommend(song):\n",
    "    song_index=main_df[main_df['song_name']==song].index[0]\n",
    "    distances=cosine_similarities[song_index]\n",
    "    song_list=sorted(list(enumerate(cosine_similarities[0])),reverse=True,key=lambda x:x[1])[1:6]\n",
    "    for i in song_list:\n",
    "        print(i[0])"
   ]
  },
  {
   "cell_type": "code",
   "execution_count": 64,
   "id": "4deaf6cd",
   "metadata": {},
   "outputs": [],
   "source": [
    "def recommend(song):\n",
    "    song_index=main_df[main_df['song_name']==song].index[0]\n",
    "    distances=cosine_similarities[song_index]\n",
    "    song_list=sorted(list(enumerate(distances)),reverse=True,key=lambda x:x[1])[1:10]\n",
    "    for i in song_list:\n",
    "        print(main_df.iloc[i[0]].song_name)"
   ]
  },
  {
   "cell_type": "code",
   "execution_count": 66,
   "id": "ad4d5b15",
   "metadata": {},
   "outputs": [
    {
     "name": "stdout",
     "output_type": "stream",
     "text": [
      "Tiimmy Turner\n",
      "La La La\n",
      "我過的很好\n",
      "我過的很好\n",
      "帥到分手\n",
      "帥到分手\n",
      "迷些路 (Lost On The Way)\n",
      "迷些路 (Lost On The Way)\n",
      "Bokurano Yume\n"
     ]
    }
   ],
   "source": [
    "recommend('Panda')"
   ]
  },
  {
   "cell_type": "markdown",
   "id": "17d88569",
   "metadata": {},
   "source": [
    "<h1>Conclusion:</h1>\n",
    "\n",
    "The Music Recommendation System project aimed to develop a personalized music recommendation system using the KKBOX Music Recommendation Challenge dataset from Kaggle. Through data exploration, preprocessing, model selection, and evaluation, the project successfully created an intelligent system capable of recommending music based on user preferences and listening habits."
   ]
  },
  {
   "cell_type": "code",
   "execution_count": null,
   "id": "a53f65bd",
   "metadata": {},
   "outputs": [],
   "source": []
  }
 ],
 "metadata": {
  "kernelspec": {
   "display_name": "Python 3 (ipykernel)",
   "language": "python",
   "name": "python3"
  },
  "language_info": {
   "codemirror_mode": {
    "name": "ipython",
    "version": 3
   },
   "file_extension": ".py",
   "mimetype": "text/x-python",
   "name": "python",
   "nbconvert_exporter": "python",
   "pygments_lexer": "ipython3",
   "version": "3.11.3"
  }
 },
 "nbformat": 4,
 "nbformat_minor": 5
}
